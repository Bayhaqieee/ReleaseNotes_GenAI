{
  "nbformat": 4,
  "nbformat_minor": 0,
  "metadata": {
    "colab": {
      "provenance": [],
      "authorship_tag": "ABX9TyNJ1hzPZOqbZ37BMUuP5qOQ"
    },
    "kernelspec": {
      "name": "python3",
      "display_name": "Python 3"
    },
    "language_info": {
      "name": "python"
    },
    "widgets": {
      "application/vnd.jupyter.widget-state+json": {
        "2eae45653be54d2a9425b772ee111cdf": {
          "model_module": "@jupyter-widgets/output",
          "model_name": "OutputModel",
          "model_module_version": "1.0.0",
          "state": {
            "_dom_classes": [],
            "_model_module": "@jupyter-widgets/output",
            "_model_module_version": "1.0.0",
            "_model_name": "OutputModel",
            "_view_count": null,
            "_view_module": "@jupyter-widgets/output",
            "_view_module_version": "1.0.0",
            "_view_name": "OutputView",
            "layout": "IPY_MODEL_77241e9a8e8d4331b09364d90f45594a",
            "msg_id": "",
            "outputs": [
              {
                "output_type": "display_data",
                "data": {
                  "text/plain": "\u001b[1;36m🚀 Crew: \u001b[0m\u001b[1;36mcrew\u001b[0m\n└── \u001b[1;33m📋 Task: 3d371da4-bcdd-449c-aa43-853c3b690a92\u001b[0m\n    \u001b[37mStatus: \u001b[0m\u001b[2;33mExecuting Task...\u001b[0m\n",
                  "text/html": "<pre style=\"white-space:pre;overflow-x:auto;line-height:normal;font-family:Menlo,'DejaVu Sans Mono',consolas,'Courier New',monospace\"><span style=\"color: #008080; text-decoration-color: #008080; font-weight: bold\">🚀 Crew: crew</span>\n└── <span style=\"color: #808000; text-decoration-color: #808000; font-weight: bold\">📋 Task: 3d371da4-bcdd-449c-aa43-853c3b690a92</span>\n    <span style=\"color: #c0c0c0; text-decoration-color: #c0c0c0\">Status: </span><span style=\"color: #bfbf7f; text-decoration-color: #bfbf7f\">Executing Task...</span>\n</pre>\n"
                },
                "metadata": {}
              }
            ]
          }
        },
        "77241e9a8e8d4331b09364d90f45594a": {
          "model_module": "@jupyter-widgets/base",
          "model_name": "LayoutModel",
          "model_module_version": "1.2.0",
          "state": {
            "_model_module": "@jupyter-widgets/base",
            "_model_module_version": "1.2.0",
            "_model_name": "LayoutModel",
            "_view_count": null,
            "_view_module": "@jupyter-widgets/base",
            "_view_module_version": "1.2.0",
            "_view_name": "LayoutView",
            "align_content": null,
            "align_items": null,
            "align_self": null,
            "border": null,
            "bottom": null,
            "display": null,
            "flex": null,
            "flex_flow": null,
            "grid_area": null,
            "grid_auto_columns": null,
            "grid_auto_flow": null,
            "grid_auto_rows": null,
            "grid_column": null,
            "grid_gap": null,
            "grid_row": null,
            "grid_template_areas": null,
            "grid_template_columns": null,
            "grid_template_rows": null,
            "height": null,
            "justify_content": null,
            "justify_items": null,
            "left": null,
            "margin": null,
            "max_height": null,
            "max_width": null,
            "min_height": null,
            "min_width": null,
            "object_fit": null,
            "object_position": null,
            "order": null,
            "overflow": null,
            "overflow_x": null,
            "overflow_y": null,
            "padding": null,
            "right": null,
            "top": null,
            "visibility": null,
            "width": null
          }
        },
        "b4d4b80707ca462da4fb33d40b9464ac": {
          "model_module": "@jupyter-widgets/output",
          "model_name": "OutputModel",
          "model_module_version": "1.0.0",
          "state": {
            "_dom_classes": [],
            "_model_module": "@jupyter-widgets/output",
            "_model_module_version": "1.0.0",
            "_model_name": "OutputModel",
            "_view_count": null,
            "_view_module": "@jupyter-widgets/output",
            "_view_module_version": "1.0.0",
            "_view_name": "OutputView",
            "layout": "IPY_MODEL_944e89b7dd104f08818498242d087367",
            "msg_id": "",
            "outputs": [
              {
                "output_type": "display_data",
                "data": {
                  "text/plain": "\u001b[1;36m🚀 Crew: \u001b[0m\u001b[1;36mcrew\u001b[0m\n├── \u001b[1;32m📋 Task: 3d371da4-bcdd-449c-aa43-853c3b690a92\u001b[0m\n│   \u001b[37mAssigned to: \u001b[0m\u001b[32mPrincipal Technology Analyst\u001b[0m\n│   \u001b[37mStatus: \u001b[0m\u001b[1;32m✅ Completed\u001b[0m\n└── \u001b[1;33m📋 Task: ba5a1ab7-0e89-4619-a78b-532514487d78\u001b[0m\n    \u001b[37mStatus: \u001b[0m\u001b[2;33mExecuting Task...\u001b[0m\n",
                  "text/html": "<pre style=\"white-space:pre;overflow-x:auto;line-height:normal;font-family:Menlo,'DejaVu Sans Mono',consolas,'Courier New',monospace\"><span style=\"color: #008080; text-decoration-color: #008080; font-weight: bold\">🚀 Crew: crew</span>\n├── <span style=\"color: #008000; text-decoration-color: #008000; font-weight: bold\">📋 Task: 3d371da4-bcdd-449c-aa43-853c3b690a92</span>\n│   <span style=\"color: #c0c0c0; text-decoration-color: #c0c0c0\">Assigned to: </span><span style=\"color: #008000; text-decoration-color: #008000\">Principal Technology Analyst</span>\n│   <span style=\"color: #c0c0c0; text-decoration-color: #c0c0c0\">Status: </span><span style=\"color: #008000; text-decoration-color: #008000; font-weight: bold\">✅ Completed</span>\n└── <span style=\"color: #808000; text-decoration-color: #808000; font-weight: bold\">📋 Task: ba5a1ab7-0e89-4619-a78b-532514487d78</span>\n    <span style=\"color: #c0c0c0; text-decoration-color: #c0c0c0\">Status: </span><span style=\"color: #bfbf7f; text-decoration-color: #bfbf7f\">Executing Task...</span>\n</pre>\n"
                },
                "metadata": {}
              }
            ]
          }
        },
        "944e89b7dd104f08818498242d087367": {
          "model_module": "@jupyter-widgets/base",
          "model_name": "LayoutModel",
          "model_module_version": "1.2.0",
          "state": {
            "_model_module": "@jupyter-widgets/base",
            "_model_module_version": "1.2.0",
            "_model_name": "LayoutModel",
            "_view_count": null,
            "_view_module": "@jupyter-widgets/base",
            "_view_module_version": "1.2.0",
            "_view_name": "LayoutView",
            "align_content": null,
            "align_items": null,
            "align_self": null,
            "border": null,
            "bottom": null,
            "display": null,
            "flex": null,
            "flex_flow": null,
            "grid_area": null,
            "grid_auto_columns": null,
            "grid_auto_flow": null,
            "grid_auto_rows": null,
            "grid_column": null,
            "grid_gap": null,
            "grid_row": null,
            "grid_template_areas": null,
            "grid_template_columns": null,
            "grid_template_rows": null,
            "height": null,
            "justify_content": null,
            "justify_items": null,
            "left": null,
            "margin": null,
            "max_height": null,
            "max_width": null,
            "min_height": null,
            "min_width": null,
            "object_fit": null,
            "object_position": null,
            "order": null,
            "overflow": null,
            "overflow_x": null,
            "overflow_y": null,
            "padding": null,
            "right": null,
            "top": null,
            "visibility": null,
            "width": null
          }
        },
        "627f4e613d5941049d76c6839dd856be": {
          "model_module": "@jupyter-widgets/output",
          "model_name": "OutputModel",
          "model_module_version": "1.0.0",
          "state": {
            "_dom_classes": [],
            "_model_module": "@jupyter-widgets/output",
            "_model_module_version": "1.0.0",
            "_model_name": "OutputModel",
            "_view_count": null,
            "_view_module": "@jupyter-widgets/output",
            "_view_module_version": "1.0.0",
            "_view_name": "OutputView",
            "layout": "IPY_MODEL_0a70144d6ac8498697499a67576333ef",
            "msg_id": "",
            "outputs": [
              {
                "output_type": "display_data",
                "data": {
                  "text/plain": "\u001b[1;36m🚀 Crew: \u001b[0m\u001b[1;36mcrew\u001b[0m\n├── \u001b[1;32m📋 Task: 3d371da4-bcdd-449c-aa43-853c3b690a92\u001b[0m\n│   \u001b[37mAssigned to: \u001b[0m\u001b[32mPrincipal Technology Analyst\u001b[0m\n│   \u001b[37mStatus: \u001b[0m\u001b[1;32m✅ Completed\u001b[0m\n├── \u001b[1;32m📋 Task: ba5a1ab7-0e89-4619-a78b-532514487d78\u001b[0m\n│   \u001b[37mAssigned to: \u001b[0m\u001b[32mExpert Tech Newsletter Writer\u001b[0m\n│   \u001b[37mStatus: \u001b[0m\u001b[1;32m✅ Completed\u001b[0m\n└── \u001b[1;33m📋 Task: 1160c9f2-8830-4f33-8f51-5f566c5341f6\u001b[0m\n    \u001b[37mStatus: \u001b[0m\u001b[2;33mExecuting Task...\u001b[0m\n    └── \u001b[1;33m🔧 \u001b[0m\u001b[33mUsing Personalized HTML Email Dispatcher (1)\u001b[0m\n",
                  "text/html": "<pre style=\"white-space:pre;overflow-x:auto;line-height:normal;font-family:Menlo,'DejaVu Sans Mono',consolas,'Courier New',monospace\"><span style=\"color: #008080; text-decoration-color: #008080; font-weight: bold\">🚀 Crew: crew</span>\n├── <span style=\"color: #008000; text-decoration-color: #008000; font-weight: bold\">📋 Task: 3d371da4-bcdd-449c-aa43-853c3b690a92</span>\n│   <span style=\"color: #c0c0c0; text-decoration-color: #c0c0c0\">Assigned to: </span><span style=\"color: #008000; text-decoration-color: #008000\">Principal Technology Analyst</span>\n│   <span style=\"color: #c0c0c0; text-decoration-color: #c0c0c0\">Status: </span><span style=\"color: #008000; text-decoration-color: #008000; font-weight: bold\">✅ Completed</span>\n├── <span style=\"color: #008000; text-decoration-color: #008000; font-weight: bold\">📋 Task: ba5a1ab7-0e89-4619-a78b-532514487d78</span>\n│   <span style=\"color: #c0c0c0; text-decoration-color: #c0c0c0\">Assigned to: </span><span style=\"color: #008000; text-decoration-color: #008000\">Expert Tech Newsletter Writer</span>\n│   <span style=\"color: #c0c0c0; text-decoration-color: #c0c0c0\">Status: </span><span style=\"color: #008000; text-decoration-color: #008000; font-weight: bold\">✅ Completed</span>\n└── <span style=\"color: #808000; text-decoration-color: #808000; font-weight: bold\">📋 Task: 1160c9f2-8830-4f33-8f51-5f566c5341f6</span>\n    <span style=\"color: #c0c0c0; text-decoration-color: #c0c0c0\">Status: </span><span style=\"color: #bfbf7f; text-decoration-color: #bfbf7f\">Executing Task...</span>\n    └── <span style=\"color: #808000; text-decoration-color: #808000; font-weight: bold\">🔧 </span><span style=\"color: #808000; text-decoration-color: #808000\">Using Personalized HTML Email Dispatcher (1)</span>\n</pre>\n"
                },
                "metadata": {}
              }
            ]
          }
        },
        "0a70144d6ac8498697499a67576333ef": {
          "model_module": "@jupyter-widgets/base",
          "model_name": "LayoutModel",
          "model_module_version": "1.2.0",
          "state": {
            "_model_module": "@jupyter-widgets/base",
            "_model_module_version": "1.2.0",
            "_model_name": "LayoutModel",
            "_view_count": null,
            "_view_module": "@jupyter-widgets/base",
            "_view_module_version": "1.2.0",
            "_view_name": "LayoutView",
            "align_content": null,
            "align_items": null,
            "align_self": null,
            "border": null,
            "bottom": null,
            "display": null,
            "flex": null,
            "flex_flow": null,
            "grid_area": null,
            "grid_auto_columns": null,
            "grid_auto_flow": null,
            "grid_auto_rows": null,
            "grid_column": null,
            "grid_gap": null,
            "grid_row": null,
            "grid_template_areas": null,
            "grid_template_columns": null,
            "grid_template_rows": null,
            "height": null,
            "justify_content": null,
            "justify_items": null,
            "left": null,
            "margin": null,
            "max_height": null,
            "max_width": null,
            "min_height": null,
            "min_width": null,
            "object_fit": null,
            "object_position": null,
            "order": null,
            "overflow": null,
            "overflow_x": null,
            "overflow_y": null,
            "padding": null,
            "right": null,
            "top": null,
            "visibility": null,
            "width": null
          }
        },
        "6409a30efc884b51a85d8162a917bbf0": {
          "model_module": "@jupyter-widgets/output",
          "model_name": "OutputModel",
          "model_module_version": "1.0.0",
          "state": {
            "_dom_classes": [],
            "_model_module": "@jupyter-widgets/output",
            "_model_module_version": "1.0.0",
            "_model_name": "OutputModel",
            "_view_count": null,
            "_view_module": "@jupyter-widgets/output",
            "_view_module_version": "1.0.0",
            "_view_name": "OutputView",
            "layout": "IPY_MODEL_f08072f144614356a6a513425c30a639",
            "msg_id": "",
            "outputs": [
              {
                "output_type": "display_data",
                "data": {
                  "text/plain": "\u001b[1;36m🚀 Crew: \u001b[0m\u001b[1;36mcrew\u001b[0m\n├── \u001b[1;32m📋 Task: 3d371da4-bcdd-449c-aa43-853c3b690a92\u001b[0m\n│   \u001b[37mAssigned to: \u001b[0m\u001b[32mPrincipal Technology Analyst\u001b[0m\n│   \u001b[37mStatus: \u001b[0m\u001b[1;32m✅ Completed\u001b[0m\n├── \u001b[1;32m📋 Task: ba5a1ab7-0e89-4619-a78b-532514487d78\u001b[0m\n│   \u001b[37mAssigned to: \u001b[0m\u001b[32mExpert Tech Newsletter Writer\u001b[0m\n│   \u001b[37mStatus: \u001b[0m\u001b[1;32m✅ Completed\u001b[0m\n└── \u001b[1;33m📋 Task: 1160c9f2-8830-4f33-8f51-5f566c5341f6\u001b[0m\n    \u001b[37mStatus: \u001b[0m\u001b[2;33mExecuting Task...\u001b[0m\n    └── \u001b[1;32m🔧 \u001b[0m\u001b[32mUsed Personalized HTML Email Dispatcher (1)\u001b[0m\n",
                  "text/html": "<pre style=\"white-space:pre;overflow-x:auto;line-height:normal;font-family:Menlo,'DejaVu Sans Mono',consolas,'Courier New',monospace\"><span style=\"color: #008080; text-decoration-color: #008080; font-weight: bold\">🚀 Crew: crew</span>\n├── <span style=\"color: #008000; text-decoration-color: #008000; font-weight: bold\">📋 Task: 3d371da4-bcdd-449c-aa43-853c3b690a92</span>\n│   <span style=\"color: #c0c0c0; text-decoration-color: #c0c0c0\">Assigned to: </span><span style=\"color: #008000; text-decoration-color: #008000\">Principal Technology Analyst</span>\n│   <span style=\"color: #c0c0c0; text-decoration-color: #c0c0c0\">Status: </span><span style=\"color: #008000; text-decoration-color: #008000; font-weight: bold\">✅ Completed</span>\n├── <span style=\"color: #008000; text-decoration-color: #008000; font-weight: bold\">📋 Task: ba5a1ab7-0e89-4619-a78b-532514487d78</span>\n│   <span style=\"color: #c0c0c0; text-decoration-color: #c0c0c0\">Assigned to: </span><span style=\"color: #008000; text-decoration-color: #008000\">Expert Tech Newsletter Writer</span>\n│   <span style=\"color: #c0c0c0; text-decoration-color: #c0c0c0\">Status: </span><span style=\"color: #008000; text-decoration-color: #008000; font-weight: bold\">✅ Completed</span>\n└── <span style=\"color: #808000; text-decoration-color: #808000; font-weight: bold\">📋 Task: 1160c9f2-8830-4f33-8f51-5f566c5341f6</span>\n    <span style=\"color: #c0c0c0; text-decoration-color: #c0c0c0\">Status: </span><span style=\"color: #bfbf7f; text-decoration-color: #bfbf7f\">Executing Task...</span>\n    └── <span style=\"color: #008000; text-decoration-color: #008000; font-weight: bold\">🔧 </span><span style=\"color: #008000; text-decoration-color: #008000\">Used Personalized HTML Email Dispatcher (1)</span>\n</pre>\n"
                },
                "metadata": {}
              }
            ]
          }
        },
        "f08072f144614356a6a513425c30a639": {
          "model_module": "@jupyter-widgets/base",
          "model_name": "LayoutModel",
          "model_module_version": "1.2.0",
          "state": {
            "_model_module": "@jupyter-widgets/base",
            "_model_module_version": "1.2.0",
            "_model_name": "LayoutModel",
            "_view_count": null,
            "_view_module": "@jupyter-widgets/base",
            "_view_module_version": "1.2.0",
            "_view_name": "LayoutView",
            "align_content": null,
            "align_items": null,
            "align_self": null,
            "border": null,
            "bottom": null,
            "display": null,
            "flex": null,
            "flex_flow": null,
            "grid_area": null,
            "grid_auto_columns": null,
            "grid_auto_flow": null,
            "grid_auto_rows": null,
            "grid_column": null,
            "grid_gap": null,
            "grid_row": null,
            "grid_template_areas": null,
            "grid_template_columns": null,
            "grid_template_rows": null,
            "height": null,
            "justify_content": null,
            "justify_items": null,
            "left": null,
            "margin": null,
            "max_height": null,
            "max_width": null,
            "min_height": null,
            "min_width": null,
            "object_fit": null,
            "object_position": null,
            "order": null,
            "overflow": null,
            "overflow_x": null,
            "overflow_y": null,
            "padding": null,
            "right": null,
            "top": null,
            "visibility": null,
            "width": null
          }
        }
      }
    }
  },
  "cells": [
    {
      "cell_type": "markdown",
      "source": [
        "## Install Packages"
      ],
      "metadata": {
        "id": "gJ1vuF6sl32f"
      }
    },
    {
      "cell_type": "code",
      "execution_count": 1,
      "metadata": {
        "colab": {
          "base_uri": "https://localhost:8080/"
        },
        "id": "fkllZEackmzl",
        "outputId": "8ce21a86-592c-492e-e312-4fcb4fc783f8"
      },
      "outputs": [
        {
          "output_type": "stream",
          "name": "stdout",
          "text": [
            "\u001b[?25l     \u001b[90m━━━━━━━━━━━━━━━━━━━━━━━━━━━━━━━━━━━━━━━━\u001b[0m \u001b[32m0.0/65.4 kB\u001b[0m \u001b[31m?\u001b[0m eta \u001b[36m-:--:--\u001b[0m\r\u001b[2K     \u001b[90m━━━━━━━━━━━━━━━━━━━━━━━━━━━━━━━━━━━━━━━━\u001b[0m \u001b[32m65.4/65.4 kB\u001b[0m \u001b[31m2.2 MB/s\u001b[0m eta \u001b[36m0:00:00\u001b[0m\n",
            "\u001b[?25h  Preparing metadata (setup.py) ... \u001b[?25l\u001b[?25hdone\n",
            "\u001b[2K     \u001b[90m━━━━━━━━━━━━━━━━━━━━━━━━━━━━━━━━━━━━━━━━\u001b[0m \u001b[32m40.3/40.3 kB\u001b[0m \u001b[31m1.8 MB/s\u001b[0m eta \u001b[36m0:00:00\u001b[0m\n",
            "\u001b[2K     \u001b[90m━━━━━━━━━━━━━━━━━━━━━━━━━━━━━━━━━━━━━━━━\u001b[0m \u001b[32m42.8/42.8 kB\u001b[0m \u001b[31m2.0 MB/s\u001b[0m eta \u001b[36m0:00:00\u001b[0m\n",
            "\u001b[2K     \u001b[90m━━━━━━━━━━━━━━━━━━━━━━━━━━━━━━━━━━━━━━━━\u001b[0m \u001b[32m67.3/67.3 kB\u001b[0m \u001b[31m3.7 MB/s\u001b[0m eta \u001b[36m0:00:00\u001b[0m\n",
            "\u001b[?25h  Installing build dependencies ... \u001b[?25l\u001b[?25hdone\n",
            "  Getting requirements to build wheel ... \u001b[?25l\u001b[?25hdone\n",
            "  Preparing metadata (pyproject.toml) ... \u001b[?25l\u001b[?25hdone\n",
            "\u001b[2K     \u001b[90m━━━━━━━━━━━━━━━━━━━━━━━━━━━━━━━━━━━━━━━━\u001b[0m \u001b[32m48.5/48.5 kB\u001b[0m \u001b[31m1.1 MB/s\u001b[0m eta \u001b[36m0:00:00\u001b[0m\n",
            "\u001b[2K   \u001b[90m━━━━━━━━━━━━━━━━━━━━━━━━━━━━━━━━━━━━━━━━\u001b[0m \u001b[32m366.3/366.3 kB\u001b[0m \u001b[31m11.1 MB/s\u001b[0m eta \u001b[36m0:00:00\u001b[0m\n",
            "\u001b[2K   \u001b[90m━━━━━━━━━━━━━━━━━━━━━━━━━━━━━━━━━━━━━━━━\u001b[0m \u001b[32m8.6/8.6 MB\u001b[0m \u001b[31m66.6 MB/s\u001b[0m eta \u001b[36m0:00:00\u001b[0m\n",
            "\u001b[2K   \u001b[90m━━━━━━━━━━━━━━━━━━━━━━━━━━━━━━━━━━━━━━━━\u001b[0m \u001b[32m16.4/16.4 MB\u001b[0m \u001b[31m51.3 MB/s\u001b[0m eta \u001b[36m0:00:00\u001b[0m\n",
            "\u001b[2K   \u001b[90m━━━━━━━━━━━━━━━━━━━━━━━━━━━━━━━━━━━━━━━━\u001b[0m \u001b[32m650.1/650.1 kB\u001b[0m \u001b[31m27.0 MB/s\u001b[0m eta \u001b[36m0:00:00\u001b[0m\n",
            "\u001b[2K   \u001b[90m━━━━━━━━━━━━━━━━━━━━━━━━━━━━━━━━━━━━━━━━\u001b[0m \u001b[32m628.3/628.3 kB\u001b[0m \u001b[31m30.5 MB/s\u001b[0m eta \u001b[36m0:00:00\u001b[0m\n",
            "\u001b[2K   \u001b[90m━━━━━━━━━━━━━━━━━━━━━━━━━━━━━━━━━━━━━━━━\u001b[0m \u001b[32m2.4/2.4 MB\u001b[0m \u001b[31m50.2 MB/s\u001b[0m eta \u001b[36m0:00:00\u001b[0m\n",
            "\u001b[2K   \u001b[90m━━━━━━━━━━━━━━━━━━━━━━━━━━━━━━━━━━━━━━━━\u001b[0m \u001b[32m2.5/2.5 MB\u001b[0m \u001b[31m49.4 MB/s\u001b[0m eta \u001b[36m0:00:00\u001b[0m\n",
            "\u001b[2K   \u001b[90m━━━━━━━━━━━━━━━━━━━━━━━━━━━━━━━━━━━━━━━━\u001b[0m \u001b[32m31.3/31.3 MB\u001b[0m \u001b[31m20.0 MB/s\u001b[0m eta \u001b[36m0:00:00\u001b[0m\n",
            "\u001b[2K   \u001b[90m━━━━━━━━━━━━━━━━━━━━━━━━━━━━━━━━━━━━━━━━\u001b[0m \u001b[32m9.4/9.4 MB\u001b[0m \u001b[31m96.8 MB/s\u001b[0m eta \u001b[36m0:00:00\u001b[0m\n",
            "\u001b[2K   \u001b[90m━━━━━━━━━━━━━━━━━━━━━━━━━━━━━━━━━━━━━━━━\u001b[0m \u001b[32m147.8/147.8 kB\u001b[0m \u001b[31m8.4 MB/s\u001b[0m eta \u001b[36m0:00:00\u001b[0m\n",
            "\u001b[2K   \u001b[90m━━━━━━━━━━━━━━━━━━━━━━━━━━━━━━━━━━━━━━━━\u001b[0m \u001b[32m211.3/211.3 kB\u001b[0m \u001b[31m12.2 MB/s\u001b[0m eta \u001b[36m0:00:00\u001b[0m\n",
            "\u001b[2K   \u001b[90m━━━━━━━━━━━━━━━━━━━━━━━━━━━━━━━━━━━━━━━━\u001b[0m \u001b[32m50.9/50.9 kB\u001b[0m \u001b[31m2.5 MB/s\u001b[0m eta \u001b[36m0:00:00\u001b[0m\n",
            "\u001b[2K   \u001b[90m━━━━━━━━━━━━━━━━━━━━━━━━━━━━━━━━━━━━━━━━\u001b[0m \u001b[32m119.5/119.5 kB\u001b[0m \u001b[31m6.7 MB/s\u001b[0m eta \u001b[36m0:00:00\u001b[0m\n",
            "\u001b[2K   \u001b[90m━━━━━━━━━━━━━━━━━━━━━━━━━━━━━━━━━━━━━━━━\u001b[0m \u001b[32m34.8/34.8 MB\u001b[0m \u001b[31m21.3 MB/s\u001b[0m eta \u001b[36m0:00:00\u001b[0m\n",
            "\u001b[2K   \u001b[90m━━━━━━━━━━━━━━━━━━━━━━━━━━━━━━━━━━━━━━━━\u001b[0m \u001b[32m363.0/363.0 kB\u001b[0m \u001b[31m19.8 MB/s\u001b[0m eta \u001b[36m0:00:00\u001b[0m\n",
            "\u001b[2K   \u001b[90m━━━━━━━━━━━━━━━━━━━━━━━━━━━━━━━━━━━━━━━━\u001b[0m \u001b[32m65.6/65.6 kB\u001b[0m \u001b[31m3.2 MB/s\u001b[0m eta \u001b[36m0:00:00\u001b[0m\n",
            "\u001b[2K   \u001b[90m━━━━━━━━━━━━━━━━━━━━━━━━━━━━━━━━━━━━━━━━\u001b[0m \u001b[32m72.5/72.5 kB\u001b[0m \u001b[31m3.2 MB/s\u001b[0m eta \u001b[36m0:00:00\u001b[0m\n",
            "\u001b[2K   \u001b[90m━━━━━━━━━━━━━━━━━━━━━━━━━━━━━━━━━━━━━━━━\u001b[0m \u001b[32m120.0/120.0 kB\u001b[0m \u001b[31m5.8 MB/s\u001b[0m eta \u001b[36m0:00:00\u001b[0m\n",
            "\u001b[2K   \u001b[90m━━━━━━━━━━━━━━━━━━━━━━━━━━━━━━━━━━━━━━━━\u001b[0m \u001b[32m201.6/201.6 kB\u001b[0m \u001b[31m6.2 MB/s\u001b[0m eta \u001b[36m0:00:00\u001b[0m\n",
            "\u001b[2K   \u001b[90m━━━━━━━━━━━━━━━━━━━━━━━━━━━━━━━━━━━━━━━━\u001b[0m \u001b[32m60.0/60.0 kB\u001b[0m \u001b[31m3.1 MB/s\u001b[0m eta \u001b[36m0:00:00\u001b[0m\n",
            "\u001b[2K   \u001b[90m━━━━━━━━━━━━━━━━━━━━━━━━━━━━━━━━━━━━━━━━\u001b[0m \u001b[32m5.6/5.6 MB\u001b[0m \u001b[31m62.0 MB/s\u001b[0m eta \u001b[36m0:00:00\u001b[0m\n",
            "\u001b[2K   \u001b[90m━━━━━━━━━━━━━━━━━━━━━━━━━━━━━━━━━━━━━━━━\u001b[0m \u001b[32m45.2/45.2 kB\u001b[0m \u001b[31m2.0 MB/s\u001b[0m eta \u001b[36m0:00:00\u001b[0m\n",
            "\u001b[2K   \u001b[90m━━━━━━━━━━━━━━━━━━━━━━━━━━━━━━━━━━━━━━━━\u001b[0m \u001b[32m5.7/5.7 MB\u001b[0m \u001b[31m55.7 MB/s\u001b[0m eta \u001b[36m0:00:00\u001b[0m\n",
            "\u001b[2K   \u001b[90m━━━━━━━━━━━━━━━━━━━━━━━━━━━━━━━━━━━━━━━━\u001b[0m \u001b[32m57.6/57.6 kB\u001b[0m \u001b[31m1.6 MB/s\u001b[0m eta \u001b[36m0:00:00\u001b[0m\n",
            "\u001b[2K   \u001b[90m━━━━━━━━━━━━━━━━━━━━━━━━━━━━━━━━━━━━━━━━\u001b[0m \u001b[32m756.0/756.0 kB\u001b[0m \u001b[31m23.4 MB/s\u001b[0m eta \u001b[36m0:00:00\u001b[0m\n",
            "\u001b[2K   \u001b[90m━━━━━━━━━━━━━━━━━━━━━━━━━━━━━━━━━━━━━━━━\u001b[0m \u001b[32m102.1/102.1 kB\u001b[0m \u001b[31m3.9 MB/s\u001b[0m eta \u001b[36m0:00:00\u001b[0m\n",
            "\u001b[2K   \u001b[90m━━━━━━━━━━━━━━━━━━━━━━━━━━━━━━━━━━━━━━━━\u001b[0m \u001b[32m3.0/3.0 MB\u001b[0m \u001b[31m49.6 MB/s\u001b[0m eta \u001b[36m0:00:00\u001b[0m\n",
            "\u001b[2K   \u001b[90m━━━━━━━━━━━━━━━━━━━━━━━━━━━━━━━━━━━━━━━━\u001b[0m \u001b[32m236.0/236.0 kB\u001b[0m \u001b[31m9.6 MB/s\u001b[0m eta \u001b[36m0:00:00\u001b[0m\n",
            "\u001b[2K   \u001b[90m━━━━━━━━━━━━━━━━━━━━━━━━━━━━━━━━━━━━━━━━\u001b[0m \u001b[32m499.2/499.2 kB\u001b[0m \u001b[31m21.8 MB/s\u001b[0m eta \u001b[36m0:00:00\u001b[0m\n",
            "\u001b[2K   \u001b[90m━━━━━━━━━━━━━━━━━━━━━━━━━━━━━━━━━━━━━━━━\u001b[0m \u001b[32m18.7/18.7 MB\u001b[0m \u001b[31m68.2 MB/s\u001b[0m eta \u001b[36m0:00:00\u001b[0m\n",
            "\u001b[2K   \u001b[90m━━━━━━━━━━━━━━━━━━━━━━━━━━━━━━━━━━━━━━━━\u001b[0m \u001b[32m247.0/247.0 kB\u001b[0m \u001b[31m8.6 MB/s\u001b[0m eta \u001b[36m0:00:00\u001b[0m\n",
            "\u001b[2K   \u001b[90m━━━━━━━━━━━━━━━━━━━━━━━━━━━━━━━━━━━━━━━━\u001b[0m \u001b[32m293.1/293.1 kB\u001b[0m \u001b[31m13.4 MB/s\u001b[0m eta \u001b[36m0:00:00\u001b[0m\n",
            "\u001b[2K   \u001b[90m━━━━━━━━━━━━━━━━━━━━━━━━━━━━━━━━━━━━━━━━\u001b[0m \u001b[32m284.2/284.2 kB\u001b[0m \u001b[31m11.1 MB/s\u001b[0m eta \u001b[36m0:00:00\u001b[0m\n",
            "\u001b[2K   \u001b[90m━━━━━━━━━━━━━━━━━━━━━━━━━━━━━━━━━━━━━━━━\u001b[0m \u001b[32m98.0/98.0 kB\u001b[0m \u001b[31m4.6 MB/s\u001b[0m eta \u001b[36m0:00:00\u001b[0m\n",
            "\u001b[2K   \u001b[90m━━━━━━━━━━━━━━━━━━━━━━━━━━━━━━━━━━━━━━━━\u001b[0m \u001b[32m45.5/45.5 kB\u001b[0m \u001b[31m2.1 MB/s\u001b[0m eta \u001b[36m0:00:00\u001b[0m\n",
            "\u001b[2K   \u001b[90m━━━━━━━━━━━━━━━━━━━━━━━━━━━━━━━━━━━━━━━━\u001b[0m \u001b[32m131.6/131.6 kB\u001b[0m \u001b[31m5.5 MB/s\u001b[0m eta \u001b[36m0:00:00\u001b[0m\n",
            "\u001b[2K   \u001b[90m━━━━━━━━━━━━━━━━━━━━━━━━━━━━━━━━━━━━━━━━\u001b[0m \u001b[32m1.9/1.9 MB\u001b[0m \u001b[31m54.8 MB/s\u001b[0m eta \u001b[36m0:00:00\u001b[0m\n",
            "\u001b[2K   \u001b[90m━━━━━━━━━━━━━━━━━━━━━━━━━━━━━━━━━━━━━━━━\u001b[0m \u001b[32m45.1/45.1 kB\u001b[0m \u001b[31m1.9 MB/s\u001b[0m eta \u001b[36m0:00:00\u001b[0m\n",
            "\u001b[2K   \u001b[90m━━━━━━━━━━━━━━━━━━━━━━━━━━━━━━━━━━━━━━━━\u001b[0m \u001b[32m50.9/50.9 kB\u001b[0m \u001b[31m2.5 MB/s\u001b[0m eta \u001b[36m0:00:00\u001b[0m\n",
            "\u001b[2K   \u001b[90m━━━━━━━━━━━━━━━━━━━━━━━━━━━━━━━━━━━━━━━━\u001b[0m \u001b[32m178.1/178.1 kB\u001b[0m \u001b[31m9.1 MB/s\u001b[0m eta \u001b[36m0:00:00\u001b[0m\n",
            "\u001b[2K   \u001b[90m━━━━━━━━━━━━━━━━━━━━━━━━━━━━━━━━━━━━━━━━\u001b[0m \u001b[32m103.1/103.1 kB\u001b[0m \u001b[31m5.1 MB/s\u001b[0m eta \u001b[36m0:00:00\u001b[0m\n",
            "\u001b[2K   \u001b[90m━━━━━━━━━━━━━━━━━━━━━━━━━━━━━━━━━━━━━━━━\u001b[0m \u001b[32m45.9/45.9 MB\u001b[0m \u001b[31m13.2 MB/s\u001b[0m eta \u001b[36m0:00:00\u001b[0m\n",
            "\u001b[2K   \u001b[90m━━━━━━━━━━━━━━━━━━━━━━━━━━━━━━━━━━━━━━━━\u001b[0m \u001b[32m89.1/89.1 kB\u001b[0m \u001b[31m6.6 MB/s\u001b[0m eta \u001b[36m0:00:00\u001b[0m\n",
            "\u001b[2K   \u001b[90m━━━━━━━━━━━━━━━━━━━━━━━━━━━━━━━━━━━━━━━━\u001b[0m \u001b[32m313.2/313.2 kB\u001b[0m \u001b[31m19.2 MB/s\u001b[0m eta \u001b[36m0:00:00\u001b[0m\n",
            "\u001b[2K   \u001b[90m━━━━━━━━━━━━━━━━━━━━━━━━━━━━━━━━━━━━━━━━\u001b[0m \u001b[32m2.8/2.8 MB\u001b[0m \u001b[31m70.7 MB/s\u001b[0m eta \u001b[36m0:00:00\u001b[0m\n",
            "\u001b[2K   \u001b[90m━━━━━━━━━━━━━━━━━━━━━━━━━━━━━━━━━━━━━━━━\u001b[0m \u001b[32m71.1/71.1 kB\u001b[0m \u001b[31m4.2 MB/s\u001b[0m eta \u001b[36m0:00:00\u001b[0m\n",
            "\u001b[2K   \u001b[90m━━━━━━━━━━━━━━━━━━━━━━━━━━━━━━━━━━━━━━━━\u001b[0m \u001b[32m46.0/46.0 kB\u001b[0m \u001b[31m2.5 MB/s\u001b[0m eta \u001b[36m0:00:00\u001b[0m\n",
            "\u001b[2K   \u001b[90m━━━━━━━━━━━━━━━━━━━━━━━━━━━━━━━━━━━━━━━━\u001b[0m \u001b[32m291.9/291.9 kB\u001b[0m \u001b[31m11.7 MB/s\u001b[0m eta \u001b[36m0:00:00\u001b[0m\n",
            "\u001b[2K   \u001b[90m━━━━━━━━━━━━━━━━━━━━━━━━━━━━━━━━━━━━━━━━\u001b[0m \u001b[32m459.8/459.8 kB\u001b[0m \u001b[31m17.2 MB/s\u001b[0m eta \u001b[36m0:00:00\u001b[0m\n",
            "\u001b[2K   \u001b[90m━━━━━━━━━━━━━━━━━━━━━━━━━━━━━━━━━━━━━━━━\u001b[0m \u001b[32m86.8/86.8 kB\u001b[0m \u001b[31m4.8 MB/s\u001b[0m eta \u001b[36m0:00:00\u001b[0m\n",
            "\u001b[2K   \u001b[90m━━━━━━━━━━━━━━━━━━━━━━━━━━━━━━━━━━━━━━━━\u001b[0m \u001b[32m1.6/1.6 MB\u001b[0m \u001b[31m47.3 MB/s\u001b[0m eta \u001b[36m0:00:00\u001b[0m\n",
            "\u001b[2K   \u001b[90m━━━━━━━━━━━━━━━━━━━━━━━━━━━━━━━━━━━━━━━━\u001b[0m \u001b[32m209.2/209.2 kB\u001b[0m \u001b[31m11.3 MB/s\u001b[0m eta \u001b[36m0:00:00\u001b[0m\n",
            "\u001b[2K   \u001b[90m━━━━━━━━━━━━━━━━━━━━━━━━━━━━━━━━━━━━━━━━\u001b[0m \u001b[32m337.3/337.3 kB\u001b[0m \u001b[31m17.3 MB/s\u001b[0m eta \u001b[36m0:00:00\u001b[0m\n",
            "\u001b[2K   \u001b[90m━━━━━━━━━━━━━━━━━━━━━━━━━━━━━━━━━━━━━━━━\u001b[0m \u001b[32m4.0/4.0 MB\u001b[0m \u001b[31m76.1 MB/s\u001b[0m eta \u001b[36m0:00:00\u001b[0m\n",
            "\u001b[2K   \u001b[90m━━━━━━━━━━━━━━━━━━━━━━━━━━━━━━━━━━━━━━━━\u001b[0m \u001b[32m453.1/453.1 kB\u001b[0m \u001b[31m23.0 MB/s\u001b[0m eta \u001b[36m0:00:00\u001b[0m\n",
            "\u001b[2K   \u001b[90m━━━━━━━━━━━━━━━━━━━━━━━━━━━━━━━━━━━━━━━━\u001b[0m \u001b[32m3.3/3.3 MB\u001b[0m \u001b[31m73.6 MB/s\u001b[0m eta \u001b[36m0:00:00\u001b[0m\n",
            "\u001b[?25h  Building wheel for undetected-chromedriver (setup.py) ... \u001b[?25l\u001b[?25hdone\n",
            "  Building wheel for pypika (pyproject.toml) ... \u001b[?25l\u001b[?25hdone\n",
            "\u001b[31mERROR: pip's dependency resolver does not currently take into account all the packages that are installed. This behaviour is the source of the following dependency conflicts.\n",
            "transformers 4.54.0 requires tokenizers<0.22,>=0.21, but you have tokenizers 0.20.3 which is incompatible.\u001b[0m\u001b[31m\n",
            "\u001b[0m"
          ]
        }
      ],
      "source": [
        "!pip install -qU crewai crewai-tools langchain-openai langchain-community beautifulsoup4 faiss-cpu selenium undetected-chromedriver"
      ]
    },
    {
      "cell_type": "markdown",
      "source": [
        "### Selenium"
      ],
      "metadata": {
        "id": "FSyLhF42qxA5"
      }
    },
    {
      "cell_type": "code",
      "source": [
        "!sudo apt-get update -y\n",
        "!sudo apt-get install -y chromium-chromedriver\n",
        "!sudo cp /usr/lib/chromium-browser/chromedriver /usr/bin"
      ],
      "metadata": {
        "colab": {
          "base_uri": "https://localhost:8080/"
        },
        "id": "9fRqSqItqyS9",
        "outputId": "fbb811dd-426b-4002-c0ab-6d771e8949e5"
      },
      "execution_count": 2,
      "outputs": [
        {
          "output_type": "stream",
          "name": "stdout",
          "text": [
            "\r0% [Working]\r            \rGet:1 https://cloud.r-project.org/bin/linux/ubuntu jammy-cran40/ InRelease [3,632 B]\n",
            "Hit:2 https://developer.download.nvidia.com/compute/cuda/repos/ubuntu2204/x86_64  InRelease\n",
            "Get:3 http://security.ubuntu.com/ubuntu jammy-security InRelease [129 kB]\n",
            "Get:4 https://r2u.stat.illinois.edu/ubuntu jammy InRelease [6,555 B]\n",
            "Hit:5 http://archive.ubuntu.com/ubuntu jammy InRelease\n",
            "Get:6 http://archive.ubuntu.com/ubuntu jammy-updates InRelease [128 kB]\n",
            "Get:7 https://r2u.stat.illinois.edu/ubuntu jammy/main all Packages [9,161 kB]\n",
            "Hit:8 https://ppa.launchpadcontent.net/deadsnakes/ppa/ubuntu jammy InRelease\n",
            "Hit:9 https://ppa.launchpadcontent.net/graphics-drivers/ppa/ubuntu jammy InRelease\n",
            "Hit:10 https://ppa.launchpadcontent.net/ubuntugis/ppa/ubuntu jammy InRelease\n",
            "Get:11 http://archive.ubuntu.com/ubuntu jammy-backports InRelease [127 kB]\n",
            "Get:12 https://r2u.stat.illinois.edu/ubuntu jammy/main amd64 Packages [2,775 kB]\n",
            "Get:13 http://security.ubuntu.com/ubuntu jammy-security/main amd64 Packages [3,160 kB]\n",
            "Get:14 http://security.ubuntu.com/ubuntu jammy-security/universe amd64 Packages [1,269 kB]\n",
            "Get:15 http://archive.ubuntu.com/ubuntu jammy-updates/universe amd64 Packages [1,574 kB]\n",
            "Get:16 http://archive.ubuntu.com/ubuntu jammy-updates/main amd64 Packages [3,508 kB]\n",
            "Get:17 http://archive.ubuntu.com/ubuntu jammy-updates/restricted amd64 Packages [5,255 kB]\n",
            "Fetched 27.1 MB in 6s (4,204 kB/s)\n",
            "Reading package lists... Done\n",
            "W: Skipping acquire of configured file 'main/source/Sources' as repository 'https://r2u.stat.illinois.edu/ubuntu jammy InRelease' does not seem to provide it (sources.list entry misspelt?)\n",
            "Reading package lists... Done\n",
            "Building dependency tree... Done\n",
            "Reading state information... Done\n",
            "The following additional packages will be installed:\n",
            "  apparmor chromium-browser libfuse3-3 libudev1 snapd squashfs-tools\n",
            "  systemd-hwe-hwdb udev\n",
            "Suggested packages:\n",
            "  apparmor-profiles-extra apparmor-utils fuse3 zenity | kdialog\n",
            "The following NEW packages will be installed:\n",
            "  apparmor chromium-browser chromium-chromedriver libfuse3-3 snapd\n",
            "  squashfs-tools systemd-hwe-hwdb udev\n",
            "The following packages will be upgraded:\n",
            "  libudev1\n",
            "1 upgraded, 8 newly installed, 0 to remove and 41 not upgraded.\n",
            "Need to get 30.3 MB of archives.\n",
            "After this operation, 123 MB of additional disk space will be used.\n",
            "Get:1 http://archive.ubuntu.com/ubuntu jammy-updates/main amd64 apparmor amd64 3.0.4-2ubuntu2.4 [598 kB]\n",
            "Get:2 http://archive.ubuntu.com/ubuntu jammy/main amd64 squashfs-tools amd64 1:4.5-3build1 [159 kB]\n",
            "Get:3 http://archive.ubuntu.com/ubuntu jammy-updates/main amd64 libudev1 amd64 249.11-0ubuntu3.16 [76.7 kB]\n",
            "Get:4 http://archive.ubuntu.com/ubuntu jammy-updates/main amd64 udev amd64 249.11-0ubuntu3.16 [1,557 kB]\n",
            "Get:5 http://archive.ubuntu.com/ubuntu jammy/main amd64 libfuse3-3 amd64 3.10.5-1build1 [81.2 kB]\n",
            "Get:6 http://archive.ubuntu.com/ubuntu jammy-updates/main amd64 snapd amd64 2.67.1+22.04 [27.8 MB]\n",
            "Get:7 http://archive.ubuntu.com/ubuntu jammy-updates/universe amd64 chromium-browser amd64 1:85.0.4183.83-0ubuntu2.22.04.1 [49.2 kB]\n",
            "Get:8 http://archive.ubuntu.com/ubuntu jammy-updates/universe amd64 chromium-chromedriver amd64 1:85.0.4183.83-0ubuntu2.22.04.1 [2,308 B]\n",
            "Get:9 http://archive.ubuntu.com/ubuntu jammy-updates/main amd64 systemd-hwe-hwdb all 249.11.5 [3,228 B]\n",
            "Fetched 30.3 MB in 2s (15.2 MB/s)\n",
            "debconf: unable to initialize frontend: Dialog\n",
            "debconf: (No usable dialog-like program is installed, so the dialog based frontend cannot be used. at /usr/share/perl5/Debconf/FrontEnd/Dialog.pm line 78, <> line 9.)\n",
            "debconf: falling back to frontend: Readline\n",
            "debconf: unable to initialize frontend: Readline\n",
            "debconf: (This frontend requires a controlling tty.)\n",
            "debconf: falling back to frontend: Teletype\n",
            "dpkg-preconfigure: unable to re-open stdin: \n",
            "Selecting previously unselected package apparmor.\n",
            "(Reading database ... 126284 files and directories currently installed.)\n",
            "Preparing to unpack .../apparmor_3.0.4-2ubuntu2.4_amd64.deb ...\n",
            "Unpacking apparmor (3.0.4-2ubuntu2.4) ...\n",
            "Selecting previously unselected package squashfs-tools.\n",
            "Preparing to unpack .../squashfs-tools_1%3a4.5-3build1_amd64.deb ...\n",
            "Unpacking squashfs-tools (1:4.5-3build1) ...\n",
            "Preparing to unpack .../libudev1_249.11-0ubuntu3.16_amd64.deb ...\n",
            "Unpacking libudev1:amd64 (249.11-0ubuntu3.16) over (249.11-0ubuntu3.12) ...\n",
            "Setting up libudev1:amd64 (249.11-0ubuntu3.16) ...\n",
            "Selecting previously unselected package udev.\n",
            "(Reading database ... 126484 files and directories currently installed.)\n",
            "Preparing to unpack .../udev_249.11-0ubuntu3.16_amd64.deb ...\n",
            "Unpacking udev (249.11-0ubuntu3.16) ...\n",
            "Selecting previously unselected package libfuse3-3:amd64.\n",
            "Preparing to unpack .../libfuse3-3_3.10.5-1build1_amd64.deb ...\n",
            "Unpacking libfuse3-3:amd64 (3.10.5-1build1) ...\n",
            "Selecting previously unselected package snapd.\n",
            "Preparing to unpack .../snapd_2.67.1+22.04_amd64.deb ...\n",
            "Unpacking snapd (2.67.1+22.04) ...\n",
            "Setting up apparmor (3.0.4-2ubuntu2.4) ...\n",
            "debconf: unable to initialize frontend: Dialog\n",
            "debconf: (No usable dialog-like program is installed, so the dialog based frontend cannot be used. at /usr/share/perl5/Debconf/FrontEnd/Dialog.pm line 78.)\n",
            "debconf: falling back to frontend: Readline\n",
            "Created symlink /etc/systemd/system/sysinit.target.wants/apparmor.service → /lib/systemd/system/apparmor.service.\n",
            "Setting up squashfs-tools (1:4.5-3build1) ...\n",
            "Setting up udev (249.11-0ubuntu3.16) ...\n",
            "invoke-rc.d: could not determine current runlevel\n",
            "invoke-rc.d: policy-rc.d denied execution of start.\n",
            "Setting up libfuse3-3:amd64 (3.10.5-1build1) ...\n",
            "Setting up snapd (2.67.1+22.04) ...\n",
            "Created symlink /etc/systemd/system/multi-user.target.wants/snapd.apparmor.service → /lib/systemd/system/snapd.apparmor.service.\n",
            "Created symlink /etc/systemd/system/multi-user.target.wants/snapd.autoimport.service → /lib/systemd/system/snapd.autoimport.service.\n",
            "Created symlink /etc/systemd/system/multi-user.target.wants/snapd.core-fixup.service → /lib/systemd/system/snapd.core-fixup.service.\n",
            "Created symlink /etc/systemd/system/multi-user.target.wants/snapd.recovery-chooser-trigger.service → /lib/systemd/system/snapd.recovery-chooser-trigger.service.\n",
            "Created symlink /etc/systemd/system/multi-user.target.wants/snapd.seeded.service → /lib/systemd/system/snapd.seeded.service.\n",
            "Created symlink /etc/systemd/system/cloud-final.service.wants/snapd.seeded.service → /lib/systemd/system/snapd.seeded.service.\n",
            "Unit /lib/systemd/system/snapd.seeded.service is added as a dependency to a non-existent unit cloud-final.service.\n",
            "Created symlink /etc/systemd/system/multi-user.target.wants/snapd.service → /lib/systemd/system/snapd.service.\n",
            "Created symlink /etc/systemd/system/timers.target.wants/snapd.snap-repair.timer → /lib/systemd/system/snapd.snap-repair.timer.\n",
            "Created symlink /etc/systemd/system/sockets.target.wants/snapd.socket → /lib/systemd/system/snapd.socket.\n",
            "Created symlink /etc/systemd/system/final.target.wants/snapd.system-shutdown.service → /lib/systemd/system/snapd.system-shutdown.service.\n",
            "Selecting previously unselected package chromium-browser.\n",
            "(Reading database ... 126713 files and directories currently installed.)\n",
            "Preparing to unpack .../chromium-browser_1%3a85.0.4183.83-0ubuntu2.22.04.1_amd64.deb ...\n",
            "debconf: unable to initialize frontend: Dialog\n",
            "debconf: (No usable dialog-like program is installed, so the dialog based frontend cannot be used. at /usr/share/perl5/Debconf/FrontEnd/Dialog.pm line 78.)\n",
            "debconf: falling back to frontend: Readline\n",
            "=> Installing the chromium snap\n",
            "==> Checking connectivity with the snap store\n",
            "===> System doesn't have a working snapd, skipping\n",
            "Unpacking chromium-browser (1:85.0.4183.83-0ubuntu2.22.04.1) ...\n",
            "Selecting previously unselected package chromium-chromedriver.\n",
            "Preparing to unpack .../chromium-chromedriver_1%3a85.0.4183.83-0ubuntu2.22.04.1_amd64.deb ...\n",
            "Unpacking chromium-chromedriver (1:85.0.4183.83-0ubuntu2.22.04.1) ...\n",
            "Selecting previously unselected package systemd-hwe-hwdb.\n",
            "Preparing to unpack .../systemd-hwe-hwdb_249.11.5_all.deb ...\n",
            "Unpacking systemd-hwe-hwdb (249.11.5) ...\n",
            "Setting up systemd-hwe-hwdb (249.11.5) ...\n",
            "Setting up chromium-browser (1:85.0.4183.83-0ubuntu2.22.04.1) ...\n",
            "update-alternatives: using /usr/bin/chromium-browser to provide /usr/bin/x-www-browser (x-www-browser) in auto mode\n",
            "update-alternatives: using /usr/bin/chromium-browser to provide /usr/bin/gnome-www-browser (gnome-www-browser) in auto mode\n",
            "Setting up chromium-chromedriver (1:85.0.4183.83-0ubuntu2.22.04.1) ...\n",
            "Processing triggers for udev (249.11-0ubuntu3.16) ...\n",
            "Processing triggers for mailcap (3.70+nmu1ubuntu1) ...\n",
            "Processing triggers for hicolor-icon-theme (0.17-2) ...\n",
            "Processing triggers for libc-bin (2.35-0ubuntu3.8) ...\n",
            "/sbin/ldconfig.real: /usr/local/lib/libur_adapter_level_zero.so.0 is not a symbolic link\n",
            "\n",
            "/sbin/ldconfig.real: /usr/local/lib/libtcm_debug.so.1 is not a symbolic link\n",
            "\n",
            "/sbin/ldconfig.real: /usr/local/lib/libtbb.so.12 is not a symbolic link\n",
            "\n",
            "/sbin/ldconfig.real: /usr/local/lib/libtbbbind_2_0.so.3 is not a symbolic link\n",
            "\n",
            "/sbin/ldconfig.real: /usr/local/lib/libtbbbind_2_5.so.3 is not a symbolic link\n",
            "\n",
            "/sbin/ldconfig.real: /usr/local/lib/libur_adapter_opencl.so.0 is not a symbolic link\n",
            "\n",
            "/sbin/ldconfig.real: /usr/local/lib/libtbbmalloc.so.2 is not a symbolic link\n",
            "\n",
            "/sbin/ldconfig.real: /usr/local/lib/libumf.so.0 is not a symbolic link\n",
            "\n",
            "/sbin/ldconfig.real: /usr/local/lib/libtcm.so.1 is not a symbolic link\n",
            "\n",
            "/sbin/ldconfig.real: /usr/local/lib/libtbbbind.so.3 is not a symbolic link\n",
            "\n",
            "/sbin/ldconfig.real: /usr/local/lib/libur_loader.so.0 is not a symbolic link\n",
            "\n",
            "/sbin/ldconfig.real: /usr/local/lib/libhwloc.so.15 is not a symbolic link\n",
            "\n",
            "/sbin/ldconfig.real: /usr/local/lib/libtbbmalloc_proxy.so.2 is not a symbolic link\n",
            "\n",
            "/sbin/ldconfig.real: /usr/local/lib/libur_adapter_level_zero_v2.so.0 is not a symbolic link\n",
            "\n",
            "Processing triggers for man-db (2.10.2-1) ...\n",
            "Processing triggers for dbus (1.12.20-2ubuntu4.1) ...\n",
            "cp: '/usr/lib/chromium-browser/chromedriver' and '/usr/bin/chromedriver' are the same file\n"
          ]
        }
      ]
    },
    {
      "cell_type": "markdown",
      "source": [
        "## Config. Environment"
      ],
      "metadata": {
        "id": "AX00D0SMl8Hx"
      }
    },
    {
      "cell_type": "code",
      "source": [
        "import os\n",
        "from google.colab import userdata\n",
        "\n",
        "try:\n",
        "    os.environ[\"AZURE_API_KEY\"] = userdata.get('AZURE_OPENAI_API_KEY')\n",
        "    os.environ[\"AZURE_API_BASE\"] = userdata.get('AZURE_OPENAI_ENDPOINT')\n",
        "    os.environ[\"AZURE_API_VERSION\"] = userdata.get('OPENAI_API_VERSION')\n",
        "    os.environ[\"AZURE_DEPLOYMENT_ID\"] = userdata.get('AZURE_OPENAI_CHAT_DEPLOYMENT_NAME')\n",
        "    os.environ[\"AZURE_EMBEDDING_DEPLOYMENT_NAME\"] = userdata.get('AZURE_OPENAI_EMBEDDING_DEPLOYMENT_NAME') # Add this line\n",
        "    os.environ[\"OPENAI_API_TYPE\"] = 'azure' # Keep this to explicitly set the provider type for LiteLLM\n",
        "    EMAIL_ADDRESS = userdata.get('EMAIL_ADDRESS')\n",
        "    EMAIL_PASSWORD = userdata.get('EMAIL_PASSWORD')\n",
        "\n",
        "    if not all([os.environ.get(\"AZURE_OPENAI_API_KEY\"), os.environ.get(\"AZURE_OPENAI_ENDPOINT\"), os.environ.get(\"AZURE_OPENAI_CHAT_DEPLOYMENT_NAME\"), EMAIL_ADDRESS, EMAIL_PASSWORD]):\n",
        "        raise ValueError(\"One or more secrets are missing.\")\n",
        "\n",
        "    print(\"All secrets loaded successfully!\")\n",
        "\n",
        "except Exception as e:\n",
        "    print(f\"Error loading secrets: {e}. Please check the 'Secrets'.\")"
      ],
      "metadata": {
        "colab": {
          "base_uri": "https://localhost:8080/"
        },
        "id": "lb-MhA-xmACq",
        "outputId": "adcc263e-7688-42d1-958f-a4c0608688bf"
      },
      "execution_count": 35,
      "outputs": [
        {
          "output_type": "stream",
          "name": "stdout",
          "text": [
            "All secrets loaded successfully!\n"
          ]
        }
      ]
    },
    {
      "cell_type": "code",
      "source": [
        "%%writefile recipients.csv\n",
        "name,email\n",
        "Aditya Bayhaqie,adityabayhaqie@gmail.com\n",
        "Umar Bayhaqie,thisismebayhaqie@gmail.com\n",
        "Jack Waltz,jackwaltz001@gmail.com"
      ],
      "metadata": {
        "colab": {
          "base_uri": "https://localhost:8080/"
        },
        "id": "h6kfZBSDCZ2U",
        "outputId": "7fd54a71-8449-497c-f14d-8dc214177df2"
      },
      "execution_count": 44,
      "outputs": [
        {
          "output_type": "stream",
          "name": "stdout",
          "text": [
            "Overwriting recipients.csv\n"
          ]
        }
      ]
    },
    {
      "cell_type": "markdown",
      "source": [
        "## Web Scraping"
      ],
      "metadata": {
        "id": "ckFMRL7lq6Ss"
      }
    },
    {
      "cell_type": "code",
      "source": [
        "import requests\n",
        "import re\n",
        "import time\n",
        "from bs4 import BeautifulSoup\n",
        "from selenium import webdriver\n",
        "from selenium.webdriver.chrome.options import Options\n",
        "from selenium.webdriver.common.by import By\n",
        "from selenium.webdriver.support.ui import WebDriverWait\n",
        "from selenium.webdriver.support import expected_conditions as EC\n",
        "from selenium.common.exceptions import StaleElementReferenceException, TimeoutException, NoSuchElementException\n",
        "from urllib.parse import urljoin, urldefrag\n",
        "from dateutil.parser import parse as parse_date"
      ],
      "metadata": {
        "id": "Do4PZTnMq7Lo"
      },
      "execution_count": 14,
      "outputs": []
    },
    {
      "cell_type": "code",
      "source": [
        "# Document class to hold content and metadata\n",
        "class Document:\n",
        "    def __init__(self, page_content, metadata):\n",
        "        self.page_content = page_content\n",
        "        self.metadata = metadata\n",
        "    def __repr__(self):\n",
        "        return f\"Document(metadata={self.metadata})\""
      ],
      "metadata": {
        "id": "nv5ufBQWuk0z"
      },
      "execution_count": 15,
      "outputs": []
    },
    {
      "cell_type": "code",
      "source": [
        "def scrape_github_releases(api_url):\n",
        "    documents = []\n",
        "    try:\n",
        "        response = requests.get(f\"{api_url}?per_page=15\", timeout=15)\n",
        "        response.raise_for_status()\n",
        "        releases = response.json()\n",
        "        for release in releases:\n",
        "            content = f\"## {release.get('name', 'Untitled Release')}\\\\n\\\\n{release.get('body', 'No description.')}\"\n",
        "            release_date = release.get('published_at', '')\n",
        "            doc = Document(\n",
        "                page_content=content,\n",
        "                metadata={\n",
        "                    \"source\": \"https://github.com/langflow-ai/langflow/releases\",\n",
        "                    \"release_date\": release_date.split('T')[0] if release_date else 'unknown'\n",
        "                }\n",
        "            )\n",
        "            documents.append(doc)\n",
        "        return documents\n",
        "    except requests.RequestException as e:\n",
        "        print(f\"Error fetching GitHub releases from {api_url}: {e}\")\n",
        "        return []"
      ],
      "metadata": {
        "id": "G3TrR77Yujh9"
      },
      "execution_count": 16,
      "outputs": []
    },
    {
      "cell_type": "code",
      "source": [
        "def scrape_simplidots_with_selenium(base_url, max_depth=2):\n",
        "    options = webdriver.ChromeOptions()\n",
        "    options.add_argument('--headless')\n",
        "    options.add_argument('--no-sandbox')\n",
        "    options.add_argument('--disable-dev-shm-usage')\n",
        "    driver = webdriver.Chrome(options=options)\n",
        "    links_to_crawl, crawled_links = {base_url}, set()\n",
        "\n",
        "    for depth in range(max_depth):\n",
        "        current_links = list(links_to_crawl - crawled_links)\n",
        "        if not current_links: break\n",
        "        for link in current_links:\n",
        "            print(f\"Finding links on (depth {depth+1}): {link}\")\n",
        "            crawled_links.add(link)\n",
        "            try:\n",
        "                driver.get(link)\n",
        "                WebDriverWait(driver, 10).until(EC.presence_of_element_located((By.XPATH, \"//a[@href]\")))\n",
        "                for _ in range(3): # Retry mechanism\n",
        "                    try:\n",
        "                        hrefs = [a.get_attribute(\"href\") for a in driver.find_elements(By.XPATH, \"//a[@href]\")]\n",
        "                        for href in hrefs:\n",
        "                            if href:\n",
        "                                full_url = urldefrag(urljoin(link, href))[0]\n",
        "                                if full_url.startswith(base_url): links_to_crawl.add(full_url)\n",
        "                        break\n",
        "                    except StaleElementReferenceException: time.sleep(0.5)\n",
        "            except Exception as e: print(f\"Could not process links on {link}: {e}\")\n",
        "    print(f\"\\\\nFound {len(links_to_crawl)} unique links. Starting content extraction...\")\n",
        "\n",
        "    all_documents = []\n",
        "    month_map = {'januari':'january', 'februari':'february', 'maret':'march', 'april':'april', 'mei':'may', 'juni':'june', 'juli':'july', 'agustus':'august', 'september':'september', 'oktober':'october', 'november':'november', 'desember':'december'}\n",
        "    for url in links_to_crawl:\n",
        "        try:\n",
        "            driver.get(url)\n",
        "            WebDriverWait(driver, 10).until(EC.presence_of_element_located((By.TAG_NAME, \"main\")))\n",
        "            full_title, release_date = driver.title, 'unknown'\n",
        "            date_pattern = r\"\\\\[?\\\\s*(\\\\d{1,2}\\\\s+[A-Za-z]+\\\\s+\\\\d{4})\\\\s*\\\\]?\"\n",
        "            match = re.search(date_pattern, full_title, re.IGNORECASE)\n",
        "            if match:\n",
        "                date_str = match.group(1).lower()\n",
        "                for indo, eng in month_map.items(): date_str = date_str.replace(indo, eng)\n",
        "                release_date = parse_date(date_str).strftime('%Y-%m-%d')\n",
        "            title = re.sub(date_pattern, '', full_title, flags=re.IGNORECASE).split('|')[0].replace(' -', '').strip()\n",
        "            if title in [\"Fitur pada SMH (Sales Management Hub)\", \"Fitur pada Canvass\", \"Fitur pada RO (Route Optimization)\", \"Feature Updates Sales Automation Platform\"] or len(title) < 10: continue\n",
        "            content = driver.find_element(By.TAG_NAME, \"main\").text.strip()\n",
        "            all_documents.append(Document(page_content=content, metadata={\"source\": url, \"title\": title, \"release_date\": release_date}))\n",
        "            print(f\"  -> Processed: {title} (Date: {release_date})\")\n",
        "        except Exception: continue\n",
        "    driver.quit()\n",
        "    return all_documents"
      ],
      "metadata": {
        "id": "Ff-Sx-H5ugdT"
      },
      "execution_count": 17,
      "outputs": []
    },
    {
      "cell_type": "code",
      "source": [
        "def scrape_anthropic_with_selenium(url):\n",
        "    options = webdriver.ChromeOptions(); options.add_argument('--headless'); options.add_argument('--no-sandbox'); options.add_argument('--disable-dev-shm-usage')\n",
        "    driver = webdriver.Chrome(options=options)\n",
        "    try:\n",
        "        driver.get(url)\n",
        "        WebDriverWait(driver, 20).until(EC.presence_of_element_located((By.TAG_NAME, \"h4\")))\n",
        "        return [Document(page_content=driver.find_element(By.TAG_NAME, \"body\").text, metadata={\"source\": url})]\n",
        "    except Exception as e:\n",
        "        print(f\"Error using Selenium for Anthropic: {e}\")\n",
        "        return []\n",
        "    finally:\n",
        "        driver.quit()"
      ],
      "metadata": {
        "id": "khPjOM3tudrb"
      },
      "execution_count": 18,
      "outputs": []
    },
    {
      "cell_type": "code",
      "source": [
        "URLS = {\n",
        "    \"simplidots\": \"https://fitur-sap.simplidots.id/\",\n",
        "    \"langflow\": \"https://api.github.com/repos/langflow-ai/langflow/releases\",\n",
        "    \"anthropic\": \"https://docs.anthropic.com/en/release-notes/api\"\n",
        "}\n",
        "print(\"Starting data scraping...\")\n",
        "all_documents = []\n",
        "all_documents.extend(scrape_simplidots_with_selenium(URLS[\"simplidots\"]))\n",
        "all_documents.extend(scrape_github_releases(URLS[\"langflow\"]))\n",
        "all_documents.extend(scrape_anthropic_with_selenium(URLS[\"anthropic\"]))\n",
        "print(f\"\\\\nScraping complete. Total documents found: {len(all_documents)}\")"
      ],
      "metadata": {
        "colab": {
          "base_uri": "https://localhost:8080/"
        },
        "id": "ZVqRf49qrC4o",
        "outputId": "6bfa2da8-7ee2-4e84-8bf4-6cf0d63ae843"
      },
      "execution_count": 19,
      "outputs": [
        {
          "output_type": "stream",
          "name": "stdout",
          "text": [
            "Starting data scraping...\n",
            "Finding links on (depth 1): https://fitur-sap.simplidots.id/\n",
            "Finding links on (depth 2): https://fitur-sap.simplidots.id/smh/fitur-pada-smh-sales-management-hub/2024/penambahan-fitur-generate-invoice-pada-sales-order-dan-fitur-cancel-si-24-july-2024\n",
            "Finding links on (depth 2): https://fitur-sap.simplidots.id/smh/fitur-pada-smh-sales-management-hub/2024/penambahan-open-api-sap-simplidots-31-july-2024\n",
            "Finding links on (depth 2): https://fitur-sap.simplidots.id/smh/fitur-pada-smh-sales-management-hub/2024/penambahan-fitur-print-dokumen-27-aug-2024\n",
            "Finding links on (depth 2): https://fitur-sap.simplidots.id/sfa/fitur-pada-sfa-sales-force-automation\n",
            "Finding links on (depth 2): https://fitur-sap.simplidots.id/canvass/fitur-pada-canvass/penambahan-dan-perbaikan-fitur-pada-canvass-versi-1.2.1-03-july-2023\n",
            "Finding links on (depth 2): https://fitur-sap.simplidots.id/smh/fitur-pada-smh-sales-management-hub/2024/penambahan-dan-pembaharuan-pada-menu-sales-invoice-2-sept-2024\n",
            "Finding links on (depth 2): https://fitur-sap.simplidots.id/route-optimization/fitur-pada-ro-route-optimization/fitur-laporan-delivery-order-delivery-summary-pada-smart-portal-07-aug-2023\n",
            "Finding links on (depth 2): https://fitur-sap.simplidots.id/smh/fitur-pada-smh-sales-management-hub/2024/penambahan-fitur-customer-stock-berdasarkan-product-focus-09-oct-2024\n",
            "Finding links on (depth 2): https://fitur-sap.simplidots.id/sfa/fitur-pada-sfa-sales-force-automation/pembaharuan-tampilan-and-fitur-baru-pada-aplikasi-sfa-sales-force-automation-10-june-2024\n",
            "Finding links on (depth 2): https://fitur-sap.simplidots.id/smh/fitur-pada-smh-sales-management-hub/2023/penambahan-fitur-price-list-default-pada-sales-order-di-smh-11-aug-2023\n",
            "Finding links on (depth 2): https://fitur-sap.simplidots.id/smh/fitur-pada-smh-sales-management-hub/2024/penambahan-marketing-banner-info-pada-halaman-registrasi-03-july-2024\n",
            "Finding links on (depth 2): https://fitur-sap.simplidots.id/smh/fitur-pada-smh-sales-management-hub/2024/pembaharuan-pada-menu-sales-invoice-smh-05-sept-2024\n",
            "Finding links on (depth 2): https://fitur-sap.simplidots.id/smh/fitur-pada-smh-sales-management-hub/2025/live-mode-kini-dilengkapi-opsi-reset-atau-tidak-reset-data-31-juli-2025\n",
            "Finding links on (depth 2): https://fitur-sap.simplidots.id/smh/fitur-pada-smh-sales-management-hub/2024/penambahan-fitur-edit-delivery-summary-10-sept-2024\n",
            "Finding links on (depth 2): https://fitur-sap.simplidots.id/smh/fitur-pada-smh-sales-management-hub/2025/custom-mapping-delivery-summary-ds-03-march-2025\n",
            "Finding links on (depth 2): https://fitur-sap.simplidots.id/smh/fitur-pada-smh-sales-management-hub/2024/pembaharuan-menu-customer-pada-sales-management-hub-smh-17-mar-2024\n",
            "Finding links on (depth 2): https://fitur-sap.simplidots.id/smh/fitur-pada-smh-sales-management-hub/2025/penambahan-fitur-impor-dan-ekspor-stok-20-march-2025\n",
            "Finding links on (depth 2): https://fitur-sap.simplidots.id/smh/fitur-pada-smh-sales-management-hub/2024/penambahan-fitur-bi-smart-portal-x-sap-28-oct-2024\n",
            "Finding links on (depth 2): https://fitur-sap.simplidots.id/smh/fitur-pada-smh-sales-management-hub/2024/penambahan-kolom-pada-hasil-export-si-sales-invoice-29-aug-2024\n",
            "Finding links on (depth 2): https://fitur-sap.simplidots.id/sfa/fitur-pada-sfa-sales-force-automation/pembaharuan-fitur-promo-pada-sfa-versi-2.17.0-17-july-2023\n",
            "Finding links on (depth 2): https://fitur-sap.simplidots.id/smart-portal/smart-portal-distributor\n",
            "Finding links on (depth 2): https://fitur-sap.simplidots.id/sfa/fitur-pada-sfa-sales-force-automation/pembaharuan-sfa-versi-3.1.4-26-dec-2024\n",
            "Finding links on (depth 2): https://fitur-sap.simplidots.id/smh/fitur-pada-smh-sales-management-hub/2025/penambahan-fitur-edit-warehouse-and-bulk-transfer-stock-25-march-2025\n",
            "Finding links on (depth 2): https://fitur-sap.simplidots.id/smh/fitur-pada-smh-sales-management-hub/2025/penambahan-fitur-customer-limit-19-may-2025\n",
            "Finding links on (depth 2): https://fitur-sap.simplidots.id/smh/fitur-pada-smh-sales-management-hub/2025/update-mengenai-coretax-format-xml-ppn-11-phase-1\n",
            "Finding links on (depth 2): https://fitur-sap.simplidots.id/smh/fitur-pada-smh-sales-management-hub/2024/penambahan-fitur-switch-tenant-untuk-multi-tenants-di-smh-28-may-2024\n",
            "Finding links on (depth 2): https://fitur-sap.simplidots.id/smh/fitur-pada-smh-sales-management-hub/2023/penambahan-fitur-integrasi-stok-dari-antzman-ke-sap\n",
            "Finding links on (depth 2): https://fitur-sap.simplidots.id/smh/fitur-pada-smh-sales-management-hub/2024/pembaharuan-menu-daily-visit-and-dashboard-pada-aplikasi-supervision-22-april-2024\n",
            "Finding links on (depth 2): https://fitur-sap.simplidots.id/route-optimization/fitur-pada-ro-route-optimization/adjustment-tampilan-peta-dan-fitur-filter-pada-rekap-surat-jalan-delivery-summary-8-nov-2023\n",
            "Finding links on (depth 2): https://fitur-sap.simplidots.id/sfa/fitur-pada-sfa-sales-force-automation/pembaharuan-sfa-versi-3.0.10-23-aug-2024\n",
            "Finding links on (depth 2): https://fitur-sap.simplidots.id/smh\n",
            "Finding links on (depth 2): https://fitur-sap.simplidots.id/smh/fitur-pada-smh-sales-management-hub/2023\n",
            "Finding links on (depth 2): https://fitur-sap.simplidots.id/smh/fitur-pada-smh-sales-management-hub/2025/new-feature-tanya-ai\n",
            "Finding links on (depth 2): https://fitur-sap.simplidots.id/smh/fitur-pada-smh-sales-management-hub/2024\n",
            "Finding links on (depth 2): https://fitur-sap.simplidots.id/smh/fitur-pada-smh-sales-management-hub/2023/adjustment-pada-top-bar-responsive-on-tablet-and-mobile-15-desember-2023\n",
            "Finding links on (depth 2): https://fitur-sap.simplidots.id/smh/fitur-pada-smh-sales-management-hub/2025/perbaikan-pemilihan-gudang-pada-buat-sales-invoice-11-juli-2025\n",
            "Finding links on (depth 2): https://fitur-sap.simplidots.id/smh/fitur-pada-smh-sales-management-hub/2025/penambahan-fitur-return-pada-smh-15-january-2025\n",
            "Finding links on (depth 2): https://fitur-sap.simplidots.id/route-optimization/fitur-pada-ro-route-optimization/penambahan-fitur-pada-route-optimization-ro-17-july-2023\n",
            "Finding links on (depth 2): https://fitur-sap.simplidots.id/smh/fitur-pada-smh-sales-management-hub/2025/penambahan-fitur-collection-03-july-2025\n",
            "Finding links on (depth 2): https://fitur-sap.simplidots.id/smh/fitur-pada-smh-sales-management-hub/2024/updates-mengenai-ppn-12\n",
            "Finding links on (depth 2): https://fitur-sap.simplidots.id/smh/fitur-pada-smh-sales-management-hub/2023/proteksi-jika-terdapat-perubahan-unit-produk-yang-telah-memiliki-transaksi-pada-smh-01-aug-2023\n",
            "Finding links on (depth 2): https://fitur-sap.simplidots.id/route-optimization/fitur-pada-ro-route-optimization\n",
            "Finding links on (depth 2): https://fitur-sap.simplidots.id/smh/fitur-pada-smh-sales-management-hub/2024/penambahan-report-sales-invoice-laporan-faktur-12-januari-2024\n",
            "Finding links on (depth 2): https://fitur-sap.simplidots.id/smh/fitur-pada-smh-sales-management-hub/2024/penambahan-fitur-promo-diskon-kuantitas-and-nominal-bertingkat-06-maret-2024\n",
            "Finding links on (depth 2): https://fitur-sap.simplidots.id/sfa/fitur-pada-sfa-sales-force-automation/pembaharuan-sfa-versi-3.2.7-26-march-2025\n",
            "Finding links on (depth 2): https://fitur-sap.simplidots.id/smh/fitur-pada-smh-sales-management-hub/2024/penambahan-fitur-e-faktur-11-sept-2024\n",
            "Finding links on (depth 2): https://fitur-sap.simplidots.id/smh/fitur-pada-smh-sales-management-hub/2024/pembaharuan-pada-manajemen-rute-kunjungan-08-may-2024\n",
            "Finding links on (depth 2): https://fitur-sap.simplidots.id/smh/fitur-pada-smh-sales-management-hub/2025/update-mengenai-coretax-format-xml-ppn-12-phase-2\n",
            "Finding links on (depth 2): https://fitur-sap.simplidots.id/smh/fitur-pada-smh-sales-management-hub/2023/penambahan-pop-up-pengumuman-simplidots-di-aplikasi-sfa-dan-canvass-23-aug-2023\n",
            "Finding links on (depth 2): https://fitur-sap.simplidots.id/smh/fitur-pada-smh-sales-management-hub/2023/penambahan-fitur-filter-updated-at-pada-sales-order-27-june-2023\n",
            "Finding links on (depth 2): https://fitur-sap.simplidots.id/canvass/fitur-pada-canvass/penambahan-fitur-dan-perbaikan-pada-canvass-12-june-2023\n",
            "Finding links on (depth 2): https://fitur-sap.simplidots.id/smh/fitur-pada-smh-sales-management-hub/2023/penambahan-marketing-banner-info-pada-halaman-login-22-desember-2023\n",
            "Finding links on (depth 2): https://fitur-sap.simplidots.id/sfa/fitur-pada-sfa-sales-force-automation/sfa-new-sales-force-automation\n",
            "Finding links on (depth 2): https://fitur-sap.simplidots.id/sfa/fitur-pada-sfa-sales-force-automation/penambahan-tampilan-peta-sebelum-check-in-26-jan-2025\n",
            "Finding links on (depth 2): https://fitur-sap.simplidots.id/smh/fitur-pada-smh-sales-management-hub/2024/pembaharuan-notifikasi-pada-smh-nov-2024\n",
            "Finding links on (depth 2): https://fitur-sap.simplidots.id/smh/fitur-pada-smh-sales-management-hub/2025\n",
            "Finding links on (depth 2): https://fitur-sap.simplidots.id/smh/fitur-pada-smh-sales-management-hub/2023/adjustment-pada-tampilan-sales-order-smh-25-sept-2023\n",
            "Finding links on (depth 2): https://fitur-sap.simplidots.id/smh/fitur-pada-smh-sales-management-hub/2025/penambahan-fitur-log-activity-pengaturan-quantity-jam-mulai-dan-akhir-promo-30-april-2025\n",
            "Finding links on (depth 2): https://fitur-sap.simplidots.id/smh/fitur-pada-smh-sales-management-hub/2025/open-api-stock-dan-unit-03-march-2025\n",
            "Finding links on (depth 2): https://fitur-sap.simplidots.id/smh/fitur-pada-smh-sales-management-hub/2023/penambahan-fitur-purchase-pembelian-pada-smh-15-november-2023\n",
            "Finding links on (depth 2): https://fitur-sap.simplidots.id/smh/fitur-pada-smh-sales-management-hub/2024/pembaharuan-menu-produk-pada-smh-02-may-2024\n",
            "Finding links on (depth 2): https://fitur-sap.simplidots.id/smart-portal/smart-portal-distributor/fitur-laporan-delivery-order-delivery-summary-pada-smart-portal-07-aug-2023\n",
            "Finding links on (depth 2): https://fitur-sap.simplidots.id/canvass/fitur-pada-canvass\n",
            "Finding links on (depth 2): https://fitur-sap.simplidots.id/sfa/fitur-pada-sfa-sales-force-automation/pembaharuan-sfa-versi-3.2.6-february-2025\n",
            "Finding links on (depth 2): https://fitur-sap.simplidots.id/sfa/fitur-pada-sfa-sales-force-automation/pembaharuan-sfa-versi-3.0.12-02-sept-2024\n",
            "Finding links on (depth 2): https://fitur-sap.simplidots.id/route-optimization/fitur-pada-ro-route-optimization/penambahan-fitur-cancel-batal-do-ds-dan-status-ds-pada-ro-21-aug-2023\n",
            "Finding links on (depth 2): https://fitur-sap.simplidots.id/smh/fitur-pada-smh-sales-management-hub/2023/adjustment-pada-daily-visit-map-geografis-kunjungan-22-sept-2023\n",
            "Finding links on (depth 2): https://fitur-sap.simplidots.id/smh/fitur-pada-smh-sales-management-hub/2025/beta-integrasi-sales-invoice-simplidots-x-accurate-online-17-juli-2025\n",
            "Finding links on (depth 2): https://fitur-sap.simplidots.id/smh/fitur-pada-smh-sales-management-hub/2024/penambahan-fitur-brand-pada-produk-19-feb-2024\n",
            "Finding links on (depth 2): https://fitur-sap.simplidots.id/sfa/fitur-pada-sfa-sales-force-automation/pembaharuan-sfa-versi-3.1.1-31-oct-2024\n",
            "Finding links on (depth 2): https://fitur-sap.simplidots.id/smh/fitur-pada-smh-sales-management-hub/2024/adjustment-pada-role-group-default-10-januari-2024\n",
            "Finding links on (depth 2): https://fitur-sap.simplidots.id/smh/fitur-pada-smh-sales-management-hub/2023/adjustment-manual-delivery-summary-and-infinite-fleet-27-desember-2023\n",
            "Finding links on (depth 2): https://fitur-sap.simplidots.id/smh/fitur-pada-smh-sales-management-hub/2024/penambahan-reset-route-pada-sales-management-hub-smh-23-januari-2024\n",
            "Finding links on (depth 2): https://fitur-sap.simplidots.id/route-optimization/fitur-pada-ro-route-optimization/penambahan-fitur-filter-customer-fleet-pada-delivery-summary\n",
            "Finding links on (depth 2): https://fitur-sap.simplidots.id/sfa/fitur-pada-sfa-sales-force-automation/pembaharuan-sfa-versi-3.1.2-06-nov-2024\n",
            "Finding links on (depth 2): https://fitur-sap.simplidots.id/smh/fitur-pada-smh-sales-management-hub/2023/adjustment-pada-minimum-akses-role-supervisor-06-sept-2023\n",
            "Finding links on (depth 2): https://fitur-sap.simplidots.id/smh/fitur-pada-smh-sales-management-hub/2024/pembaharuan-tampilan-pada-smart-portal-x-sap-28-oct-2024\n",
            "Finding links on (depth 2): https://fitur-sap.simplidots.id/smh/fitur-pada-smh-sales-management-hub/2023/penambahan-fitur-ekspor-sales-order-ke-.txt-file-extension-pada-smh-03-aug-2023\n",
            "Finding links on (depth 2): https://fitur-sap.simplidots.id/smh/fitur-pada-smh-sales-management-hub/2024/penambahan-fitur-default-setting-pada-smh-27-june-2024\n",
            "Finding links on (depth 2): https://fitur-sap.simplidots.id/route-optimization/fitur-pada-ro-route-optimization/pembaharuan-fitur-import-do-surat-jalan-pada-ro-14-aug-2023\n",
            "Finding links on (depth 2): https://fitur-sap.simplidots.id/smh/fitur-pada-smh-sales-management-hub/2024/adjustment-pada-daily-visit-table-and-daily-visit-map-smh-07-feb-2024\n",
            "Finding links on (depth 2): https://fitur-sap.simplidots.id/smh/fitur-pada-smh-sales-management-hub/2023/adjustment-pada-tampilan-top-bar-smh-19-oct-2023\n",
            "\\nFound 88 unique links. Starting content extraction...\n",
            "\\nScraping complete. Total documents found: 16\n"
          ]
        }
      ]
    },
    {
      "cell_type": "markdown",
      "source": [
        "## Advanced Preprocessing"
      ],
      "metadata": {
        "id": "64txOzO_upaj"
      }
    },
    {
      "cell_type": "code",
      "source": [
        "from langchain.text_splitter import RecursiveCharacterTextSplitter\n",
        "\n",
        "def clean_text(text):\n",
        "    text = re.sub(r'\\\\n\\\\s*\\\\n', '\\\\n\\\\n', text)\n",
        "    artifacts = [\"Was this helpful?\", \"Powered by GitBook\", \"Copy\", \"Next\", \"Previous\", \"Last updated\"]\n",
        "    for artifact in artifacts:\n",
        "        text = text.replace(artifact, \"\")\n",
        "    return text.strip()"
      ],
      "metadata": {
        "id": "VIREm_Wjuq-H"
      },
      "execution_count": 20,
      "outputs": []
    },
    {
      "cell_type": "code",
      "source": [
        "def extract_and_format_date(text):\n",
        "    month_map = {'januari': 'january', 'februari': 'february', 'maret': 'march', 'april': 'april', 'mei': 'may', 'juni': 'june', 'juli': 'july', 'agustus': 'august', 'september': 'september', 'oktober': 'october', 'november': 'november', 'desember': 'december'}\n",
        "    date_pattern = r\"(?i)(\\\\d{1,2}\\\\s+(?:Jan(?:uari)?|Feb(?:ruari)?|Mar(?:et)?|Apr(?:il)?|Mei|Jun(?:i)?|Jul(?:i)?|Agu(?:stus)?|Sep(?:tember)?|Okt(?:ober)?|Nov(?:ember)?|Des(?:ember)?)\\\\s+\\\\d{4}|(?:Jan(?:uary)?|Feb(?:ruary)?|Mar(?:ch)?|Apr(?:il)?|May|Jun(?:e)?|Jul(?:y)?|Aug(?:ust)?|Sep(?:tember)?|Oct(?:ober)?|Nov(?:ember)?|Dec(?:ember)?)\\\\s+\\\\d{1,2}(?:st|nd|rd|th)?(?:,)?\\\\s+\\\\d{4})\"\n",
        "    match = re.search(date_pattern, text)\n",
        "    if match:\n",
        "        try:\n",
        "            date_str = match.group(0).lower()\n",
        "            for indo, eng in month_map.items():\n",
        "                date_str = date_str.replace(indo, eng)\n",
        "            return parse_date(date_str)\n",
        "        except (ValueError, TypeError): return None\n",
        "    return None"
      ],
      "metadata": {
        "id": "snY_Mr0Nvhc6"
      },
      "execution_count": 21,
      "outputs": []
    },
    {
      "cell_type": "code",
      "source": [
        "# Execute Preprocessing\n",
        "print(\" Starting advanced data preprocessing...\")\n",
        "text_splitter = RecursiveCharacterTextSplitter(chunk_size=1500, chunk_overlap=150)\n",
        "final_chunks = text_splitter.split_documents(all_documents)\n",
        "\n",
        "for chunk in final_chunks:\n",
        "    chunk.page_content = clean_text(chunk.page_content)\n",
        "    if 'release_date' not in chunk.metadata or chunk.metadata['release_date'] == 'unknown':\n",
        "        extracted_date = extract_and_format_date(chunk.page_content)\n",
        "        chunk.metadata['release_date'] = extracted_date.strftime('%Y-%m-%d') if extracted_date else 'unknown'\n",
        "\n",
        "processed_docs = [chunk for chunk in final_chunks if len(chunk.page_content) > 50]\n",
        "print(f\" Preprocessing complete. Total processed chunks: {len(processed_docs)}\")"
      ],
      "metadata": {
        "colab": {
          "base_uri": "https://localhost:8080/"
        },
        "id": "PwqJhbPNvjI0",
        "outputId": "f6846694-be3c-489c-9dfc-921e84cff05c"
      },
      "execution_count": 22,
      "outputs": [
        {
          "output_type": "stream",
          "name": "stdout",
          "text": [
            " Starting advanced data preprocessing...\n",
            " Preprocessing complete. Total processed chunks: 217\n"
          ]
        }
      ]
    },
    {
      "cell_type": "markdown",
      "source": [
        "## Filter for Recent Updates"
      ],
      "metadata": {
        "id": "yY1OPkJhw7ja"
      }
    },
    {
      "cell_type": "code",
      "source": [
        "from datetime import datetime, timedelta\n",
        "\n",
        "seven_days_ago = datetime.now() - timedelta(days=21)\n",
        "recent_docs = []\n",
        "for doc in processed_docs:\n",
        "    release_date_str = doc.metadata.get('release_date')\n",
        "    if release_date_str and release_date_str != 'unknown':\n",
        "        try:\n",
        "            if datetime.strptime(release_date_str, '%Y-%m-%d') >= seven_days_ago:\n",
        "                recent_docs.append(doc)\n",
        "        except ValueError:\n",
        "            continue\n",
        "\n",
        "print(f\"Found {len(recent_docs)} documents from the last 21 days.\")\n",
        "\n",
        "if recent_docs:\n",
        "    newsletter_context = \"\\\\n\\\\n---\\\\n\\\\n\".join(\n",
        "        f\"Source: {doc.metadata.get('source', 'N/A')}\\\\n\"\n",
        "        f\"Date: {doc.metadata.get('release_date', 'N/A')}\\\\n\\\\n\"\n",
        "        f\"{doc.page_content}\"\n",
        "        for doc in recent_docs\n",
        "    )\n",
        "else:\n",
        "    newsletter_context = \"No new release notes found in the last 7 days.\""
      ],
      "metadata": {
        "colab": {
          "base_uri": "https://localhost:8080/"
        },
        "id": "it4mEQuFw9hT",
        "outputId": "a662719d-db0e-4e52-a79b-f5d7f6a45491"
      },
      "execution_count": 33,
      "outputs": [
        {
          "output_type": "stream",
          "name": "stdout",
          "text": [
            "Found 4 documents from the last 21 days.\n"
          ]
        }
      ]
    },
    {
      "cell_type": "markdown",
      "source": [
        "## Configure LLM and Tools"
      ],
      "metadata": {
        "id": "9L3Xu0_BxAAK"
      }
    },
    {
      "cell_type": "code",
      "source": [
        "import csv\n",
        "import smtplib\n",
        "import time\n",
        "from email.mime.multipart import MIMEMultipart\n",
        "from email.mime.text import MIMEText\n",
        "from langchain_openai import AzureChatOpenAI\n",
        "from crewai.tools import BaseTool\n",
        "\n",
        "try:\n",
        "    llm = AzureChatOpenAI(\n",
        "        azure_endpoint=os.environ[\"AZURE_API_BASE\"],\n",
        "        azure_deployment=os.environ[\"AZURE_DEPLOYMENT_ID\"],\n",
        "        api_key=os.environ[\"AZURE_API_KEY\"],\n",
        "        api_version=os.environ[\"AZURE_API_VERSION\"],\n",
        "        model=f\"azure/{userdata.get('AZURE_OPENAI_CHAT_DEPLOYMENT_NAME')}\"\n",
        "    )\n",
        "    print(\"Azure LLM initialized successfully.\")\n",
        "except Exception as e:\n",
        "    print(f\"Error initializing Azure LLM: {e}\")\n",
        "    print(\"Please ensure your Azure OpenAI credentials are set correctly in the cell above.\")"
      ],
      "metadata": {
        "colab": {
          "base_uri": "https://localhost:8080/"
        },
        "id": "ff1wy7jSxCjq",
        "outputId": "a79e0544-49a9-4574-fa6a-64b04f9dcd84"
      },
      "execution_count": 36,
      "outputs": [
        {
          "output_type": "stream",
          "name": "stdout",
          "text": [
            "Azure LLM initialized successfully.\n"
          ]
        }
      ]
    },
    {
      "cell_type": "code",
      "source": [
        "import csv\n",
        "import smtplib\n",
        "import time\n",
        "from email.mime.multipart import MIMEMultipart\n",
        "from email.mime.text import MIMEText\n",
        "from langchain_openai import AzureChatOpenAI\n",
        "from crewai.tools import BaseTool\n",
        "\n",
        "# Updated Email Tool with Full HTML Template\n",
        "class CSVEmailTool(BaseTool):\n",
        "    name: str = \"Personalized HTML Email Dispatcher\"\n",
        "    description: str = \"Reads 'recipients.csv' and sends a fully formatted, personalized HTML email to everyone on the list. The input is the core HTML content for the newsletter body.\"\n",
        "\n",
        "    def _run(self, newsletter_body_html: str) -> str:\n",
        "        sender_email = EMAIL_ADDRESS\n",
        "        sender_password = EMAIL_PASSWORD\n",
        "        sent_count = 0\n",
        "        recipient_list = []\n",
        "\n",
        "        try:\n",
        "            with open('recipients.csv', mode='r', encoding='utf-8') as csvfile:\n",
        "                reader = csv.DictReader(csvfile)\n",
        "                for row in reader:\n",
        "                    recipient_list.append(row)\n",
        "            if not recipient_list:\n",
        "                return \"Error: recipients.csv is empty or not found.\"\n",
        "        except FileNotFoundError:\n",
        "            return \"Error: recipients.csv not found. Please create it first.\"\n",
        "        except Exception as e:\n",
        "            return f\"Error reading CSV file: {e}\"\n",
        "\n",
        "        for recipient in recipient_list:\n",
        "            recipient_name = recipient.get(\"name\", \"there\")\n",
        "            recipient_email = recipient.get(\"email\")\n",
        "\n",
        "            if not recipient_email:\n",
        "                continue\n",
        "\n",
        "            # Create the full HTML document\n",
        "            full_html_content = f\"\"\"\n",
        "            <!DOCTYPE html>\n",
        "            <html lang=\"en\">\n",
        "            <head>\n",
        "                <meta charset=\"UTF-8\">\n",
        "                <meta name=\"viewport\" content=\"width=device-width, initial-scale=1.0\">\n",
        "                <style>\n",
        "                    body {{ font-family: sans-serif; line-height: 1.6; color: #333; }}\n",
        "                    .container {{ max-width: 600px; margin: 20px auto; padding: 20px; border: 1px solid #ddd; border-radius: 8px; }}\n",
        "                    h2 {{ color: #0056b3; }}\n",
        "                    ul {{ padding-left: 20px; }}\n",
        "                    li {{ margin-bottom: 10px; }}\n",
        "                    .footer {{ margin-top: 20px; font-size: 0.8em; color: #888; text-align: center; }}\n",
        "                </style>\n",
        "            </head>\n",
        "            <body>\n",
        "                <div class=\"container\">\n",
        "                    <p>Hi {recipient_name},</p>\n",
        "                    <p>Here are the latest updates for this week:</p>\n",
        "                    {newsletter_body_html}\n",
        "                    <hr>\n",
        "                    <p class=\"footer\">To unsubscribe, please reply to this email.</p>\n",
        "                </div>\n",
        "            </body>\n",
        "            </html>\n",
        "            \"\"\"\n",
        "\n",
        "            message = MIMEMultipart()\n",
        "            message['From'] = f\"SimpliDOTS Tech Updates <{sender_email}>\"\n",
        "            message['To'] = recipient_email\n",
        "            message['Subject'] = \"Weekly Tech Release Notes Digest\"\n",
        "\n",
        "            # Attach the body with the correct subtype\n",
        "            message.attach(MIMEText(full_html_content, 'html'))\n",
        "\n",
        "            try:\n",
        "                print(f\"Sending email to {recipient_name} at {recipient_email}...\")\n",
        "                server = smtplib.SMTP('smtp.gmail.com', 587)\n",
        "                server.starttls()\n",
        "                server.login(sender_email, sender_password)\n",
        "                server.sendmail(sender_email, recipient_email, message.as_string())\n",
        "                server.quit()\n",
        "                sent_count += 1\n",
        "                time.sleep(2)\n",
        "            except Exception as e:\n",
        "                print(f\"❌ Failed to send email to {recipient_email}. Error: {e}\")\n",
        "\n",
        "        return f\"Successfully sent personalized HTML emails to {sent_count}/{len(recipient_list)} recipients.\"\n",
        "\n",
        "# Instantiate the final tool\n",
        "email_tool = CSVEmailTool()"
      ],
      "metadata": {
        "id": "UB2viE52xGXq"
      },
      "execution_count": 46,
      "outputs": []
    },
    {
      "cell_type": "markdown",
      "source": [
        "## Define Agents"
      ],
      "metadata": {
        "id": "mDV5ue9ExIzu"
      }
    },
    {
      "cell_type": "code",
      "source": [
        "from crewai import Agent, Task\n",
        "\n",
        "analyst_agent = Agent(role=\"Principal Technology Analyst\", goal=\"Analyze provided release notes to identify critical updates.\", backstory=\"You are an expert analyst who extracts impactful information.\", llm=llm, verbose=True)\n",
        "\n",
        "expert_agent = Agent(role=\"Expert Tech Newsletter Writer\", goal=\"Craft an engaging newsletter from an analyst's report.\", backstory=\"You are a famous tech writer known for making complex topics exciting.\", llm=llm, verbose=True)\n",
        "\n",
        "dispatcher_agent = Agent(\n",
        "    role=\"Communications Dispatch Officer\",\n",
        "    goal=\"Use the email tool to send the newsletter to all recipients defined in the system's data file.\",\n",
        "    backstory=\"You are a reliable specialist ensuring important updates are dispatched correctly.\",\n",
        "    tools=[email_tool],\n",
        "    llm=llm,\n",
        "    verbose=True\n",
        ")\n",
        "\n",
        "analysis_task = Task(\n",
        "    description=(\n",
        "        \"Analyze the following text which contains software release notes from the last week. \"\n",
        "        \"Identify and list all significant new features and announcements. \"\n",
        "        \"Focus on what would be most relevant to a software development team.\\n\\n\"\n",
        "        \"HERE IS THE TEXT TO ANALYZE:\\n\"\n",
        "        \"---\"\n",
        "        \"{context}\"\n",
        "        \"---\"\n",
        "    ),\n",
        "    expected_output=\"A bullet-point list summarizing key updates, categorized by product. This will be the main body of the newsletter.\",\n",
        "    agent=analyst_agent\n",
        ")\n",
        "\n",
        "summarization_task = Task(\n",
        "    description=(\n",
        "        \"Take the analyst's report and transform it into a polished, professional HTML newsletter body. \"\n",
        "        \"Use <h2> tags for main sections (e.g., '🚀 New Features', '🐞 Bug Fixes'), \"\n",
        "        \"and an unordered list (<ul> with <li> items) for the details in each section. \"\n",
        "        \"Make the title of each list item bold using <strong> tags. \"\n",
        "        \"Do NOT include the <html>, <head>, or <body> tags, only the content that goes inside the body.\"\n",
        "    ),\n",
        "    expected_output=(\n",
        "        \"A string containing the well-formatted HTML for the newsletter body, starting with an <h2> tag.\"\n",
        "    ),\n",
        "    agent=expert_agent,\n",
        "    context=[analysis_task]\n",
        ")\n",
        "\n",
        "email_task = Task(\n",
        "    description=\"Take the composed newsletter body and use the Personalized Email Dispatcher tool. The tool will automatically find the recipients in the CSV file and send the emails.\",\n",
        "    expected_output=\"A confirmation message stating how many emails were successfully sent.\",\n",
        "    agent=dispatcher_agent,\n",
        "    context=[summarization_task]\n",
        ")"
      ],
      "metadata": {
        "id": "8QB-vl_ezt0m"
      },
      "execution_count": 47,
      "outputs": []
    },
    {
      "cell_type": "markdown",
      "source": [
        "## Assemble the Crew"
      ],
      "metadata": {
        "id": "Z9v2PUbU0h3k"
      }
    },
    {
      "cell_type": "code",
      "source": [
        "from crewai import Crew, Process\n",
        "\n",
        "release_notes_crew = Crew(\n",
        "    agents=[analyst_agent, expert_agent, dispatcher_agent],\n",
        "    tasks=[analysis_task, summarization_task, email_task],\n",
        "    process=Process.sequential,\n",
        "    verbose=True\n",
        ")\n",
        "\n",
        "# Kick off the crew's work\n",
        "print(\"Kicking off the CSV-Powered Release Notes Crew...\")\n",
        "if newsletter_context != \"No new release notes found in the last 21 days.\":\n",
        "    try:\n",
        "        result = release_notes_crew.kickoff(inputs={'context': newsletter_context})\n",
        "        print(\"\\\\n\\\\nCrew execution finished successfully!\")\n",
        "        print(\"\\\\nFinal Result:\")\n",
        "        print(result)\n",
        "    except Exception as e:\n",
        "        print(f\"\\\\n\\\\nAn error occurred during crew execution: {e}\")\n",
        "else:\n",
        "    print(\"No recent documents found to process. The crew will not run.\")"
      ],
      "metadata": {
        "colab": {
          "base_uri": "https://localhost:8080/",
          "height": 1000,
          "referenced_widgets": [
            "2eae45653be54d2a9425b772ee111cdf",
            "77241e9a8e8d4331b09364d90f45594a",
            "b4d4b80707ca462da4fb33d40b9464ac",
            "944e89b7dd104f08818498242d087367",
            "627f4e613d5941049d76c6839dd856be",
            "0a70144d6ac8498697499a67576333ef",
            "6409a30efc884b51a85d8162a917bbf0",
            "f08072f144614356a6a513425c30a639"
          ]
        },
        "id": "BwTW0DF00jnX",
        "outputId": "7cc6ad92-9f46-4536-aab9-373bfd0b54c4"
      },
      "execution_count": 48,
      "outputs": [
        {
          "output_type": "stream",
          "name": "stdout",
          "text": [
            "Kicking off the CSV-Powered Release Notes Crew...\n"
          ]
        },
        {
          "output_type": "display_data",
          "data": {
            "text/plain": [
              "\u001b[36m╭─\u001b[0m\u001b[36m───────────────────────────────────────────\u001b[0m\u001b[36m Crew Execution Started \u001b[0m\u001b[36m────────────────────────────────────────────\u001b[0m\u001b[36m─╮\u001b[0m\n",
              "\u001b[36m│\u001b[0m                                                                                                                 \u001b[36m│\u001b[0m\n",
              "\u001b[36m│\u001b[0m  \u001b[1;36mCrew Execution Started\u001b[0m                                                                                         \u001b[36m│\u001b[0m\n",
              "\u001b[36m│\u001b[0m  \u001b[37mName: \u001b[0m\u001b[36mcrew\u001b[0m                                                                                                     \u001b[36m│\u001b[0m\n",
              "\u001b[36m│\u001b[0m  \u001b[37mID: \u001b[0m\u001b[36m9ec3b12f-8d8f-4376-a356-6e22bbaa2d57\u001b[0m                                                                       \u001b[36m│\u001b[0m\n",
              "\u001b[36m│\u001b[0m  \u001b[37mTool Args: \u001b[0m                                                                                                    \u001b[36m│\u001b[0m\n",
              "\u001b[36m│\u001b[0m                                                                                                                 \u001b[36m│\u001b[0m\n",
              "\u001b[36m│\u001b[0m                                                                                                                 \u001b[36m│\u001b[0m\n",
              "\u001b[36m╰─────────────────────────────────────────────────────────────────────────────────────────────────────────────────╯\u001b[0m\n"
            ],
            "text/html": [
              "<pre style=\"white-space:pre;overflow-x:auto;line-height:normal;font-family:Menlo,'DejaVu Sans Mono',consolas,'Courier New',monospace\"><span style=\"color: #008080; text-decoration-color: #008080\">╭──────────────────────────────────────────── Crew Execution Started ─────────────────────────────────────────────╮</span>\n",
              "<span style=\"color: #008080; text-decoration-color: #008080\">│</span>                                                                                                                 <span style=\"color: #008080; text-decoration-color: #008080\">│</span>\n",
              "<span style=\"color: #008080; text-decoration-color: #008080\">│</span>  <span style=\"color: #008080; text-decoration-color: #008080; font-weight: bold\">Crew Execution Started</span>                                                                                         <span style=\"color: #008080; text-decoration-color: #008080\">│</span>\n",
              "<span style=\"color: #008080; text-decoration-color: #008080\">│</span>  <span style=\"color: #c0c0c0; text-decoration-color: #c0c0c0\">Name: </span><span style=\"color: #008080; text-decoration-color: #008080\">crew</span>                                                                                                     <span style=\"color: #008080; text-decoration-color: #008080\">│</span>\n",
              "<span style=\"color: #008080; text-decoration-color: #008080\">│</span>  <span style=\"color: #c0c0c0; text-decoration-color: #c0c0c0\">ID: </span><span style=\"color: #008080; text-decoration-color: #008080\">9ec3b12f-8d8f-4376-a356-6e22bbaa2d57</span>                                                                       <span style=\"color: #008080; text-decoration-color: #008080\">│</span>\n",
              "<span style=\"color: #008080; text-decoration-color: #008080\">│</span>  <span style=\"color: #c0c0c0; text-decoration-color: #c0c0c0\">Tool Args: </span>                                                                                                    <span style=\"color: #008080; text-decoration-color: #008080\">│</span>\n",
              "<span style=\"color: #008080; text-decoration-color: #008080\">│</span>                                                                                                                 <span style=\"color: #008080; text-decoration-color: #008080\">│</span>\n",
              "<span style=\"color: #008080; text-decoration-color: #008080\">│</span>                                                                                                                 <span style=\"color: #008080; text-decoration-color: #008080\">│</span>\n",
              "<span style=\"color: #008080; text-decoration-color: #008080\">╰─────────────────────────────────────────────────────────────────────────────────────────────────────────────────╯</span>\n",
              "</pre>\n"
            ]
          },
          "metadata": {}
        },
        {
          "output_type": "display_data",
          "data": {
            "text/plain": [
              "\n"
            ],
            "text/html": [
              "<pre style=\"white-space:pre;overflow-x:auto;line-height:normal;font-family:Menlo,'DejaVu Sans Mono',consolas,'Courier New',monospace\">\n",
              "</pre>\n"
            ]
          },
          "metadata": {}
        },
        {
          "output_type": "display_data",
          "data": {
            "text/plain": [],
            "text/html": [
              "<pre style=\"white-space:pre;overflow-x:auto;line-height:normal;font-family:Menlo,'DejaVu Sans Mono',consolas,'Courier New',monospace\"></pre>\n"
            ]
          },
          "metadata": {}
        },
        {
          "output_type": "display_data",
          "data": {
            "text/plain": [
              "\u001b[35m╭─\u001b[0m\u001b[35m──────────────────────────────────────────────\u001b[0m\u001b[35m 🤖 Agent Started \u001b[0m\u001b[35m───────────────────────────────────────────────\u001b[0m\u001b[35m─╮\u001b[0m\n",
              "\u001b[35m│\u001b[0m                                                                                                                 \u001b[35m│\u001b[0m\n",
              "\u001b[35m│\u001b[0m  \u001b[37mAgent: \u001b[0m\u001b[1;92mPrincipal Technology Analyst\u001b[0m                                                                            \u001b[35m│\u001b[0m\n",
              "\u001b[35m│\u001b[0m                                                                                                                 \u001b[35m│\u001b[0m\n",
              "\u001b[35m│\u001b[0m  \u001b[37mTask: \u001b[0m\u001b[92mAnalyze the following text which contains software release notes from the last week. Identify and list \u001b[0m  \u001b[35m│\u001b[0m\n",
              "\u001b[35m│\u001b[0m  \u001b[92mall significant new features and announcements. Focus on what would be most relevant to a software \u001b[0m            \u001b[35m│\u001b[0m\n",
              "\u001b[35m│\u001b[0m  \u001b[92mdevelopment team.\u001b[0m                                                                                              \u001b[35m│\u001b[0m\n",
              "\u001b[35m│\u001b[0m                                                                                                                 \u001b[35m│\u001b[0m\n",
              "\u001b[35m│\u001b[0m  \u001b[92mHERE IS THE TEXT TO ANALYZE:\u001b[0m                                                                                   \u001b[35m│\u001b[0m\n",
              "\u001b[35m│\u001b[0m  \u001b[92m---Source: https://github.com/langflow-ai/langflow/releases\\nDate: 2025-07-10\\n\\n## 1.5.0.post1\\n\\n<!-- \u001b[0m       \u001b[35m│\u001b[0m\n",
              "\u001b[35m│\u001b[0m  \u001b[92mRelease notes generated using configuration in .github/release.yml at 1.5.0.post1 -->\u001b[0m                          \u001b[35m│\u001b[0m\n",
              "\u001b[35m│\u001b[0m                                                                                                                 \u001b[35m│\u001b[0m\n",
              "\u001b[35m│\u001b[0m  \u001b[92m## What's Changed\u001b[0m                                                                                              \u001b[35m│\u001b[0m\n",
              "\u001b[35m│\u001b[0m  \u001b[92m### ✨ New Features\u001b[0m                                                                                            \u001b[35m│\u001b[0m\n",
              "\u001b[35m│\u001b[0m  \u001b[92m* feat: Add dynamic theming support to WatsonxAI icon by @Cristhianzl in \u001b[0m                                      \u001b[35m│\u001b[0m\n",
              "\u001b[35m│\u001b[0m  \u001b[92mhttps://github.com/langflow-ai/langflow/pull/8935\u001b[0m                                                              \u001b[35m│\u001b[0m\n",
              "\u001b[35m│\u001b[0m  \u001b[92m* feat: jigsawstack bundle integration by @Khurdhula-Harshavardhan in \u001b[0m                                         \u001b[35m│\u001b[0m\n",
              "\u001b[35m│\u001b[0m  \u001b[92mhttps://github.com/langflow-ai/langflow/pull/8832\u001b[0m                                                              \u001b[35m│\u001b[0m\n",
              "\u001b[35m│\u001b[0m  \u001b[92m* feat: enhance DataFrame Operations component with contains filter and modern UI by @rodrigosnader in \u001b[0m        \u001b[35m│\u001b[0m\n",
              "\u001b[35m│\u001b[0m  \u001b[92mhttps://github.com/langflow-ai/langflow/pull/8838\u001b[0m                                                              \u001b[35m│\u001b[0m\n",
              "\u001b[35m│\u001b[0m  \u001b[92m* feat: add DataFrame output to Structured Output component by @rodrigosnader in \u001b[0m                              \u001b[35m│\u001b[0m\n",
              "\u001b[35m│\u001b[0m  \u001b[92mhttps://github.com/langflow-ai/langflow/pull/8842\u001b[0m                                                              \u001b[35m│\u001b[0m\n",
              "\u001b[35m│\u001b[0m  \u001b[92m### 🐛 Bug Fixes\u001b[0m                                                                                               \u001b[35m│\u001b[0m\n",
              "\u001b[35m│\u001b[0m  \u001b[92m* fix: Improve modal layout responsiveness and overflow handling by @Cristhianzl in \u001b[0m                           \u001b[35m│\u001b[0m\n",
              "\u001b[35m│\u001b[0m  \u001b[92mhttps://github.com/langflow-ai/langflow/pull/8936\u001b[0m                                                              \u001b[35m│\u001b[0m\n",
              "\u001b[35m│\u001b[0m  \u001b[92m* fix: Improve flow export error handling and validation by @Cristhianzl in \u001b[0m                                   \u001b[35m│\u001b[0m\n",
              "\u001b[35m│\u001b[0m  \u001b[92mhttps://github.com/langflow-ai/langflow/pull/8943\u001b[0m                                                              \u001b[35m│\u001b[0m\n",
              "\u001b[35m│\u001b[0m  \u001b[92m* fix: make deletion of single file commit to DB, create tests for file deletion by @lucaseduoli in \u001b[0m           \u001b[35m│\u001b[0m\n",
              "\u001b[35m│\u001b[0m  \u001b[92mhttps://github.com/langflow-ai/langflow/pull/8953\u001b[0m                                                              \u001b[35m│\u001b[0m\n",
              "\u001b[35m│\u001b[0m  \u001b[92m* fix: update API Access codes to include only authenticated code by @lucaseduoli in \u001b[0m                          \u001b[35m│\u001b[0m\n",
              "\u001b[35m│\u001b[0m  \u001b[92mhttps://github.com/langflow-ai/langflow/pull/8957\u001b[0m                                                              \u001b[35m│\u001b[0m\n",
              "\u001b[35m│\u001b[0m  \u001b[92m* fix: Ensure flow_id is not None before logging vertex build details by @ogabrielluiz in \u001b[0m                     \u001b[35m│\u001b[0m\n",
              "\u001b[35m│\u001b[0m  \u001b[92mhttps://github.com/langflow-ai/langflow/pull/8954\\n\\n---\\n\\nSource: \u001b[0m                                           \u001b[35m│\u001b[0m\n",
              "\u001b[35m│\u001b[0m  \u001b[92mhttps://github.com/langflow-ai/langflow/releases\\nDate: 2025-07-10\\n\\n* fix: Ensure flow_id is not None \u001b[0m       \u001b[35m│\u001b[0m\n",
              "\u001b[35m│\u001b[0m  \u001b[92mbefore logging vertex build details by @ogabrielluiz in https://github.com/langflow-ai/langflow/pull/8954\u001b[0m      \u001b[35m│\u001b[0m\n",
              "\u001b[35m│\u001b[0m  \u001b[92m* fix: fix max height of template getting started cards by @mfortman11 in \u001b[0m                                     \u001b[35m│\u001b[0m\n",
              "\u001b[35m│\u001b[0m  \u001b[92mhttps://github.com/langflow-ai/langflow/pull/8964\u001b[0m                                                              \u001b[35m│\u001b[0m\n",
              "\u001b[35m│\u001b[0m  \u001b[92m* fix: clean edges of same type but different name when switching outputs, update color when deleting edges \u001b[0m   \u001b[35m│\u001b[0m\n",
              "\u001b[35m│\u001b[0m  \u001b[92mby @lucaseduoli in https://github.com/langflow-ai/langflow/pull/8959\u001b[0m                                           \u001b[35m│\u001b[0m\n",
              "\u001b[35m│\u001b[0m  \u001b[92m* fix: Update file component description for accuracy by @erichare in \u001b[0m                                         \u001b[35m│\u001b[0m\n",
              "\u001b[35m│\u001b[0m  \u001b[92mhttps://github.com/langflow-ai/langflow/pull/8960\u001b[0m                                                              \u001b[35m│\u001b[0m\n",
              "\u001b[35m│\u001b[0m  \u001b[92m* fix: make mcp server component handle cache miss gracefully by @lucaseduoli in \u001b[0m                              \u001b[35m│\u001b[0m\n",
              "\u001b[35m│\u001b[0m  \u001b[92mhttps://github.com/langflow-ai/langflow/pull/8966\u001b[0m                                                              \u001b[35m│\u001b[0m\n",
              "\u001b[35m│\u001b[0m  \u001b[92m* fix: make files be saved in unique path by @lucaseduoli in \u001b[0m                                                  \u001b[35m│\u001b[0m\n",
              "\u001b[35m│\u001b[0m  \u001b[92mhttps://github.com/langflow-ai/langflow/pull/8965\u001b[0m                                                              \u001b[35m│\u001b[0m\n",
              "\u001b[35m│\u001b[0m  \u001b[92m* fix: add scroll to update components review dialog by @lucaseduoli in \u001b[0m                                       \u001b[35m│\u001b[0m\n",
              "\u001b[35m│\u001b[0m  \u001b[92mhttps://github.com/langflow-ai/langflow/pull/8983\u001b[0m                                                              \u001b[35m│\u001b[0m\n",
              "\u001b[35m│\u001b[0m  \u001b[92m* fix: improved better health check and stream URL check on MCP, improved JSON recognition by @lucaseduoli in\u001b[0m  \u001b[35m│\u001b[0m\n",
              "\u001b[35m│\u001b[0m  \u001b[92mhttps://github.com/langflow-ai/langflow/pull/8982\u001b[0m                                                              \u001b[35m│\u001b[0m\n",
              "\u001b[35m│\u001b[0m  \u001b[92m### 📝 Documentation Updates\u001b[0m                                                                                   \u001b[35m│\u001b[0m\n",
              "\u001b[35m│\u001b[0m  \u001b[92m* docs: update nv-ingest component by @mendonk in https://github.com/langflow-ai/langflow/pull/8950\u001b[0m            \u001b[35m│\u001b[0m\n",
              "\u001b[35m│\u001b[0m  \u001b[92m* docs: 1.5 release by @mendonk in https://github.com/langflow-ai/langflow/pull/8387\u001b[0m                           \u001b[35m│\u001b[0m\n",
              "\u001b[35m│\u001b[0m  \u001b[92m* docs: add required API key headers for 1.5 by @mendonk in \u001b[0m                                                   \u001b[35m│\u001b[0m\n",
              "\u001b[35m│\u001b[0m  \u001b[92mhttps://github.com/langflow-ai/langflow/pull/8721\\n\\n---\\n\\nSource: \u001b[0m                                           \u001b[35m│\u001b[0m\n",
              "\u001b[35m│\u001b[0m  \u001b[92mhttps://github.com/langflow-ai/langflow/releases\\nDate: 2025-07-10\\n\\n* docs: add required API key headers \u001b[0m    \u001b[35m│\u001b[0m\n",
              "\u001b[35m│\u001b[0m  \u001b[92mfor 1.5 by @mendonk in https://github.com/langflow-ai/langflow/pull/8721\u001b[0m                                       \u001b[35m│\u001b[0m\n",
              "\u001b[35m│\u001b[0m  \u001b[92m* docs: add windows desktop back for 1.5 release by @mendonk in \u001b[0m                                               \u001b[35m│\u001b[0m\n",
              "\u001b[35m│\u001b[0m  \u001b[92mhttps://github.com/langflow-ai/langflow/pull/8866\u001b[0m                                                              \u001b[35m│\u001b[0m\n",
              "\u001b[35m│\u001b[0m  \u001b[92m* docs: add windows related content by @mendonk in https://github.com/langflow-ai/langflow/pull/8903\u001b[0m           \u001b[35m│\u001b[0m\n",
              "\u001b[35m│\u001b[0m  \u001b[92m* docs: how to add a missing dependency to langflow desktop by @mendonk in \u001b[0m                                    \u001b[35m│\u001b[0m\n",
              "\u001b[35m│\u001b[0m  \u001b[92mhttps://github.com/langflow-ai/langflow/pull/8942\u001b[0m                                                              \u001b[35m│\u001b[0m\n",
              "\u001b[35m│\u001b[0m  \u001b[92m* docs: add unix note to api pane by @mendonk in https://github.com/langflow-ai/langflow/pull/8951\u001b[0m             \u001b[35m│\u001b[0m\n",
              "\u001b[35m│\u001b[0m  \u001b[92m* docs: docling integration by @mendonk in https://github.com/langflow-ai/langflow/pull/8939\u001b[0m                   \u001b[35m│\u001b[0m\n",
              "\u001b[35m│\u001b[0m  \u001b[92m* docs: remove duplicate intro text by @mendonk in https://github.com/langflow-ai/langflow/pull/8987\u001b[0m           \u001b[35m│\u001b[0m\n",
              "\u001b[35m│\u001b[0m  \u001b[92m* docs: chatbot with files tutorial by @mendonk in https://github.com/langflow-ai/langflow/pull/8813\u001b[0m           \u001b[35m│\u001b[0m\n",
              "\u001b[35m│\u001b[0m  \u001b[92m### 🛠 Maintenance Tasks\u001b[0m                                                                                        \u001b[35m│\u001b[0m\n",
              "\u001b[35m│\u001b[0m  \u001b[92m* refactor: Extract single file download logic to custom hook by @Cristhianzl in \u001b[0m                              \u001b[35m│\u001b[0m\n",
              "\u001b[35m│\u001b[0m  \u001b[92mhttps://github.com/langflow-ai/langflow/pull/8944\u001b[0m                                                              \u001b[35m│\u001b[0m\n",
              "\u001b[35m│\u001b[0m  \u001b[92m* refactor(auth): simplify flow retrieval by removing settings_service dependency by @ogabrielluiz in \u001b[0m         \u001b[35m│\u001b[0m\n",
              "\u001b[35m│\u001b[0m  \u001b[92mhttps://github.com/langflow-ai/langflow/pull/8956\u001b[0m                                                              \u001b[35m│\u001b[0m\n",
              "\u001b[35m│\u001b[0m  \u001b[92m* refactor: update cache service type hints in MCPToolsComponent by @ogabrielluiz in \u001b[0m                          \u001b[35m│\u001b[0m\n",
              "\u001b[35m│\u001b[0m  \u001b[92mhttps://github.com/langflow-ai/langflow/pull/8975\u001b[0m                                                              \u001b[35m│\u001b[0m\n",
              "\u001b[35m│\u001b[0m  \u001b[92m* refactor: update imports and move functions out of MCPToolsComponent by @ogabrielluiz in \u001b[0m                    \u001b[35m│\u001b[0m\n",
              "\u001b[35m│\u001b[0m  \u001b[92mhttps://github.com/langflow-ai/langflow/pull/8976\u001b[0m                                                              \u001b[35m│\u001b[0m\n",
              "\u001b[35m│\u001b[0m  \u001b[92m### Others\\n\\n---\\n\\nSource: https://github.com/langflow-ai/langflow/releases\\nDate: 2025-07-10\\n\\n### Others\u001b[0m  \u001b[35m│\u001b[0m\n",
              "\u001b[35m│\u001b[0m  \u001b[92m* chore: release 1.5.0 by @ogabrielluiz in https://github.com/langflow-ai/langflow/pull/8930\u001b[0m                   \u001b[35m│\u001b[0m\n",
              "\u001b[35m│\u001b[0m  \u001b[92m* chore: update package versions to include post-release tags by @ogabrielluiz in \u001b[0m                             \u001b[35m│\u001b[0m\n",
              "\u001b[35m│\u001b[0m  \u001b[92mhttps://github.com/langflow-ai/langflow/pull/8955\u001b[0m                                                              \u001b[35m│\u001b[0m\n",
              "\u001b[35m│\u001b[0m  \u001b[92m* chore: enable code guidelines in coderabbit configuration by @ogabrielluiz in \u001b[0m                               \u001b[35m│\u001b[0m\n",
              "\u001b[35m│\u001b[0m  \u001b[92mhttps://github.com/langflow-ai/langflow/pull/8958\u001b[0m                                                              \u001b[35m│\u001b[0m\n",
              "\u001b[35m│\u001b[0m  \u001b[92m* ci: update regex pattern for langflow-base dependency to support PEP 440 version suffixes by @ogabrielluiz \u001b[0m  \u001b[35m│\u001b[0m\n",
              "\u001b[35m│\u001b[0m  \u001b[92min https://github.com/langflow-ai/langflow/pull/8979\u001b[0m                                                           \u001b[35m│\u001b[0m\n",
              "\u001b[35m│\u001b[0m  \u001b[92m* ci: update nightly script to support other version operators by @ogabrielluiz in \u001b[0m                            \u001b[35m│\u001b[0m\n",
              "\u001b[35m│\u001b[0m  \u001b[92mhttps://github.com/langflow-ai/langflow/pull/8980\u001b[0m                                                              \u001b[35m│\u001b[0m\n",
              "\u001b[35m│\u001b[0m  \u001b[92m* templates: Update Vector Store RAG.json by @mendonk in https://github.com/langflow-ai/langflow/pull/8977\u001b[0m     \u001b[35m│\u001b[0m\n",
              "\u001b[35m│\u001b[0m                                                                                                                 \u001b[35m│\u001b[0m\n",
              "\u001b[35m│\u001b[0m  \u001b[92m## New Contributors\u001b[0m                                                                                            \u001b[35m│\u001b[0m\n",
              "\u001b[35m│\u001b[0m  \u001b[92m* @Khurdhula-Harshavardhan made their first contribution in https://github.com/langflow-ai/langflow/pull/8832\u001b[0m  \u001b[35m│\u001b[0m\n",
              "\u001b[35m│\u001b[0m                                                                                                                 \u001b[35m│\u001b[0m\n",
              "\u001b[35m│\u001b[0m  \u001b[92m**Full Changelog**: https://github.com/langflow-ai/langflow/compare/1.5.0...1.5.0.post1---\u001b[0m                     \u001b[35m│\u001b[0m\n",
              "\u001b[35m│\u001b[0m                                                                                                                 \u001b[35m│\u001b[0m\n",
              "\u001b[35m╰─────────────────────────────────────────────────────────────────────────────────────────────────────────────────╯\u001b[0m\n"
            ],
            "text/html": [
              "<pre style=\"white-space:pre;overflow-x:auto;line-height:normal;font-family:Menlo,'DejaVu Sans Mono',consolas,'Courier New',monospace\"><span style=\"color: #800080; text-decoration-color: #800080\">╭─────────────────────────────────────────────── 🤖 Agent Started ────────────────────────────────────────────────╮</span>\n",
              "<span style=\"color: #800080; text-decoration-color: #800080\">│</span>                                                                                                                 <span style=\"color: #800080; text-decoration-color: #800080\">│</span>\n",
              "<span style=\"color: #800080; text-decoration-color: #800080\">│</span>  <span style=\"color: #c0c0c0; text-decoration-color: #c0c0c0\">Agent: </span><span style=\"color: #00ff00; text-decoration-color: #00ff00; font-weight: bold\">Principal Technology Analyst</span>                                                                            <span style=\"color: #800080; text-decoration-color: #800080\">│</span>\n",
              "<span style=\"color: #800080; text-decoration-color: #800080\">│</span>                                                                                                                 <span style=\"color: #800080; text-decoration-color: #800080\">│</span>\n",
              "<span style=\"color: #800080; text-decoration-color: #800080\">│</span>  <span style=\"color: #c0c0c0; text-decoration-color: #c0c0c0\">Task: </span><span style=\"color: #00ff00; text-decoration-color: #00ff00\">Analyze the following text which contains software release notes from the last week. Identify and list </span>  <span style=\"color: #800080; text-decoration-color: #800080\">│</span>\n",
              "<span style=\"color: #800080; text-decoration-color: #800080\">│</span>  <span style=\"color: #00ff00; text-decoration-color: #00ff00\">all significant new features and announcements. Focus on what would be most relevant to a software </span>            <span style=\"color: #800080; text-decoration-color: #800080\">│</span>\n",
              "<span style=\"color: #800080; text-decoration-color: #800080\">│</span>  <span style=\"color: #00ff00; text-decoration-color: #00ff00\">development team.</span>                                                                                              <span style=\"color: #800080; text-decoration-color: #800080\">│</span>\n",
              "<span style=\"color: #800080; text-decoration-color: #800080\">│</span>                                                                                                                 <span style=\"color: #800080; text-decoration-color: #800080\">│</span>\n",
              "<span style=\"color: #800080; text-decoration-color: #800080\">│</span>  <span style=\"color: #00ff00; text-decoration-color: #00ff00\">HERE IS THE TEXT TO ANALYZE:</span>                                                                                   <span style=\"color: #800080; text-decoration-color: #800080\">│</span>\n",
              "<span style=\"color: #800080; text-decoration-color: #800080\">│</span>  <span style=\"color: #00ff00; text-decoration-color: #00ff00\">---Source: https://github.com/langflow-ai/langflow/releases\\nDate: 2025-07-10\\n\\n## 1.5.0.post1\\n\\n&lt;!-- </span>       <span style=\"color: #800080; text-decoration-color: #800080\">│</span>\n",
              "<span style=\"color: #800080; text-decoration-color: #800080\">│</span>  <span style=\"color: #00ff00; text-decoration-color: #00ff00\">Release notes generated using configuration in .github/release.yml at 1.5.0.post1 --&gt;</span>                          <span style=\"color: #800080; text-decoration-color: #800080\">│</span>\n",
              "<span style=\"color: #800080; text-decoration-color: #800080\">│</span>                                                                                                                 <span style=\"color: #800080; text-decoration-color: #800080\">│</span>\n",
              "<span style=\"color: #800080; text-decoration-color: #800080\">│</span>  <span style=\"color: #00ff00; text-decoration-color: #00ff00\">## What's Changed</span>                                                                                              <span style=\"color: #800080; text-decoration-color: #800080\">│</span>\n",
              "<span style=\"color: #800080; text-decoration-color: #800080\">│</span>  <span style=\"color: #00ff00; text-decoration-color: #00ff00\">### ✨ New Features</span>                                                                                            <span style=\"color: #800080; text-decoration-color: #800080\">│</span>\n",
              "<span style=\"color: #800080; text-decoration-color: #800080\">│</span>  <span style=\"color: #00ff00; text-decoration-color: #00ff00\">* feat: Add dynamic theming support to WatsonxAI icon by @Cristhianzl in </span>                                      <span style=\"color: #800080; text-decoration-color: #800080\">│</span>\n",
              "<span style=\"color: #800080; text-decoration-color: #800080\">│</span>  <span style=\"color: #00ff00; text-decoration-color: #00ff00\">https://github.com/langflow-ai/langflow/pull/8935</span>                                                              <span style=\"color: #800080; text-decoration-color: #800080\">│</span>\n",
              "<span style=\"color: #800080; text-decoration-color: #800080\">│</span>  <span style=\"color: #00ff00; text-decoration-color: #00ff00\">* feat: jigsawstack bundle integration by @Khurdhula-Harshavardhan in </span>                                         <span style=\"color: #800080; text-decoration-color: #800080\">│</span>\n",
              "<span style=\"color: #800080; text-decoration-color: #800080\">│</span>  <span style=\"color: #00ff00; text-decoration-color: #00ff00\">https://github.com/langflow-ai/langflow/pull/8832</span>                                                              <span style=\"color: #800080; text-decoration-color: #800080\">│</span>\n",
              "<span style=\"color: #800080; text-decoration-color: #800080\">│</span>  <span style=\"color: #00ff00; text-decoration-color: #00ff00\">* feat: enhance DataFrame Operations component with contains filter and modern UI by @rodrigosnader in </span>        <span style=\"color: #800080; text-decoration-color: #800080\">│</span>\n",
              "<span style=\"color: #800080; text-decoration-color: #800080\">│</span>  <span style=\"color: #00ff00; text-decoration-color: #00ff00\">https://github.com/langflow-ai/langflow/pull/8838</span>                                                              <span style=\"color: #800080; text-decoration-color: #800080\">│</span>\n",
              "<span style=\"color: #800080; text-decoration-color: #800080\">│</span>  <span style=\"color: #00ff00; text-decoration-color: #00ff00\">* feat: add DataFrame output to Structured Output component by @rodrigosnader in </span>                              <span style=\"color: #800080; text-decoration-color: #800080\">│</span>\n",
              "<span style=\"color: #800080; text-decoration-color: #800080\">│</span>  <span style=\"color: #00ff00; text-decoration-color: #00ff00\">https://github.com/langflow-ai/langflow/pull/8842</span>                                                              <span style=\"color: #800080; text-decoration-color: #800080\">│</span>\n",
              "<span style=\"color: #800080; text-decoration-color: #800080\">│</span>  <span style=\"color: #00ff00; text-decoration-color: #00ff00\">### 🐛 Bug Fixes</span>                                                                                               <span style=\"color: #800080; text-decoration-color: #800080\">│</span>\n",
              "<span style=\"color: #800080; text-decoration-color: #800080\">│</span>  <span style=\"color: #00ff00; text-decoration-color: #00ff00\">* fix: Improve modal layout responsiveness and overflow handling by @Cristhianzl in </span>                           <span style=\"color: #800080; text-decoration-color: #800080\">│</span>\n",
              "<span style=\"color: #800080; text-decoration-color: #800080\">│</span>  <span style=\"color: #00ff00; text-decoration-color: #00ff00\">https://github.com/langflow-ai/langflow/pull/8936</span>                                                              <span style=\"color: #800080; text-decoration-color: #800080\">│</span>\n",
              "<span style=\"color: #800080; text-decoration-color: #800080\">│</span>  <span style=\"color: #00ff00; text-decoration-color: #00ff00\">* fix: Improve flow export error handling and validation by @Cristhianzl in </span>                                   <span style=\"color: #800080; text-decoration-color: #800080\">│</span>\n",
              "<span style=\"color: #800080; text-decoration-color: #800080\">│</span>  <span style=\"color: #00ff00; text-decoration-color: #00ff00\">https://github.com/langflow-ai/langflow/pull/8943</span>                                                              <span style=\"color: #800080; text-decoration-color: #800080\">│</span>\n",
              "<span style=\"color: #800080; text-decoration-color: #800080\">│</span>  <span style=\"color: #00ff00; text-decoration-color: #00ff00\">* fix: make deletion of single file commit to DB, create tests for file deletion by @lucaseduoli in </span>           <span style=\"color: #800080; text-decoration-color: #800080\">│</span>\n",
              "<span style=\"color: #800080; text-decoration-color: #800080\">│</span>  <span style=\"color: #00ff00; text-decoration-color: #00ff00\">https://github.com/langflow-ai/langflow/pull/8953</span>                                                              <span style=\"color: #800080; text-decoration-color: #800080\">│</span>\n",
              "<span style=\"color: #800080; text-decoration-color: #800080\">│</span>  <span style=\"color: #00ff00; text-decoration-color: #00ff00\">* fix: update API Access codes to include only authenticated code by @lucaseduoli in </span>                          <span style=\"color: #800080; text-decoration-color: #800080\">│</span>\n",
              "<span style=\"color: #800080; text-decoration-color: #800080\">│</span>  <span style=\"color: #00ff00; text-decoration-color: #00ff00\">https://github.com/langflow-ai/langflow/pull/8957</span>                                                              <span style=\"color: #800080; text-decoration-color: #800080\">│</span>\n",
              "<span style=\"color: #800080; text-decoration-color: #800080\">│</span>  <span style=\"color: #00ff00; text-decoration-color: #00ff00\">* fix: Ensure flow_id is not None before logging vertex build details by @ogabrielluiz in </span>                     <span style=\"color: #800080; text-decoration-color: #800080\">│</span>\n",
              "<span style=\"color: #800080; text-decoration-color: #800080\">│</span>  <span style=\"color: #00ff00; text-decoration-color: #00ff00\">https://github.com/langflow-ai/langflow/pull/8954\\n\\n---\\n\\nSource: </span>                                           <span style=\"color: #800080; text-decoration-color: #800080\">│</span>\n",
              "<span style=\"color: #800080; text-decoration-color: #800080\">│</span>  <span style=\"color: #00ff00; text-decoration-color: #00ff00\">https://github.com/langflow-ai/langflow/releases\\nDate: 2025-07-10\\n\\n* fix: Ensure flow_id is not None </span>       <span style=\"color: #800080; text-decoration-color: #800080\">│</span>\n",
              "<span style=\"color: #800080; text-decoration-color: #800080\">│</span>  <span style=\"color: #00ff00; text-decoration-color: #00ff00\">before logging vertex build details by @ogabrielluiz in https://github.com/langflow-ai/langflow/pull/8954</span>      <span style=\"color: #800080; text-decoration-color: #800080\">│</span>\n",
              "<span style=\"color: #800080; text-decoration-color: #800080\">│</span>  <span style=\"color: #00ff00; text-decoration-color: #00ff00\">* fix: fix max height of template getting started cards by @mfortman11 in </span>                                     <span style=\"color: #800080; text-decoration-color: #800080\">│</span>\n",
              "<span style=\"color: #800080; text-decoration-color: #800080\">│</span>  <span style=\"color: #00ff00; text-decoration-color: #00ff00\">https://github.com/langflow-ai/langflow/pull/8964</span>                                                              <span style=\"color: #800080; text-decoration-color: #800080\">│</span>\n",
              "<span style=\"color: #800080; text-decoration-color: #800080\">│</span>  <span style=\"color: #00ff00; text-decoration-color: #00ff00\">* fix: clean edges of same type but different name when switching outputs, update color when deleting edges </span>   <span style=\"color: #800080; text-decoration-color: #800080\">│</span>\n",
              "<span style=\"color: #800080; text-decoration-color: #800080\">│</span>  <span style=\"color: #00ff00; text-decoration-color: #00ff00\">by @lucaseduoli in https://github.com/langflow-ai/langflow/pull/8959</span>                                           <span style=\"color: #800080; text-decoration-color: #800080\">│</span>\n",
              "<span style=\"color: #800080; text-decoration-color: #800080\">│</span>  <span style=\"color: #00ff00; text-decoration-color: #00ff00\">* fix: Update file component description for accuracy by @erichare in </span>                                         <span style=\"color: #800080; text-decoration-color: #800080\">│</span>\n",
              "<span style=\"color: #800080; text-decoration-color: #800080\">│</span>  <span style=\"color: #00ff00; text-decoration-color: #00ff00\">https://github.com/langflow-ai/langflow/pull/8960</span>                                                              <span style=\"color: #800080; text-decoration-color: #800080\">│</span>\n",
              "<span style=\"color: #800080; text-decoration-color: #800080\">│</span>  <span style=\"color: #00ff00; text-decoration-color: #00ff00\">* fix: make mcp server component handle cache miss gracefully by @lucaseduoli in </span>                              <span style=\"color: #800080; text-decoration-color: #800080\">│</span>\n",
              "<span style=\"color: #800080; text-decoration-color: #800080\">│</span>  <span style=\"color: #00ff00; text-decoration-color: #00ff00\">https://github.com/langflow-ai/langflow/pull/8966</span>                                                              <span style=\"color: #800080; text-decoration-color: #800080\">│</span>\n",
              "<span style=\"color: #800080; text-decoration-color: #800080\">│</span>  <span style=\"color: #00ff00; text-decoration-color: #00ff00\">* fix: make files be saved in unique path by @lucaseduoli in </span>                                                  <span style=\"color: #800080; text-decoration-color: #800080\">│</span>\n",
              "<span style=\"color: #800080; text-decoration-color: #800080\">│</span>  <span style=\"color: #00ff00; text-decoration-color: #00ff00\">https://github.com/langflow-ai/langflow/pull/8965</span>                                                              <span style=\"color: #800080; text-decoration-color: #800080\">│</span>\n",
              "<span style=\"color: #800080; text-decoration-color: #800080\">│</span>  <span style=\"color: #00ff00; text-decoration-color: #00ff00\">* fix: add scroll to update components review dialog by @lucaseduoli in </span>                                       <span style=\"color: #800080; text-decoration-color: #800080\">│</span>\n",
              "<span style=\"color: #800080; text-decoration-color: #800080\">│</span>  <span style=\"color: #00ff00; text-decoration-color: #00ff00\">https://github.com/langflow-ai/langflow/pull/8983</span>                                                              <span style=\"color: #800080; text-decoration-color: #800080\">│</span>\n",
              "<span style=\"color: #800080; text-decoration-color: #800080\">│</span>  <span style=\"color: #00ff00; text-decoration-color: #00ff00\">* fix: improved better health check and stream URL check on MCP, improved JSON recognition by @lucaseduoli in</span>  <span style=\"color: #800080; text-decoration-color: #800080\">│</span>\n",
              "<span style=\"color: #800080; text-decoration-color: #800080\">│</span>  <span style=\"color: #00ff00; text-decoration-color: #00ff00\">https://github.com/langflow-ai/langflow/pull/8982</span>                                                              <span style=\"color: #800080; text-decoration-color: #800080\">│</span>\n",
              "<span style=\"color: #800080; text-decoration-color: #800080\">│</span>  <span style=\"color: #00ff00; text-decoration-color: #00ff00\">### 📝 Documentation Updates</span>                                                                                   <span style=\"color: #800080; text-decoration-color: #800080\">│</span>\n",
              "<span style=\"color: #800080; text-decoration-color: #800080\">│</span>  <span style=\"color: #00ff00; text-decoration-color: #00ff00\">* docs: update nv-ingest component by @mendonk in https://github.com/langflow-ai/langflow/pull/8950</span>            <span style=\"color: #800080; text-decoration-color: #800080\">│</span>\n",
              "<span style=\"color: #800080; text-decoration-color: #800080\">│</span>  <span style=\"color: #00ff00; text-decoration-color: #00ff00\">* docs: 1.5 release by @mendonk in https://github.com/langflow-ai/langflow/pull/8387</span>                           <span style=\"color: #800080; text-decoration-color: #800080\">│</span>\n",
              "<span style=\"color: #800080; text-decoration-color: #800080\">│</span>  <span style=\"color: #00ff00; text-decoration-color: #00ff00\">* docs: add required API key headers for 1.5 by @mendonk in </span>                                                   <span style=\"color: #800080; text-decoration-color: #800080\">│</span>\n",
              "<span style=\"color: #800080; text-decoration-color: #800080\">│</span>  <span style=\"color: #00ff00; text-decoration-color: #00ff00\">https://github.com/langflow-ai/langflow/pull/8721\\n\\n---\\n\\nSource: </span>                                           <span style=\"color: #800080; text-decoration-color: #800080\">│</span>\n",
              "<span style=\"color: #800080; text-decoration-color: #800080\">│</span>  <span style=\"color: #00ff00; text-decoration-color: #00ff00\">https://github.com/langflow-ai/langflow/releases\\nDate: 2025-07-10\\n\\n* docs: add required API key headers </span>    <span style=\"color: #800080; text-decoration-color: #800080\">│</span>\n",
              "<span style=\"color: #800080; text-decoration-color: #800080\">│</span>  <span style=\"color: #00ff00; text-decoration-color: #00ff00\">for 1.5 by @mendonk in https://github.com/langflow-ai/langflow/pull/8721</span>                                       <span style=\"color: #800080; text-decoration-color: #800080\">│</span>\n",
              "<span style=\"color: #800080; text-decoration-color: #800080\">│</span>  <span style=\"color: #00ff00; text-decoration-color: #00ff00\">* docs: add windows desktop back for 1.5 release by @mendonk in </span>                                               <span style=\"color: #800080; text-decoration-color: #800080\">│</span>\n",
              "<span style=\"color: #800080; text-decoration-color: #800080\">│</span>  <span style=\"color: #00ff00; text-decoration-color: #00ff00\">https://github.com/langflow-ai/langflow/pull/8866</span>                                                              <span style=\"color: #800080; text-decoration-color: #800080\">│</span>\n",
              "<span style=\"color: #800080; text-decoration-color: #800080\">│</span>  <span style=\"color: #00ff00; text-decoration-color: #00ff00\">* docs: add windows related content by @mendonk in https://github.com/langflow-ai/langflow/pull/8903</span>           <span style=\"color: #800080; text-decoration-color: #800080\">│</span>\n",
              "<span style=\"color: #800080; text-decoration-color: #800080\">│</span>  <span style=\"color: #00ff00; text-decoration-color: #00ff00\">* docs: how to add a missing dependency to langflow desktop by @mendonk in </span>                                    <span style=\"color: #800080; text-decoration-color: #800080\">│</span>\n",
              "<span style=\"color: #800080; text-decoration-color: #800080\">│</span>  <span style=\"color: #00ff00; text-decoration-color: #00ff00\">https://github.com/langflow-ai/langflow/pull/8942</span>                                                              <span style=\"color: #800080; text-decoration-color: #800080\">│</span>\n",
              "<span style=\"color: #800080; text-decoration-color: #800080\">│</span>  <span style=\"color: #00ff00; text-decoration-color: #00ff00\">* docs: add unix note to api pane by @mendonk in https://github.com/langflow-ai/langflow/pull/8951</span>             <span style=\"color: #800080; text-decoration-color: #800080\">│</span>\n",
              "<span style=\"color: #800080; text-decoration-color: #800080\">│</span>  <span style=\"color: #00ff00; text-decoration-color: #00ff00\">* docs: docling integration by @mendonk in https://github.com/langflow-ai/langflow/pull/8939</span>                   <span style=\"color: #800080; text-decoration-color: #800080\">│</span>\n",
              "<span style=\"color: #800080; text-decoration-color: #800080\">│</span>  <span style=\"color: #00ff00; text-decoration-color: #00ff00\">* docs: remove duplicate intro text by @mendonk in https://github.com/langflow-ai/langflow/pull/8987</span>           <span style=\"color: #800080; text-decoration-color: #800080\">│</span>\n",
              "<span style=\"color: #800080; text-decoration-color: #800080\">│</span>  <span style=\"color: #00ff00; text-decoration-color: #00ff00\">* docs: chatbot with files tutorial by @mendonk in https://github.com/langflow-ai/langflow/pull/8813</span>           <span style=\"color: #800080; text-decoration-color: #800080\">│</span>\n",
              "<span style=\"color: #800080; text-decoration-color: #800080\">│</span>  <span style=\"color: #00ff00; text-decoration-color: #00ff00\">### 🛠 Maintenance Tasks</span>                                                                                        <span style=\"color: #800080; text-decoration-color: #800080\">│</span>\n",
              "<span style=\"color: #800080; text-decoration-color: #800080\">│</span>  <span style=\"color: #00ff00; text-decoration-color: #00ff00\">* refactor: Extract single file download logic to custom hook by @Cristhianzl in </span>                              <span style=\"color: #800080; text-decoration-color: #800080\">│</span>\n",
              "<span style=\"color: #800080; text-decoration-color: #800080\">│</span>  <span style=\"color: #00ff00; text-decoration-color: #00ff00\">https://github.com/langflow-ai/langflow/pull/8944</span>                                                              <span style=\"color: #800080; text-decoration-color: #800080\">│</span>\n",
              "<span style=\"color: #800080; text-decoration-color: #800080\">│</span>  <span style=\"color: #00ff00; text-decoration-color: #00ff00\">* refactor(auth): simplify flow retrieval by removing settings_service dependency by @ogabrielluiz in </span>         <span style=\"color: #800080; text-decoration-color: #800080\">│</span>\n",
              "<span style=\"color: #800080; text-decoration-color: #800080\">│</span>  <span style=\"color: #00ff00; text-decoration-color: #00ff00\">https://github.com/langflow-ai/langflow/pull/8956</span>                                                              <span style=\"color: #800080; text-decoration-color: #800080\">│</span>\n",
              "<span style=\"color: #800080; text-decoration-color: #800080\">│</span>  <span style=\"color: #00ff00; text-decoration-color: #00ff00\">* refactor: update cache service type hints in MCPToolsComponent by @ogabrielluiz in </span>                          <span style=\"color: #800080; text-decoration-color: #800080\">│</span>\n",
              "<span style=\"color: #800080; text-decoration-color: #800080\">│</span>  <span style=\"color: #00ff00; text-decoration-color: #00ff00\">https://github.com/langflow-ai/langflow/pull/8975</span>                                                              <span style=\"color: #800080; text-decoration-color: #800080\">│</span>\n",
              "<span style=\"color: #800080; text-decoration-color: #800080\">│</span>  <span style=\"color: #00ff00; text-decoration-color: #00ff00\">* refactor: update imports and move functions out of MCPToolsComponent by @ogabrielluiz in </span>                    <span style=\"color: #800080; text-decoration-color: #800080\">│</span>\n",
              "<span style=\"color: #800080; text-decoration-color: #800080\">│</span>  <span style=\"color: #00ff00; text-decoration-color: #00ff00\">https://github.com/langflow-ai/langflow/pull/8976</span>                                                              <span style=\"color: #800080; text-decoration-color: #800080\">│</span>\n",
              "<span style=\"color: #800080; text-decoration-color: #800080\">│</span>  <span style=\"color: #00ff00; text-decoration-color: #00ff00\">### Others\\n\\n---\\n\\nSource: https://github.com/langflow-ai/langflow/releases\\nDate: 2025-07-10\\n\\n### Others</span>  <span style=\"color: #800080; text-decoration-color: #800080\">│</span>\n",
              "<span style=\"color: #800080; text-decoration-color: #800080\">│</span>  <span style=\"color: #00ff00; text-decoration-color: #00ff00\">* chore: release 1.5.0 by @ogabrielluiz in https://github.com/langflow-ai/langflow/pull/8930</span>                   <span style=\"color: #800080; text-decoration-color: #800080\">│</span>\n",
              "<span style=\"color: #800080; text-decoration-color: #800080\">│</span>  <span style=\"color: #00ff00; text-decoration-color: #00ff00\">* chore: update package versions to include post-release tags by @ogabrielluiz in </span>                             <span style=\"color: #800080; text-decoration-color: #800080\">│</span>\n",
              "<span style=\"color: #800080; text-decoration-color: #800080\">│</span>  <span style=\"color: #00ff00; text-decoration-color: #00ff00\">https://github.com/langflow-ai/langflow/pull/8955</span>                                                              <span style=\"color: #800080; text-decoration-color: #800080\">│</span>\n",
              "<span style=\"color: #800080; text-decoration-color: #800080\">│</span>  <span style=\"color: #00ff00; text-decoration-color: #00ff00\">* chore: enable code guidelines in coderabbit configuration by @ogabrielluiz in </span>                               <span style=\"color: #800080; text-decoration-color: #800080\">│</span>\n",
              "<span style=\"color: #800080; text-decoration-color: #800080\">│</span>  <span style=\"color: #00ff00; text-decoration-color: #00ff00\">https://github.com/langflow-ai/langflow/pull/8958</span>                                                              <span style=\"color: #800080; text-decoration-color: #800080\">│</span>\n",
              "<span style=\"color: #800080; text-decoration-color: #800080\">│</span>  <span style=\"color: #00ff00; text-decoration-color: #00ff00\">* ci: update regex pattern for langflow-base dependency to support PEP 440 version suffixes by @ogabrielluiz </span>  <span style=\"color: #800080; text-decoration-color: #800080\">│</span>\n",
              "<span style=\"color: #800080; text-decoration-color: #800080\">│</span>  <span style=\"color: #00ff00; text-decoration-color: #00ff00\">in https://github.com/langflow-ai/langflow/pull/8979</span>                                                           <span style=\"color: #800080; text-decoration-color: #800080\">│</span>\n",
              "<span style=\"color: #800080; text-decoration-color: #800080\">│</span>  <span style=\"color: #00ff00; text-decoration-color: #00ff00\">* ci: update nightly script to support other version operators by @ogabrielluiz in </span>                            <span style=\"color: #800080; text-decoration-color: #800080\">│</span>\n",
              "<span style=\"color: #800080; text-decoration-color: #800080\">│</span>  <span style=\"color: #00ff00; text-decoration-color: #00ff00\">https://github.com/langflow-ai/langflow/pull/8980</span>                                                              <span style=\"color: #800080; text-decoration-color: #800080\">│</span>\n",
              "<span style=\"color: #800080; text-decoration-color: #800080\">│</span>  <span style=\"color: #00ff00; text-decoration-color: #00ff00\">* templates: Update Vector Store RAG.json by @mendonk in https://github.com/langflow-ai/langflow/pull/8977</span>     <span style=\"color: #800080; text-decoration-color: #800080\">│</span>\n",
              "<span style=\"color: #800080; text-decoration-color: #800080\">│</span>                                                                                                                 <span style=\"color: #800080; text-decoration-color: #800080\">│</span>\n",
              "<span style=\"color: #800080; text-decoration-color: #800080\">│</span>  <span style=\"color: #00ff00; text-decoration-color: #00ff00\">## New Contributors</span>                                                                                            <span style=\"color: #800080; text-decoration-color: #800080\">│</span>\n",
              "<span style=\"color: #800080; text-decoration-color: #800080\">│</span>  <span style=\"color: #00ff00; text-decoration-color: #00ff00\">* @Khurdhula-Harshavardhan made their first contribution in https://github.com/langflow-ai/langflow/pull/8832</span>  <span style=\"color: #800080; text-decoration-color: #800080\">│</span>\n",
              "<span style=\"color: #800080; text-decoration-color: #800080\">│</span>                                                                                                                 <span style=\"color: #800080; text-decoration-color: #800080\">│</span>\n",
              "<span style=\"color: #800080; text-decoration-color: #800080\">│</span>  <span style=\"color: #00ff00; text-decoration-color: #00ff00\">**Full Changelog**: https://github.com/langflow-ai/langflow/compare/1.5.0...1.5.0.post1---</span>                     <span style=\"color: #800080; text-decoration-color: #800080\">│</span>\n",
              "<span style=\"color: #800080; text-decoration-color: #800080\">│</span>                                                                                                                 <span style=\"color: #800080; text-decoration-color: #800080\">│</span>\n",
              "<span style=\"color: #800080; text-decoration-color: #800080\">╰─────────────────────────────────────────────────────────────────────────────────────────────────────────────────╯</span>\n",
              "</pre>\n"
            ]
          },
          "metadata": {}
        },
        {
          "output_type": "display_data",
          "data": {
            "text/plain": [
              "\n"
            ],
            "text/html": [
              "<pre style=\"white-space:pre;overflow-x:auto;line-height:normal;font-family:Menlo,'DejaVu Sans Mono',consolas,'Courier New',monospace\">\n",
              "</pre>\n"
            ]
          },
          "metadata": {}
        },
        {
          "output_type": "display_data",
          "data": {
            "text/plain": [
              "Output()"
            ],
            "application/vnd.jupyter.widget-view+json": {
              "version_major": 2,
              "version_minor": 0,
              "model_id": "2eae45653be54d2a9425b772ee111cdf"
            }
          },
          "metadata": {}
        },
        {
          "output_type": "display_data",
          "data": {
            "text/plain": [],
            "text/html": [
              "<pre style=\"white-space:pre;overflow-x:auto;line-height:normal;font-family:Menlo,'DejaVu Sans Mono',consolas,'Courier New',monospace\"></pre>\n"
            ]
          },
          "metadata": {}
        },
        {
          "output_type": "display_data",
          "data": {
            "text/plain": [
              "\u001b[32m╭─\u001b[0m\u001b[32m────────────────────────────────────────────\u001b[0m\u001b[32m ✅ Agent Final Answer \u001b[0m\u001b[32m────────────────────────────────────────────\u001b[0m\u001b[32m─╮\u001b[0m\n",
              "\u001b[32m│\u001b[0m                                                                                                                 \u001b[32m│\u001b[0m\n",
              "\u001b[32m│\u001b[0m  \u001b[37mAgent: \u001b[0m\u001b[1;92mPrincipal Technology Analyst\u001b[0m                                                                            \u001b[32m│\u001b[0m\n",
              "\u001b[32m│\u001b[0m                                                                                                                 \u001b[32m│\u001b[0m\n",
              "\u001b[32m│\u001b[0m  \u001b[37mFinal Answer:\u001b[0m                                                                                                  \u001b[32m│\u001b[0m\n",
              "\u001b[32m│\u001b[0m  \u001b[92m- **New Features**  \u001b[0m                                                                                           \u001b[32m│\u001b[0m\n",
              "\u001b[32m│\u001b[0m  \u001b[92m  - Added dynamic theming support to WatsonxAI icon.  \u001b[0m                                                         \u001b[32m│\u001b[0m\n",
              "\u001b[32m│\u001b[0m  \u001b[92m  - Integration of JigsawStack bundle.  \u001b[0m                                                                       \u001b[32m│\u001b[0m\n",
              "\u001b[32m│\u001b[0m  \u001b[92m  - Enhanced DataFrame Operations component with a \"contains\" filter and modern UI.  \u001b[0m                          \u001b[32m│\u001b[0m\n",
              "\u001b[32m│\u001b[0m  \u001b[92m  - Added DataFrame output to the Structured Output component.  \u001b[0m                                               \u001b[32m│\u001b[0m\n",
              "\u001b[32m│\u001b[0m                                                                                                                 \u001b[32m│\u001b[0m\n",
              "\u001b[32m│\u001b[0m  \u001b[92m- **Bug Fixes**  \u001b[0m                                                                                              \u001b[32m│\u001b[0m\n",
              "\u001b[32m│\u001b[0m  \u001b[92m  - Improved modal layout responsiveness and overflow handling.  \u001b[0m                                              \u001b[32m│\u001b[0m\n",
              "\u001b[32m│\u001b[0m  \u001b[92m  - Enhanced flow export error handling and validation.  \u001b[0m                                                      \u001b[32m│\u001b[0m\n",
              "\u001b[32m│\u001b[0m  \u001b[92m  - Fixed database commitment issue when deleting a single file and created tests for file deletion.  \u001b[0m         \u001b[32m│\u001b[0m\n",
              "\u001b[32m│\u001b[0m  \u001b[92m  - Updated API access codes to include only authenticated code.  \u001b[0m                                             \u001b[32m│\u001b[0m\n",
              "\u001b[32m│\u001b[0m  \u001b[92m  - Ensured `flow_id` is not `None` before logging vertex build details.  \u001b[0m                                     \u001b[32m│\u001b[0m\n",
              "\u001b[32m│\u001b[0m  \u001b[92m  - Fixed max height of \"template getting started\" cards.  \u001b[0m                                                    \u001b[32m│\u001b[0m\n",
              "\u001b[32m│\u001b[0m  \u001b[92m  - Cleaned up edges of the same type but with different names when switching outputs and updated color when \u001b[0m  \u001b[32m│\u001b[0m\n",
              "\u001b[32m│\u001b[0m  \u001b[92mdeleting edges.  \u001b[0m                                                                                              \u001b[32m│\u001b[0m\n",
              "\u001b[32m│\u001b[0m  \u001b[92m  - Updated file component description for accuracy.  \u001b[0m                                                         \u001b[32m│\u001b[0m\n",
              "\u001b[32m│\u001b[0m  \u001b[92m  - Made MCP server component handle cache misses gracefully.  \u001b[0m                                                \u001b[32m│\u001b[0m\n",
              "\u001b[32m│\u001b[0m  \u001b[92m  - Ensured files are saved in a unique path.  \u001b[0m                                                                \u001b[32m│\u001b[0m\n",
              "\u001b[32m│\u001b[0m  \u001b[92m  - Added scroll functionality to the update components review dialog.  \u001b[0m                                       \u001b[32m│\u001b[0m\n",
              "\u001b[32m│\u001b[0m  \u001b[92m  - Improved health checks and stream URL checks on MCP, with better JSON recognition.  \u001b[0m                       \u001b[32m│\u001b[0m\n",
              "\u001b[32m│\u001b[0m                                                                                                                 \u001b[32m│\u001b[0m\n",
              "\u001b[32m│\u001b[0m  \u001b[92m- **Documentation Updates**  \u001b[0m                                                                                  \u001b[32m│\u001b[0m\n",
              "\u001b[32m│\u001b[0m  \u001b[92m  - Updated `nv-ingest` component documentation.  \u001b[0m                                                             \u001b[32m│\u001b[0m\n",
              "\u001b[32m│\u001b[0m  \u001b[92m  - Released documentation for version 1.5.  \u001b[0m                                                                  \u001b[32m│\u001b[0m\n",
              "\u001b[32m│\u001b[0m  \u001b[92m  - Added required API key headers for version 1.5.  \u001b[0m                                                          \u001b[32m│\u001b[0m\n",
              "\u001b[32m│\u001b[0m  \u001b[92m  - Restored Windows desktop support in the 1.5 release.  \u001b[0m                                                     \u001b[32m│\u001b[0m\n",
              "\u001b[32m│\u001b[0m  \u001b[92m  - Added Windows-related content.  \u001b[0m                                                                           \u001b[32m│\u001b[0m\n",
              "\u001b[32m│\u001b[0m  \u001b[92m  - Provided instructions for adding missing dependencies to Langflow desktop.  \u001b[0m                               \u001b[32m│\u001b[0m\n",
              "\u001b[32m│\u001b[0m  \u001b[92m  - Included a Unix note in the API pane.  \u001b[0m                                                                    \u001b[32m│\u001b[0m\n",
              "\u001b[32m│\u001b[0m  \u001b[92m  - Integrated Docling documentation.  \u001b[0m                                                                        \u001b[32m│\u001b[0m\n",
              "\u001b[32m│\u001b[0m  \u001b[92m  - Removed duplicate introductory text.  \u001b[0m                                                                     \u001b[32m│\u001b[0m\n",
              "\u001b[32m│\u001b[0m  \u001b[92m  - Published a chatbot tutorial using files.  \u001b[0m                                                                \u001b[32m│\u001b[0m\n",
              "\u001b[32m│\u001b[0m                                                                                                                 \u001b[32m│\u001b[0m\n",
              "\u001b[32m│\u001b[0m  \u001b[92m- **Maintenance Tasks**  \u001b[0m                                                                                      \u001b[32m│\u001b[0m\n",
              "\u001b[32m│\u001b[0m  \u001b[92m  - Refactored single file download logic into a custom hook.  \u001b[0m                                                \u001b[32m│\u001b[0m\n",
              "\u001b[32m│\u001b[0m  \u001b[92m  - Simplified flow retrieval by removing the `settings_service` dependency.  \u001b[0m                                 \u001b[32m│\u001b[0m\n",
              "\u001b[32m│\u001b[0m  \u001b[92m  - Updated type hints for cache services in `MCPToolsComponent`.  \u001b[0m                                            \u001b[32m│\u001b[0m\n",
              "\u001b[32m│\u001b[0m  \u001b[92m  - Refactored imports and moved functions out of `MCPToolsComponent`.  \u001b[0m                                       \u001b[32m│\u001b[0m\n",
              "\u001b[32m│\u001b[0m                                                                                                                 \u001b[32m│\u001b[0m\n",
              "\u001b[32m│\u001b[0m  \u001b[92m- **Other Updates**  \u001b[0m                                                                                          \u001b[32m│\u001b[0m\n",
              "\u001b[32m│\u001b[0m  \u001b[92m  - Released version 1.5.0.  \u001b[0m                                                                                  \u001b[32m│\u001b[0m\n",
              "\u001b[32m│\u001b[0m  \u001b[92m  - Updated package versions to include post-release tags.  \u001b[0m                                                   \u001b[32m│\u001b[0m\n",
              "\u001b[32m│\u001b[0m  \u001b[92m  - Enabled code guidelines in the Coderabbit configuration.  \u001b[0m                                                 \u001b[32m│\u001b[0m\n",
              "\u001b[32m│\u001b[0m  \u001b[92m  - Updated regex patterns for the `langflow-base` dependency to support PEP 440 version suffixes.  \u001b[0m           \u001b[32m│\u001b[0m\n",
              "\u001b[32m│\u001b[0m  \u001b[92m  - Enhanced nightly scripts to support other version operators.  \u001b[0m                                             \u001b[32m│\u001b[0m\n",
              "\u001b[32m│\u001b[0m  \u001b[92m  - Updated `Vector Store RAG.json` template.  \u001b[0m                                                                \u001b[32m│\u001b[0m\n",
              "\u001b[32m│\u001b[0m                                                                                                                 \u001b[32m│\u001b[0m\n",
              "\u001b[32m│\u001b[0m  \u001b[92m- **New Contributors**  \u001b[0m                                                                                       \u001b[32m│\u001b[0m\n",
              "\u001b[32m│\u001b[0m  \u001b[92m  - @Khurdhula-Harshavardhan made their first contribution.  \u001b[0m                                                  \u001b[32m│\u001b[0m\n",
              "\u001b[32m│\u001b[0m                                                                                                                 \u001b[32m│\u001b[0m\n",
              "\u001b[32m│\u001b[0m  \u001b[92m**Full Changelog**: [Compare \u001b[0m                                                                                  \u001b[32m│\u001b[0m\n",
              "\u001b[32m│\u001b[0m  \u001b[92m1.5.0...1.5.0.post1](https://github.com/langflow-ai/langflow/compare/1.5.0...1.5.0.post1)\u001b[0m                      \u001b[32m│\u001b[0m\n",
              "\u001b[32m│\u001b[0m                                                                                                                 \u001b[32m│\u001b[0m\n",
              "\u001b[32m╰─────────────────────────────────────────────────────────────────────────────────────────────────────────────────╯\u001b[0m\n"
            ],
            "text/html": [
              "<pre style=\"white-space:pre;overflow-x:auto;line-height:normal;font-family:Menlo,'DejaVu Sans Mono',consolas,'Courier New',monospace\"><span style=\"color: #008000; text-decoration-color: #008000\">╭───────────────────────────────────────────── ✅ Agent Final Answer ─────────────────────────────────────────────╮</span>\n",
              "<span style=\"color: #008000; text-decoration-color: #008000\">│</span>                                                                                                                 <span style=\"color: #008000; text-decoration-color: #008000\">│</span>\n",
              "<span style=\"color: #008000; text-decoration-color: #008000\">│</span>  <span style=\"color: #c0c0c0; text-decoration-color: #c0c0c0\">Agent: </span><span style=\"color: #00ff00; text-decoration-color: #00ff00; font-weight: bold\">Principal Technology Analyst</span>                                                                            <span style=\"color: #008000; text-decoration-color: #008000\">│</span>\n",
              "<span style=\"color: #008000; text-decoration-color: #008000\">│</span>                                                                                                                 <span style=\"color: #008000; text-decoration-color: #008000\">│</span>\n",
              "<span style=\"color: #008000; text-decoration-color: #008000\">│</span>  <span style=\"color: #c0c0c0; text-decoration-color: #c0c0c0\">Final Answer:</span>                                                                                                  <span style=\"color: #008000; text-decoration-color: #008000\">│</span>\n",
              "<span style=\"color: #008000; text-decoration-color: #008000\">│</span>  <span style=\"color: #00ff00; text-decoration-color: #00ff00\">- **New Features**  </span>                                                                                           <span style=\"color: #008000; text-decoration-color: #008000\">│</span>\n",
              "<span style=\"color: #008000; text-decoration-color: #008000\">│</span>  <span style=\"color: #00ff00; text-decoration-color: #00ff00\">  - Added dynamic theming support to WatsonxAI icon.  </span>                                                         <span style=\"color: #008000; text-decoration-color: #008000\">│</span>\n",
              "<span style=\"color: #008000; text-decoration-color: #008000\">│</span>  <span style=\"color: #00ff00; text-decoration-color: #00ff00\">  - Integration of JigsawStack bundle.  </span>                                                                       <span style=\"color: #008000; text-decoration-color: #008000\">│</span>\n",
              "<span style=\"color: #008000; text-decoration-color: #008000\">│</span>  <span style=\"color: #00ff00; text-decoration-color: #00ff00\">  - Enhanced DataFrame Operations component with a \"contains\" filter and modern UI.  </span>                          <span style=\"color: #008000; text-decoration-color: #008000\">│</span>\n",
              "<span style=\"color: #008000; text-decoration-color: #008000\">│</span>  <span style=\"color: #00ff00; text-decoration-color: #00ff00\">  - Added DataFrame output to the Structured Output component.  </span>                                               <span style=\"color: #008000; text-decoration-color: #008000\">│</span>\n",
              "<span style=\"color: #008000; text-decoration-color: #008000\">│</span>                                                                                                                 <span style=\"color: #008000; text-decoration-color: #008000\">│</span>\n",
              "<span style=\"color: #008000; text-decoration-color: #008000\">│</span>  <span style=\"color: #00ff00; text-decoration-color: #00ff00\">- **Bug Fixes**  </span>                                                                                              <span style=\"color: #008000; text-decoration-color: #008000\">│</span>\n",
              "<span style=\"color: #008000; text-decoration-color: #008000\">│</span>  <span style=\"color: #00ff00; text-decoration-color: #00ff00\">  - Improved modal layout responsiveness and overflow handling.  </span>                                              <span style=\"color: #008000; text-decoration-color: #008000\">│</span>\n",
              "<span style=\"color: #008000; text-decoration-color: #008000\">│</span>  <span style=\"color: #00ff00; text-decoration-color: #00ff00\">  - Enhanced flow export error handling and validation.  </span>                                                      <span style=\"color: #008000; text-decoration-color: #008000\">│</span>\n",
              "<span style=\"color: #008000; text-decoration-color: #008000\">│</span>  <span style=\"color: #00ff00; text-decoration-color: #00ff00\">  - Fixed database commitment issue when deleting a single file and created tests for file deletion.  </span>         <span style=\"color: #008000; text-decoration-color: #008000\">│</span>\n",
              "<span style=\"color: #008000; text-decoration-color: #008000\">│</span>  <span style=\"color: #00ff00; text-decoration-color: #00ff00\">  - Updated API access codes to include only authenticated code.  </span>                                             <span style=\"color: #008000; text-decoration-color: #008000\">│</span>\n",
              "<span style=\"color: #008000; text-decoration-color: #008000\">│</span>  <span style=\"color: #00ff00; text-decoration-color: #00ff00\">  - Ensured `flow_id` is not `None` before logging vertex build details.  </span>                                     <span style=\"color: #008000; text-decoration-color: #008000\">│</span>\n",
              "<span style=\"color: #008000; text-decoration-color: #008000\">│</span>  <span style=\"color: #00ff00; text-decoration-color: #00ff00\">  - Fixed max height of \"template getting started\" cards.  </span>                                                    <span style=\"color: #008000; text-decoration-color: #008000\">│</span>\n",
              "<span style=\"color: #008000; text-decoration-color: #008000\">│</span>  <span style=\"color: #00ff00; text-decoration-color: #00ff00\">  - Cleaned up edges of the same type but with different names when switching outputs and updated color when </span>  <span style=\"color: #008000; text-decoration-color: #008000\">│</span>\n",
              "<span style=\"color: #008000; text-decoration-color: #008000\">│</span>  <span style=\"color: #00ff00; text-decoration-color: #00ff00\">deleting edges.  </span>                                                                                              <span style=\"color: #008000; text-decoration-color: #008000\">│</span>\n",
              "<span style=\"color: #008000; text-decoration-color: #008000\">│</span>  <span style=\"color: #00ff00; text-decoration-color: #00ff00\">  - Updated file component description for accuracy.  </span>                                                         <span style=\"color: #008000; text-decoration-color: #008000\">│</span>\n",
              "<span style=\"color: #008000; text-decoration-color: #008000\">│</span>  <span style=\"color: #00ff00; text-decoration-color: #00ff00\">  - Made MCP server component handle cache misses gracefully.  </span>                                                <span style=\"color: #008000; text-decoration-color: #008000\">│</span>\n",
              "<span style=\"color: #008000; text-decoration-color: #008000\">│</span>  <span style=\"color: #00ff00; text-decoration-color: #00ff00\">  - Ensured files are saved in a unique path.  </span>                                                                <span style=\"color: #008000; text-decoration-color: #008000\">│</span>\n",
              "<span style=\"color: #008000; text-decoration-color: #008000\">│</span>  <span style=\"color: #00ff00; text-decoration-color: #00ff00\">  - Added scroll functionality to the update components review dialog.  </span>                                       <span style=\"color: #008000; text-decoration-color: #008000\">│</span>\n",
              "<span style=\"color: #008000; text-decoration-color: #008000\">│</span>  <span style=\"color: #00ff00; text-decoration-color: #00ff00\">  - Improved health checks and stream URL checks on MCP, with better JSON recognition.  </span>                       <span style=\"color: #008000; text-decoration-color: #008000\">│</span>\n",
              "<span style=\"color: #008000; text-decoration-color: #008000\">│</span>                                                                                                                 <span style=\"color: #008000; text-decoration-color: #008000\">│</span>\n",
              "<span style=\"color: #008000; text-decoration-color: #008000\">│</span>  <span style=\"color: #00ff00; text-decoration-color: #00ff00\">- **Documentation Updates**  </span>                                                                                  <span style=\"color: #008000; text-decoration-color: #008000\">│</span>\n",
              "<span style=\"color: #008000; text-decoration-color: #008000\">│</span>  <span style=\"color: #00ff00; text-decoration-color: #00ff00\">  - Updated `nv-ingest` component documentation.  </span>                                                             <span style=\"color: #008000; text-decoration-color: #008000\">│</span>\n",
              "<span style=\"color: #008000; text-decoration-color: #008000\">│</span>  <span style=\"color: #00ff00; text-decoration-color: #00ff00\">  - Released documentation for version 1.5.  </span>                                                                  <span style=\"color: #008000; text-decoration-color: #008000\">│</span>\n",
              "<span style=\"color: #008000; text-decoration-color: #008000\">│</span>  <span style=\"color: #00ff00; text-decoration-color: #00ff00\">  - Added required API key headers for version 1.5.  </span>                                                          <span style=\"color: #008000; text-decoration-color: #008000\">│</span>\n",
              "<span style=\"color: #008000; text-decoration-color: #008000\">│</span>  <span style=\"color: #00ff00; text-decoration-color: #00ff00\">  - Restored Windows desktop support in the 1.5 release.  </span>                                                     <span style=\"color: #008000; text-decoration-color: #008000\">│</span>\n",
              "<span style=\"color: #008000; text-decoration-color: #008000\">│</span>  <span style=\"color: #00ff00; text-decoration-color: #00ff00\">  - Added Windows-related content.  </span>                                                                           <span style=\"color: #008000; text-decoration-color: #008000\">│</span>\n",
              "<span style=\"color: #008000; text-decoration-color: #008000\">│</span>  <span style=\"color: #00ff00; text-decoration-color: #00ff00\">  - Provided instructions for adding missing dependencies to Langflow desktop.  </span>                               <span style=\"color: #008000; text-decoration-color: #008000\">│</span>\n",
              "<span style=\"color: #008000; text-decoration-color: #008000\">│</span>  <span style=\"color: #00ff00; text-decoration-color: #00ff00\">  - Included a Unix note in the API pane.  </span>                                                                    <span style=\"color: #008000; text-decoration-color: #008000\">│</span>\n",
              "<span style=\"color: #008000; text-decoration-color: #008000\">│</span>  <span style=\"color: #00ff00; text-decoration-color: #00ff00\">  - Integrated Docling documentation.  </span>                                                                        <span style=\"color: #008000; text-decoration-color: #008000\">│</span>\n",
              "<span style=\"color: #008000; text-decoration-color: #008000\">│</span>  <span style=\"color: #00ff00; text-decoration-color: #00ff00\">  - Removed duplicate introductory text.  </span>                                                                     <span style=\"color: #008000; text-decoration-color: #008000\">│</span>\n",
              "<span style=\"color: #008000; text-decoration-color: #008000\">│</span>  <span style=\"color: #00ff00; text-decoration-color: #00ff00\">  - Published a chatbot tutorial using files.  </span>                                                                <span style=\"color: #008000; text-decoration-color: #008000\">│</span>\n",
              "<span style=\"color: #008000; text-decoration-color: #008000\">│</span>                                                                                                                 <span style=\"color: #008000; text-decoration-color: #008000\">│</span>\n",
              "<span style=\"color: #008000; text-decoration-color: #008000\">│</span>  <span style=\"color: #00ff00; text-decoration-color: #00ff00\">- **Maintenance Tasks**  </span>                                                                                      <span style=\"color: #008000; text-decoration-color: #008000\">│</span>\n",
              "<span style=\"color: #008000; text-decoration-color: #008000\">│</span>  <span style=\"color: #00ff00; text-decoration-color: #00ff00\">  - Refactored single file download logic into a custom hook.  </span>                                                <span style=\"color: #008000; text-decoration-color: #008000\">│</span>\n",
              "<span style=\"color: #008000; text-decoration-color: #008000\">│</span>  <span style=\"color: #00ff00; text-decoration-color: #00ff00\">  - Simplified flow retrieval by removing the `settings_service` dependency.  </span>                                 <span style=\"color: #008000; text-decoration-color: #008000\">│</span>\n",
              "<span style=\"color: #008000; text-decoration-color: #008000\">│</span>  <span style=\"color: #00ff00; text-decoration-color: #00ff00\">  - Updated type hints for cache services in `MCPToolsComponent`.  </span>                                            <span style=\"color: #008000; text-decoration-color: #008000\">│</span>\n",
              "<span style=\"color: #008000; text-decoration-color: #008000\">│</span>  <span style=\"color: #00ff00; text-decoration-color: #00ff00\">  - Refactored imports and moved functions out of `MCPToolsComponent`.  </span>                                       <span style=\"color: #008000; text-decoration-color: #008000\">│</span>\n",
              "<span style=\"color: #008000; text-decoration-color: #008000\">│</span>                                                                                                                 <span style=\"color: #008000; text-decoration-color: #008000\">│</span>\n",
              "<span style=\"color: #008000; text-decoration-color: #008000\">│</span>  <span style=\"color: #00ff00; text-decoration-color: #00ff00\">- **Other Updates**  </span>                                                                                          <span style=\"color: #008000; text-decoration-color: #008000\">│</span>\n",
              "<span style=\"color: #008000; text-decoration-color: #008000\">│</span>  <span style=\"color: #00ff00; text-decoration-color: #00ff00\">  - Released version 1.5.0.  </span>                                                                                  <span style=\"color: #008000; text-decoration-color: #008000\">│</span>\n",
              "<span style=\"color: #008000; text-decoration-color: #008000\">│</span>  <span style=\"color: #00ff00; text-decoration-color: #00ff00\">  - Updated package versions to include post-release tags.  </span>                                                   <span style=\"color: #008000; text-decoration-color: #008000\">│</span>\n",
              "<span style=\"color: #008000; text-decoration-color: #008000\">│</span>  <span style=\"color: #00ff00; text-decoration-color: #00ff00\">  - Enabled code guidelines in the Coderabbit configuration.  </span>                                                 <span style=\"color: #008000; text-decoration-color: #008000\">│</span>\n",
              "<span style=\"color: #008000; text-decoration-color: #008000\">│</span>  <span style=\"color: #00ff00; text-decoration-color: #00ff00\">  - Updated regex patterns for the `langflow-base` dependency to support PEP 440 version suffixes.  </span>           <span style=\"color: #008000; text-decoration-color: #008000\">│</span>\n",
              "<span style=\"color: #008000; text-decoration-color: #008000\">│</span>  <span style=\"color: #00ff00; text-decoration-color: #00ff00\">  - Enhanced nightly scripts to support other version operators.  </span>                                             <span style=\"color: #008000; text-decoration-color: #008000\">│</span>\n",
              "<span style=\"color: #008000; text-decoration-color: #008000\">│</span>  <span style=\"color: #00ff00; text-decoration-color: #00ff00\">  - Updated `Vector Store RAG.json` template.  </span>                                                                <span style=\"color: #008000; text-decoration-color: #008000\">│</span>\n",
              "<span style=\"color: #008000; text-decoration-color: #008000\">│</span>                                                                                                                 <span style=\"color: #008000; text-decoration-color: #008000\">│</span>\n",
              "<span style=\"color: #008000; text-decoration-color: #008000\">│</span>  <span style=\"color: #00ff00; text-decoration-color: #00ff00\">- **New Contributors**  </span>                                                                                       <span style=\"color: #008000; text-decoration-color: #008000\">│</span>\n",
              "<span style=\"color: #008000; text-decoration-color: #008000\">│</span>  <span style=\"color: #00ff00; text-decoration-color: #00ff00\">  - @Khurdhula-Harshavardhan made their first contribution.  </span>                                                  <span style=\"color: #008000; text-decoration-color: #008000\">│</span>\n",
              "<span style=\"color: #008000; text-decoration-color: #008000\">│</span>                                                                                                                 <span style=\"color: #008000; text-decoration-color: #008000\">│</span>\n",
              "<span style=\"color: #008000; text-decoration-color: #008000\">│</span>  <span style=\"color: #00ff00; text-decoration-color: #00ff00\">**Full Changelog**: [Compare </span>                                                                                  <span style=\"color: #008000; text-decoration-color: #008000\">│</span>\n",
              "<span style=\"color: #008000; text-decoration-color: #008000\">│</span>  <span style=\"color: #00ff00; text-decoration-color: #00ff00\">1.5.0...1.5.0.post1](https://github.com/langflow-ai/langflow/compare/1.5.0...1.5.0.post1)</span>                      <span style=\"color: #008000; text-decoration-color: #008000\">│</span>\n",
              "<span style=\"color: #008000; text-decoration-color: #008000\">│</span>                                                                                                                 <span style=\"color: #008000; text-decoration-color: #008000\">│</span>\n",
              "<span style=\"color: #008000; text-decoration-color: #008000\">╰─────────────────────────────────────────────────────────────────────────────────────────────────────────────────╯</span>\n",
              "</pre>\n"
            ]
          },
          "metadata": {}
        },
        {
          "output_type": "display_data",
          "data": {
            "text/plain": [
              "\n"
            ],
            "text/html": [
              "<pre style=\"white-space:pre;overflow-x:auto;line-height:normal;font-family:Menlo,'DejaVu Sans Mono',consolas,'Courier New',monospace\">\n",
              "</pre>\n"
            ]
          },
          "metadata": {}
        },
        {
          "output_type": "display_data",
          "data": {
            "text/plain": [],
            "text/html": [
              "<pre style=\"white-space:pre;overflow-x:auto;line-height:normal;font-family:Menlo,'DejaVu Sans Mono',consolas,'Courier New',monospace\"></pre>\n"
            ]
          },
          "metadata": {}
        },
        {
          "output_type": "display_data",
          "data": {
            "text/plain": [
              "\u001b[32m╭─\u001b[0m\u001b[32m───────────────────────────────────────────────\u001b[0m\u001b[32m Task Completion \u001b[0m\u001b[32m───────────────────────────────────────────────\u001b[0m\u001b[32m─╮\u001b[0m\n",
              "\u001b[32m│\u001b[0m                                                                                                                 \u001b[32m│\u001b[0m\n",
              "\u001b[32m│\u001b[0m  \u001b[1;32mTask Completed\u001b[0m                                                                                                 \u001b[32m│\u001b[0m\n",
              "\u001b[32m│\u001b[0m  \u001b[37mName: \u001b[0m\u001b[32m3d371da4-bcdd-449c-aa43-853c3b690a92\u001b[0m                                                                     \u001b[32m│\u001b[0m\n",
              "\u001b[32m│\u001b[0m  \u001b[37mAgent: \u001b[0m\u001b[32mPrincipal Technology Analyst\u001b[0m                                                                            \u001b[32m│\u001b[0m\n",
              "\u001b[32m│\u001b[0m  \u001b[37mTool Args: \u001b[0m                                                                                                    \u001b[32m│\u001b[0m\n",
              "\u001b[32m│\u001b[0m                                                                                                                 \u001b[32m│\u001b[0m\n",
              "\u001b[32m│\u001b[0m                                                                                                                 \u001b[32m│\u001b[0m\n",
              "\u001b[32m╰─────────────────────────────────────────────────────────────────────────────────────────────────────────────────╯\u001b[0m\n"
            ],
            "text/html": [
              "<pre style=\"white-space:pre;overflow-x:auto;line-height:normal;font-family:Menlo,'DejaVu Sans Mono',consolas,'Courier New',monospace\"><span style=\"color: #008000; text-decoration-color: #008000\">╭──────────────────────────────────────────────── Task Completion ────────────────────────────────────────────────╮</span>\n",
              "<span style=\"color: #008000; text-decoration-color: #008000\">│</span>                                                                                                                 <span style=\"color: #008000; text-decoration-color: #008000\">│</span>\n",
              "<span style=\"color: #008000; text-decoration-color: #008000\">│</span>  <span style=\"color: #008000; text-decoration-color: #008000; font-weight: bold\">Task Completed</span>                                                                                                 <span style=\"color: #008000; text-decoration-color: #008000\">│</span>\n",
              "<span style=\"color: #008000; text-decoration-color: #008000\">│</span>  <span style=\"color: #c0c0c0; text-decoration-color: #c0c0c0\">Name: </span><span style=\"color: #008000; text-decoration-color: #008000\">3d371da4-bcdd-449c-aa43-853c3b690a92</span>                                                                     <span style=\"color: #008000; text-decoration-color: #008000\">│</span>\n",
              "<span style=\"color: #008000; text-decoration-color: #008000\">│</span>  <span style=\"color: #c0c0c0; text-decoration-color: #c0c0c0\">Agent: </span><span style=\"color: #008000; text-decoration-color: #008000\">Principal Technology Analyst</span>                                                                            <span style=\"color: #008000; text-decoration-color: #008000\">│</span>\n",
              "<span style=\"color: #008000; text-decoration-color: #008000\">│</span>  <span style=\"color: #c0c0c0; text-decoration-color: #c0c0c0\">Tool Args: </span>                                                                                                    <span style=\"color: #008000; text-decoration-color: #008000\">│</span>\n",
              "<span style=\"color: #008000; text-decoration-color: #008000\">│</span>                                                                                                                 <span style=\"color: #008000; text-decoration-color: #008000\">│</span>\n",
              "<span style=\"color: #008000; text-decoration-color: #008000\">│</span>                                                                                                                 <span style=\"color: #008000; text-decoration-color: #008000\">│</span>\n",
              "<span style=\"color: #008000; text-decoration-color: #008000\">╰─────────────────────────────────────────────────────────────────────────────────────────────────────────────────╯</span>\n",
              "</pre>\n"
            ]
          },
          "metadata": {}
        },
        {
          "output_type": "display_data",
          "data": {
            "text/plain": [
              "\n"
            ],
            "text/html": [
              "<pre style=\"white-space:pre;overflow-x:auto;line-height:normal;font-family:Menlo,'DejaVu Sans Mono',consolas,'Courier New',monospace\">\n",
              "</pre>\n"
            ]
          },
          "metadata": {}
        },
        {
          "output_type": "display_data",
          "data": {
            "text/plain": [],
            "text/html": [
              "<pre style=\"white-space:pre;overflow-x:auto;line-height:normal;font-family:Menlo,'DejaVu Sans Mono',consolas,'Courier New',monospace\"></pre>\n"
            ]
          },
          "metadata": {}
        },
        {
          "output_type": "display_data",
          "data": {
            "text/plain": [
              "\u001b[35m╭─\u001b[0m\u001b[35m──────────────────────────────────────────────\u001b[0m\u001b[35m 🤖 Agent Started \u001b[0m\u001b[35m───────────────────────────────────────────────\u001b[0m\u001b[35m─╮\u001b[0m\n",
              "\u001b[35m│\u001b[0m                                                                                                                 \u001b[35m│\u001b[0m\n",
              "\u001b[35m│\u001b[0m  \u001b[37mAgent: \u001b[0m\u001b[1;92mExpert Tech Newsletter Writer\u001b[0m                                                                           \u001b[35m│\u001b[0m\n",
              "\u001b[35m│\u001b[0m                                                                                                                 \u001b[35m│\u001b[0m\n",
              "\u001b[35m│\u001b[0m  \u001b[37mTask: \u001b[0m\u001b[92mTake the analyst's report and transform it into a polished, professional HTML newsletter body. Use <h2>\u001b[0m  \u001b[35m│\u001b[0m\n",
              "\u001b[35m│\u001b[0m  \u001b[92mtags for main sections (e.g., '🚀 New Features', '🐞 Bug Fixes'), and an unordered list (<ul> with <li> \u001b[0m       \u001b[35m│\u001b[0m\n",
              "\u001b[35m│\u001b[0m  \u001b[92mitems) for the details in each section. Make the title of each list item bold using <strong> tags. Do NOT \u001b[0m     \u001b[35m│\u001b[0m\n",
              "\u001b[35m│\u001b[0m  \u001b[92minclude the <html>, <head>, or <body> tags, only the content that goes inside the body.\u001b[0m                        \u001b[35m│\u001b[0m\n",
              "\u001b[35m│\u001b[0m                                                                                                                 \u001b[35m│\u001b[0m\n",
              "\u001b[35m╰─────────────────────────────────────────────────────────────────────────────────────────────────────────────────╯\u001b[0m\n"
            ],
            "text/html": [
              "<pre style=\"white-space:pre;overflow-x:auto;line-height:normal;font-family:Menlo,'DejaVu Sans Mono',consolas,'Courier New',monospace\"><span style=\"color: #800080; text-decoration-color: #800080\">╭─────────────────────────────────────────────── 🤖 Agent Started ────────────────────────────────────────────────╮</span>\n",
              "<span style=\"color: #800080; text-decoration-color: #800080\">│</span>                                                                                                                 <span style=\"color: #800080; text-decoration-color: #800080\">│</span>\n",
              "<span style=\"color: #800080; text-decoration-color: #800080\">│</span>  <span style=\"color: #c0c0c0; text-decoration-color: #c0c0c0\">Agent: </span><span style=\"color: #00ff00; text-decoration-color: #00ff00; font-weight: bold\">Expert Tech Newsletter Writer</span>                                                                           <span style=\"color: #800080; text-decoration-color: #800080\">│</span>\n",
              "<span style=\"color: #800080; text-decoration-color: #800080\">│</span>                                                                                                                 <span style=\"color: #800080; text-decoration-color: #800080\">│</span>\n",
              "<span style=\"color: #800080; text-decoration-color: #800080\">│</span>  <span style=\"color: #c0c0c0; text-decoration-color: #c0c0c0\">Task: </span><span style=\"color: #00ff00; text-decoration-color: #00ff00\">Take the analyst's report and transform it into a polished, professional HTML newsletter body. Use &lt;h2&gt;</span>  <span style=\"color: #800080; text-decoration-color: #800080\">│</span>\n",
              "<span style=\"color: #800080; text-decoration-color: #800080\">│</span>  <span style=\"color: #00ff00; text-decoration-color: #00ff00\">tags for main sections (e.g., '🚀 New Features', '🐞 Bug Fixes'), and an unordered list (&lt;ul&gt; with &lt;li&gt; </span>       <span style=\"color: #800080; text-decoration-color: #800080\">│</span>\n",
              "<span style=\"color: #800080; text-decoration-color: #800080\">│</span>  <span style=\"color: #00ff00; text-decoration-color: #00ff00\">items) for the details in each section. Make the title of each list item bold using &lt;strong&gt; tags. Do NOT </span>     <span style=\"color: #800080; text-decoration-color: #800080\">│</span>\n",
              "<span style=\"color: #800080; text-decoration-color: #800080\">│</span>  <span style=\"color: #00ff00; text-decoration-color: #00ff00\">include the &lt;html&gt;, &lt;head&gt;, or &lt;body&gt; tags, only the content that goes inside the body.</span>                        <span style=\"color: #800080; text-decoration-color: #800080\">│</span>\n",
              "<span style=\"color: #800080; text-decoration-color: #800080\">│</span>                                                                                                                 <span style=\"color: #800080; text-decoration-color: #800080\">│</span>\n",
              "<span style=\"color: #800080; text-decoration-color: #800080\">╰─────────────────────────────────────────────────────────────────────────────────────────────────────────────────╯</span>\n",
              "</pre>\n"
            ]
          },
          "metadata": {}
        },
        {
          "output_type": "display_data",
          "data": {
            "text/plain": [
              "\n"
            ],
            "text/html": [
              "<pre style=\"white-space:pre;overflow-x:auto;line-height:normal;font-family:Menlo,'DejaVu Sans Mono',consolas,'Courier New',monospace\">\n",
              "</pre>\n"
            ]
          },
          "metadata": {}
        },
        {
          "output_type": "display_data",
          "data": {
            "text/plain": [
              "Output()"
            ],
            "application/vnd.jupyter.widget-view+json": {
              "version_major": 2,
              "version_minor": 0,
              "model_id": "b4d4b80707ca462da4fb33d40b9464ac"
            }
          },
          "metadata": {}
        },
        {
          "output_type": "display_data",
          "data": {
            "text/plain": [],
            "text/html": [
              "<pre style=\"white-space:pre;overflow-x:auto;line-height:normal;font-family:Menlo,'DejaVu Sans Mono',consolas,'Courier New',monospace\"></pre>\n"
            ]
          },
          "metadata": {}
        },
        {
          "output_type": "display_data",
          "data": {
            "text/plain": [
              "\u001b[32m╭─\u001b[0m\u001b[32m────────────────────────────────────────────\u001b[0m\u001b[32m ✅ Agent Final Answer \u001b[0m\u001b[32m────────────────────────────────────────────\u001b[0m\u001b[32m─╮\u001b[0m\n",
              "\u001b[32m│\u001b[0m                                                                                                                 \u001b[32m│\u001b[0m\n",
              "\u001b[32m│\u001b[0m  \u001b[37mAgent: \u001b[0m\u001b[1;92mExpert Tech Newsletter Writer\u001b[0m                                                                           \u001b[32m│\u001b[0m\n",
              "\u001b[32m│\u001b[0m                                                                                                                 \u001b[32m│\u001b[0m\n",
              "\u001b[32m│\u001b[0m  \u001b[37mFinal Answer:\u001b[0m                                                                                                  \u001b[32m│\u001b[0m\n",
              "\u001b[32m│\u001b[0m  \u001b[92m```html\u001b[0m                                                                                                        \u001b[32m│\u001b[0m\n",
              "\u001b[32m│\u001b[0m  \u001b[92m<h2>🚀 New Features</h2>\u001b[0m                                                                                       \u001b[32m│\u001b[0m\n",
              "\u001b[32m│\u001b[0m  \u001b[92m<ul>\u001b[0m                                                                                                           \u001b[32m│\u001b[0m\n",
              "\u001b[32m│\u001b[0m  \u001b[92m  <li><strong>Added dynamic theming support to WatsonxAI icon.</strong></li>\u001b[0m                                   \u001b[32m│\u001b[0m\n",
              "\u001b[32m│\u001b[0m  \u001b[92m  <li><strong>Integration of JigsawStack bundle.</strong></li>\u001b[0m                                                 \u001b[32m│\u001b[0m\n",
              "\u001b[32m│\u001b[0m  \u001b[92m  <li><strong>Enhanced DataFrame Operations component with a \"contains\" filter and modern UI.</strong></li>\u001b[0m    \u001b[32m│\u001b[0m\n",
              "\u001b[32m│\u001b[0m  \u001b[92m  <li><strong>Added DataFrame output to the Structured Output component.</strong></li>\u001b[0m                         \u001b[32m│\u001b[0m\n",
              "\u001b[32m│\u001b[0m  \u001b[92m</ul>\u001b[0m                                                                                                          \u001b[32m│\u001b[0m\n",
              "\u001b[32m│\u001b[0m                                                                                                                 \u001b[32m│\u001b[0m\n",
              "\u001b[32m│\u001b[0m  \u001b[92m<h2>🐞 Bug Fixes</h2>\u001b[0m                                                                                          \u001b[32m│\u001b[0m\n",
              "\u001b[32m│\u001b[0m  \u001b[92m<ul>\u001b[0m                                                                                                           \u001b[32m│\u001b[0m\n",
              "\u001b[32m│\u001b[0m  \u001b[92m  <li><strong>Improved modal layout responsiveness and overflow handling.</strong></li>\u001b[0m                        \u001b[32m│\u001b[0m\n",
              "\u001b[32m│\u001b[0m  \u001b[92m  <li><strong>Enhanced flow export error handling and validation.</strong></li>\u001b[0m                                \u001b[32m│\u001b[0m\n",
              "\u001b[32m│\u001b[0m  \u001b[92m  <li><strong>Fixed database commitment issue when deleting a single file and created tests for file \u001b[0m          \u001b[32m│\u001b[0m\n",
              "\u001b[32m│\u001b[0m  \u001b[92mdeletion.</strong></li>\u001b[0m                                                                                        \u001b[32m│\u001b[0m\n",
              "\u001b[32m│\u001b[0m  \u001b[92m  <li><strong>Updated API access codes to include only authenticated code.</strong></li>\u001b[0m                       \u001b[32m│\u001b[0m\n",
              "\u001b[32m│\u001b[0m  \u001b[92m  <li><strong>Ensured `flow_id` is not `None` before logging vertex build details.</strong></li>\u001b[0m               \u001b[32m│\u001b[0m\n",
              "\u001b[32m│\u001b[0m  \u001b[92m  <li><strong>Fixed max height of \"template getting started\" cards.</strong></li>\u001b[0m                              \u001b[32m│\u001b[0m\n",
              "\u001b[32m│\u001b[0m  \u001b[92m  <li><strong>Cleaned up edges of the same type but with different names when switching outputs and updated \u001b[0m   \u001b[32m│\u001b[0m\n",
              "\u001b[32m│\u001b[0m  \u001b[92mcolor when deleting edges.</strong></li>\u001b[0m                                                                       \u001b[32m│\u001b[0m\n",
              "\u001b[32m│\u001b[0m  \u001b[92m  <li><strong>Updated file component description for accuracy.</strong></li>\u001b[0m                                   \u001b[32m│\u001b[0m\n",
              "\u001b[32m│\u001b[0m  \u001b[92m  <li><strong>Made MCP server component handle cache misses gracefully.</strong></li>\u001b[0m                          \u001b[32m│\u001b[0m\n",
              "\u001b[32m│\u001b[0m  \u001b[92m  <li><strong>Ensured files are saved in a unique path.</strong></li>\u001b[0m                                          \u001b[32m│\u001b[0m\n",
              "\u001b[32m│\u001b[0m  \u001b[92m  <li><strong>Added scroll functionality to the update components review dialog.</strong></li>\u001b[0m                 \u001b[32m│\u001b[0m\n",
              "\u001b[32m│\u001b[0m  \u001b[92m  <li><strong>Improved health checks and stream URL checks on MCP, with better JSON \u001b[0m                           \u001b[32m│\u001b[0m\n",
              "\u001b[32m│\u001b[0m  \u001b[92mrecognition.</strong></li>\u001b[0m                                                                                     \u001b[32m│\u001b[0m\n",
              "\u001b[32m│\u001b[0m  \u001b[92m</ul>\u001b[0m                                                                                                          \u001b[32m│\u001b[0m\n",
              "\u001b[32m│\u001b[0m                                                                                                                 \u001b[32m│\u001b[0m\n",
              "\u001b[32m│\u001b[0m  \u001b[92m<h2>📚 Documentation Updates</h2>\u001b[0m                                                                              \u001b[32m│\u001b[0m\n",
              "\u001b[32m│\u001b[0m  \u001b[92m<ul>\u001b[0m                                                                                                           \u001b[32m│\u001b[0m\n",
              "\u001b[32m│\u001b[0m  \u001b[92m  <li><strong>Updated `nv-ingest` component documentation.</strong></li>\u001b[0m                                       \u001b[32m│\u001b[0m\n",
              "\u001b[32m│\u001b[0m  \u001b[92m  <li><strong>Released documentation for version 1.5.</strong></li>\u001b[0m                                            \u001b[32m│\u001b[0m\n",
              "\u001b[32m│\u001b[0m  \u001b[92m  <li><strong>Added required API key headers for version 1.5.</strong></li>\u001b[0m                                    \u001b[32m│\u001b[0m\n",
              "\u001b[32m│\u001b[0m  \u001b[92m  <li><strong>Restored Windows desktop support in the 1.5 release.</strong></li>\u001b[0m                               \u001b[32m│\u001b[0m\n",
              "\u001b[32m│\u001b[0m  \u001b[92m  <li><strong>Added Windows-related content.</strong></li>\u001b[0m                                                     \u001b[32m│\u001b[0m\n",
              "\u001b[32m│\u001b[0m  \u001b[92m  <li><strong>Provided instructions for adding missing dependencies to Langflow desktop.</strong></li>\u001b[0m         \u001b[32m│\u001b[0m\n",
              "\u001b[32m│\u001b[0m  \u001b[92m  <li><strong>Included a Unix note in the API pane.</strong></li>\u001b[0m                                              \u001b[32m│\u001b[0m\n",
              "\u001b[32m│\u001b[0m  \u001b[92m  <li><strong>Integrated Docling documentation.</strong></li>\u001b[0m                                                  \u001b[32m│\u001b[0m\n",
              "\u001b[32m│\u001b[0m  \u001b[92m  <li><strong>Removed duplicate introductory text.</strong></li>\u001b[0m                                               \u001b[32m│\u001b[0m\n",
              "\u001b[32m│\u001b[0m  \u001b[92m  <li><strong>Published a chatbot tutorial using files.</strong></li>\u001b[0m                                          \u001b[32m│\u001b[0m\n",
              "\u001b[32m│\u001b[0m  \u001b[92m</ul>\u001b[0m                                                                                                          \u001b[32m│\u001b[0m\n",
              "\u001b[32m│\u001b[0m                                                                                                                 \u001b[32m│\u001b[0m\n",
              "\u001b[32m│\u001b[0m  \u001b[92m<h2>🛠️ Maintenance Tasks</h2>\u001b[0m                                                                                   \u001b[32m│\u001b[0m\n",
              "\u001b[32m│\u001b[0m  \u001b[92m<ul>\u001b[0m                                                                                                           \u001b[32m│\u001b[0m\n",
              "\u001b[32m│\u001b[0m  \u001b[92m  <li><strong>Refactored single file download logic into a custom hook.</strong></li>\u001b[0m                          \u001b[32m│\u001b[0m\n",
              "\u001b[32m│\u001b[0m  \u001b[92m  <li><strong>Simplified flow retrieval by removing the `settings_service` dependency.</strong></li>\u001b[0m           \u001b[32m│\u001b[0m\n",
              "\u001b[32m│\u001b[0m  \u001b[92m  <li><strong>Updated type hints for cache services in `MCPToolsComponent`.</strong></li>\u001b[0m                      \u001b[32m│\u001b[0m\n",
              "\u001b[32m│\u001b[0m  \u001b[92m  <li><strong>Refactored imports and moved functions out of `MCPToolsComponent`.</strong></li>\u001b[0m                 \u001b[32m│\u001b[0m\n",
              "\u001b[32m│\u001b[0m  \u001b[92m</ul>\u001b[0m                                                                                                          \u001b[32m│\u001b[0m\n",
              "\u001b[32m│\u001b[0m                                                                                                                 \u001b[32m│\u001b[0m\n",
              "\u001b[32m│\u001b[0m  \u001b[92m<h2>📦 Other Updates</h2>\u001b[0m                                                                                      \u001b[32m│\u001b[0m\n",
              "\u001b[32m│\u001b[0m  \u001b[92m<ul>\u001b[0m                                                                                                           \u001b[32m│\u001b[0m\n",
              "\u001b[32m│\u001b[0m  \u001b[92m  <li><strong>Released version 1.5.0.</strong></li>\u001b[0m                                                            \u001b[32m│\u001b[0m\n",
              "\u001b[32m│\u001b[0m  \u001b[92m  <li><strong>Updated package versions to include post-release tags.</strong></li>\u001b[0m                             \u001b[32m│\u001b[0m\n",
              "\u001b[32m│\u001b[0m  \u001b[92m  <li><strong>Enabled code guidelines in the Coderabbit configuration.</strong></li>\u001b[0m                           \u001b[32m│\u001b[0m\n",
              "\u001b[32m│\u001b[0m  \u001b[92m  <li><strong>Updated regex patterns for the `langflow-base` dependency to support PEP 440 version \u001b[0m            \u001b[32m│\u001b[0m\n",
              "\u001b[32m│\u001b[0m  \u001b[92msuffixes.</strong></li>\u001b[0m                                                                                        \u001b[32m│\u001b[0m\n",
              "\u001b[32m│\u001b[0m  \u001b[92m  <li><strong>Enhanced nightly scripts to support other version operators.</strong></li>\u001b[0m                       \u001b[32m│\u001b[0m\n",
              "\u001b[32m│\u001b[0m  \u001b[92m  <li><strong>Updated `Vector Store RAG.json` template.</strong></li>\u001b[0m                                          \u001b[32m│\u001b[0m\n",
              "\u001b[32m│\u001b[0m  \u001b[92m</ul>\u001b[0m                                                                                                          \u001b[32m│\u001b[0m\n",
              "\u001b[32m│\u001b[0m                                                                                                                 \u001b[32m│\u001b[0m\n",
              "\u001b[32m│\u001b[0m  \u001b[92m<h2>🙌 New Contributors</h2>\u001b[0m                                                                                   \u001b[32m│\u001b[0m\n",
              "\u001b[32m│\u001b[0m  \u001b[92m<ul>\u001b[0m                                                                                                           \u001b[32m│\u001b[0m\n",
              "\u001b[32m│\u001b[0m  \u001b[92m  <li><strong>@Khurdhula-Harshavardhan made their first contribution.</strong></li>\u001b[0m                            \u001b[32m│\u001b[0m\n",
              "\u001b[32m│\u001b[0m  \u001b[92m</ul>\u001b[0m                                                                                                          \u001b[32m│\u001b[0m\n",
              "\u001b[32m│\u001b[0m                                                                                                                 \u001b[32m│\u001b[0m\n",
              "\u001b[32m│\u001b[0m  \u001b[92m<h2>🔗 Full Changelog</h2>\u001b[0m                                                                                     \u001b[32m│\u001b[0m\n",
              "\u001b[32m│\u001b[0m  \u001b[92m<p><a href=\"https://github.com/langflow-ai/langflow/compare/1.5.0...1.5.0.post1\">Compare \u001b[0m                      \u001b[32m│\u001b[0m\n",
              "\u001b[32m│\u001b[0m  \u001b[92m1.5.0...1.5.0.post1</a></p>\u001b[0m                                                                                    \u001b[32m│\u001b[0m\n",
              "\u001b[32m│\u001b[0m  \u001b[92m```\u001b[0m                                                                                                            \u001b[32m│\u001b[0m\n",
              "\u001b[32m│\u001b[0m                                                                                                                 \u001b[32m│\u001b[0m\n",
              "\u001b[32m╰─────────────────────────────────────────────────────────────────────────────────────────────────────────────────╯\u001b[0m\n"
            ],
            "text/html": [
              "<pre style=\"white-space:pre;overflow-x:auto;line-height:normal;font-family:Menlo,'DejaVu Sans Mono',consolas,'Courier New',monospace\"><span style=\"color: #008000; text-decoration-color: #008000\">╭───────────────────────────────────────────── ✅ Agent Final Answer ─────────────────────────────────────────────╮</span>\n",
              "<span style=\"color: #008000; text-decoration-color: #008000\">│</span>                                                                                                                 <span style=\"color: #008000; text-decoration-color: #008000\">│</span>\n",
              "<span style=\"color: #008000; text-decoration-color: #008000\">│</span>  <span style=\"color: #c0c0c0; text-decoration-color: #c0c0c0\">Agent: </span><span style=\"color: #00ff00; text-decoration-color: #00ff00; font-weight: bold\">Expert Tech Newsletter Writer</span>                                                                           <span style=\"color: #008000; text-decoration-color: #008000\">│</span>\n",
              "<span style=\"color: #008000; text-decoration-color: #008000\">│</span>                                                                                                                 <span style=\"color: #008000; text-decoration-color: #008000\">│</span>\n",
              "<span style=\"color: #008000; text-decoration-color: #008000\">│</span>  <span style=\"color: #c0c0c0; text-decoration-color: #c0c0c0\">Final Answer:</span>                                                                                                  <span style=\"color: #008000; text-decoration-color: #008000\">│</span>\n",
              "<span style=\"color: #008000; text-decoration-color: #008000\">│</span>  <span style=\"color: #00ff00; text-decoration-color: #00ff00\">```html</span>                                                                                                        <span style=\"color: #008000; text-decoration-color: #008000\">│</span>\n",
              "<span style=\"color: #008000; text-decoration-color: #008000\">│</span>  <span style=\"color: #00ff00; text-decoration-color: #00ff00\">&lt;h2&gt;🚀 New Features&lt;/h2&gt;</span>                                                                                       <span style=\"color: #008000; text-decoration-color: #008000\">│</span>\n",
              "<span style=\"color: #008000; text-decoration-color: #008000\">│</span>  <span style=\"color: #00ff00; text-decoration-color: #00ff00\">&lt;ul&gt;</span>                                                                                                           <span style=\"color: #008000; text-decoration-color: #008000\">│</span>\n",
              "<span style=\"color: #008000; text-decoration-color: #008000\">│</span>  <span style=\"color: #00ff00; text-decoration-color: #00ff00\">  &lt;li&gt;&lt;strong&gt;Added dynamic theming support to WatsonxAI icon.&lt;/strong&gt;&lt;/li&gt;</span>                                   <span style=\"color: #008000; text-decoration-color: #008000\">│</span>\n",
              "<span style=\"color: #008000; text-decoration-color: #008000\">│</span>  <span style=\"color: #00ff00; text-decoration-color: #00ff00\">  &lt;li&gt;&lt;strong&gt;Integration of JigsawStack bundle.&lt;/strong&gt;&lt;/li&gt;</span>                                                 <span style=\"color: #008000; text-decoration-color: #008000\">│</span>\n",
              "<span style=\"color: #008000; text-decoration-color: #008000\">│</span>  <span style=\"color: #00ff00; text-decoration-color: #00ff00\">  &lt;li&gt;&lt;strong&gt;Enhanced DataFrame Operations component with a \"contains\" filter and modern UI.&lt;/strong&gt;&lt;/li&gt;</span>    <span style=\"color: #008000; text-decoration-color: #008000\">│</span>\n",
              "<span style=\"color: #008000; text-decoration-color: #008000\">│</span>  <span style=\"color: #00ff00; text-decoration-color: #00ff00\">  &lt;li&gt;&lt;strong&gt;Added DataFrame output to the Structured Output component.&lt;/strong&gt;&lt;/li&gt;</span>                         <span style=\"color: #008000; text-decoration-color: #008000\">│</span>\n",
              "<span style=\"color: #008000; text-decoration-color: #008000\">│</span>  <span style=\"color: #00ff00; text-decoration-color: #00ff00\">&lt;/ul&gt;</span>                                                                                                          <span style=\"color: #008000; text-decoration-color: #008000\">│</span>\n",
              "<span style=\"color: #008000; text-decoration-color: #008000\">│</span>                                                                                                                 <span style=\"color: #008000; text-decoration-color: #008000\">│</span>\n",
              "<span style=\"color: #008000; text-decoration-color: #008000\">│</span>  <span style=\"color: #00ff00; text-decoration-color: #00ff00\">&lt;h2&gt;🐞 Bug Fixes&lt;/h2&gt;</span>                                                                                          <span style=\"color: #008000; text-decoration-color: #008000\">│</span>\n",
              "<span style=\"color: #008000; text-decoration-color: #008000\">│</span>  <span style=\"color: #00ff00; text-decoration-color: #00ff00\">&lt;ul&gt;</span>                                                                                                           <span style=\"color: #008000; text-decoration-color: #008000\">│</span>\n",
              "<span style=\"color: #008000; text-decoration-color: #008000\">│</span>  <span style=\"color: #00ff00; text-decoration-color: #00ff00\">  &lt;li&gt;&lt;strong&gt;Improved modal layout responsiveness and overflow handling.&lt;/strong&gt;&lt;/li&gt;</span>                        <span style=\"color: #008000; text-decoration-color: #008000\">│</span>\n",
              "<span style=\"color: #008000; text-decoration-color: #008000\">│</span>  <span style=\"color: #00ff00; text-decoration-color: #00ff00\">  &lt;li&gt;&lt;strong&gt;Enhanced flow export error handling and validation.&lt;/strong&gt;&lt;/li&gt;</span>                                <span style=\"color: #008000; text-decoration-color: #008000\">│</span>\n",
              "<span style=\"color: #008000; text-decoration-color: #008000\">│</span>  <span style=\"color: #00ff00; text-decoration-color: #00ff00\">  &lt;li&gt;&lt;strong&gt;Fixed database commitment issue when deleting a single file and created tests for file </span>          <span style=\"color: #008000; text-decoration-color: #008000\">│</span>\n",
              "<span style=\"color: #008000; text-decoration-color: #008000\">│</span>  <span style=\"color: #00ff00; text-decoration-color: #00ff00\">deletion.&lt;/strong&gt;&lt;/li&gt;</span>                                                                                        <span style=\"color: #008000; text-decoration-color: #008000\">│</span>\n",
              "<span style=\"color: #008000; text-decoration-color: #008000\">│</span>  <span style=\"color: #00ff00; text-decoration-color: #00ff00\">  &lt;li&gt;&lt;strong&gt;Updated API access codes to include only authenticated code.&lt;/strong&gt;&lt;/li&gt;</span>                       <span style=\"color: #008000; text-decoration-color: #008000\">│</span>\n",
              "<span style=\"color: #008000; text-decoration-color: #008000\">│</span>  <span style=\"color: #00ff00; text-decoration-color: #00ff00\">  &lt;li&gt;&lt;strong&gt;Ensured `flow_id` is not `None` before logging vertex build details.&lt;/strong&gt;&lt;/li&gt;</span>               <span style=\"color: #008000; text-decoration-color: #008000\">│</span>\n",
              "<span style=\"color: #008000; text-decoration-color: #008000\">│</span>  <span style=\"color: #00ff00; text-decoration-color: #00ff00\">  &lt;li&gt;&lt;strong&gt;Fixed max height of \"template getting started\" cards.&lt;/strong&gt;&lt;/li&gt;</span>                              <span style=\"color: #008000; text-decoration-color: #008000\">│</span>\n",
              "<span style=\"color: #008000; text-decoration-color: #008000\">│</span>  <span style=\"color: #00ff00; text-decoration-color: #00ff00\">  &lt;li&gt;&lt;strong&gt;Cleaned up edges of the same type but with different names when switching outputs and updated </span>   <span style=\"color: #008000; text-decoration-color: #008000\">│</span>\n",
              "<span style=\"color: #008000; text-decoration-color: #008000\">│</span>  <span style=\"color: #00ff00; text-decoration-color: #00ff00\">color when deleting edges.&lt;/strong&gt;&lt;/li&gt;</span>                                                                       <span style=\"color: #008000; text-decoration-color: #008000\">│</span>\n",
              "<span style=\"color: #008000; text-decoration-color: #008000\">│</span>  <span style=\"color: #00ff00; text-decoration-color: #00ff00\">  &lt;li&gt;&lt;strong&gt;Updated file component description for accuracy.&lt;/strong&gt;&lt;/li&gt;</span>                                   <span style=\"color: #008000; text-decoration-color: #008000\">│</span>\n",
              "<span style=\"color: #008000; text-decoration-color: #008000\">│</span>  <span style=\"color: #00ff00; text-decoration-color: #00ff00\">  &lt;li&gt;&lt;strong&gt;Made MCP server component handle cache misses gracefully.&lt;/strong&gt;&lt;/li&gt;</span>                          <span style=\"color: #008000; text-decoration-color: #008000\">│</span>\n",
              "<span style=\"color: #008000; text-decoration-color: #008000\">│</span>  <span style=\"color: #00ff00; text-decoration-color: #00ff00\">  &lt;li&gt;&lt;strong&gt;Ensured files are saved in a unique path.&lt;/strong&gt;&lt;/li&gt;</span>                                          <span style=\"color: #008000; text-decoration-color: #008000\">│</span>\n",
              "<span style=\"color: #008000; text-decoration-color: #008000\">│</span>  <span style=\"color: #00ff00; text-decoration-color: #00ff00\">  &lt;li&gt;&lt;strong&gt;Added scroll functionality to the update components review dialog.&lt;/strong&gt;&lt;/li&gt;</span>                 <span style=\"color: #008000; text-decoration-color: #008000\">│</span>\n",
              "<span style=\"color: #008000; text-decoration-color: #008000\">│</span>  <span style=\"color: #00ff00; text-decoration-color: #00ff00\">  &lt;li&gt;&lt;strong&gt;Improved health checks and stream URL checks on MCP, with better JSON </span>                           <span style=\"color: #008000; text-decoration-color: #008000\">│</span>\n",
              "<span style=\"color: #008000; text-decoration-color: #008000\">│</span>  <span style=\"color: #00ff00; text-decoration-color: #00ff00\">recognition.&lt;/strong&gt;&lt;/li&gt;</span>                                                                                     <span style=\"color: #008000; text-decoration-color: #008000\">│</span>\n",
              "<span style=\"color: #008000; text-decoration-color: #008000\">│</span>  <span style=\"color: #00ff00; text-decoration-color: #00ff00\">&lt;/ul&gt;</span>                                                                                                          <span style=\"color: #008000; text-decoration-color: #008000\">│</span>\n",
              "<span style=\"color: #008000; text-decoration-color: #008000\">│</span>                                                                                                                 <span style=\"color: #008000; text-decoration-color: #008000\">│</span>\n",
              "<span style=\"color: #008000; text-decoration-color: #008000\">│</span>  <span style=\"color: #00ff00; text-decoration-color: #00ff00\">&lt;h2&gt;📚 Documentation Updates&lt;/h2&gt;</span>                                                                              <span style=\"color: #008000; text-decoration-color: #008000\">│</span>\n",
              "<span style=\"color: #008000; text-decoration-color: #008000\">│</span>  <span style=\"color: #00ff00; text-decoration-color: #00ff00\">&lt;ul&gt;</span>                                                                                                           <span style=\"color: #008000; text-decoration-color: #008000\">│</span>\n",
              "<span style=\"color: #008000; text-decoration-color: #008000\">│</span>  <span style=\"color: #00ff00; text-decoration-color: #00ff00\">  &lt;li&gt;&lt;strong&gt;Updated `nv-ingest` component documentation.&lt;/strong&gt;&lt;/li&gt;</span>                                       <span style=\"color: #008000; text-decoration-color: #008000\">│</span>\n",
              "<span style=\"color: #008000; text-decoration-color: #008000\">│</span>  <span style=\"color: #00ff00; text-decoration-color: #00ff00\">  &lt;li&gt;&lt;strong&gt;Released documentation for version 1.5.&lt;/strong&gt;&lt;/li&gt;</span>                                            <span style=\"color: #008000; text-decoration-color: #008000\">│</span>\n",
              "<span style=\"color: #008000; text-decoration-color: #008000\">│</span>  <span style=\"color: #00ff00; text-decoration-color: #00ff00\">  &lt;li&gt;&lt;strong&gt;Added required API key headers for version 1.5.&lt;/strong&gt;&lt;/li&gt;</span>                                    <span style=\"color: #008000; text-decoration-color: #008000\">│</span>\n",
              "<span style=\"color: #008000; text-decoration-color: #008000\">│</span>  <span style=\"color: #00ff00; text-decoration-color: #00ff00\">  &lt;li&gt;&lt;strong&gt;Restored Windows desktop support in the 1.5 release.&lt;/strong&gt;&lt;/li&gt;</span>                               <span style=\"color: #008000; text-decoration-color: #008000\">│</span>\n",
              "<span style=\"color: #008000; text-decoration-color: #008000\">│</span>  <span style=\"color: #00ff00; text-decoration-color: #00ff00\">  &lt;li&gt;&lt;strong&gt;Added Windows-related content.&lt;/strong&gt;&lt;/li&gt;</span>                                                     <span style=\"color: #008000; text-decoration-color: #008000\">│</span>\n",
              "<span style=\"color: #008000; text-decoration-color: #008000\">│</span>  <span style=\"color: #00ff00; text-decoration-color: #00ff00\">  &lt;li&gt;&lt;strong&gt;Provided instructions for adding missing dependencies to Langflow desktop.&lt;/strong&gt;&lt;/li&gt;</span>         <span style=\"color: #008000; text-decoration-color: #008000\">│</span>\n",
              "<span style=\"color: #008000; text-decoration-color: #008000\">│</span>  <span style=\"color: #00ff00; text-decoration-color: #00ff00\">  &lt;li&gt;&lt;strong&gt;Included a Unix note in the API pane.&lt;/strong&gt;&lt;/li&gt;</span>                                              <span style=\"color: #008000; text-decoration-color: #008000\">│</span>\n",
              "<span style=\"color: #008000; text-decoration-color: #008000\">│</span>  <span style=\"color: #00ff00; text-decoration-color: #00ff00\">  &lt;li&gt;&lt;strong&gt;Integrated Docling documentation.&lt;/strong&gt;&lt;/li&gt;</span>                                                  <span style=\"color: #008000; text-decoration-color: #008000\">│</span>\n",
              "<span style=\"color: #008000; text-decoration-color: #008000\">│</span>  <span style=\"color: #00ff00; text-decoration-color: #00ff00\">  &lt;li&gt;&lt;strong&gt;Removed duplicate introductory text.&lt;/strong&gt;&lt;/li&gt;</span>                                               <span style=\"color: #008000; text-decoration-color: #008000\">│</span>\n",
              "<span style=\"color: #008000; text-decoration-color: #008000\">│</span>  <span style=\"color: #00ff00; text-decoration-color: #00ff00\">  &lt;li&gt;&lt;strong&gt;Published a chatbot tutorial using files.&lt;/strong&gt;&lt;/li&gt;</span>                                          <span style=\"color: #008000; text-decoration-color: #008000\">│</span>\n",
              "<span style=\"color: #008000; text-decoration-color: #008000\">│</span>  <span style=\"color: #00ff00; text-decoration-color: #00ff00\">&lt;/ul&gt;</span>                                                                                                          <span style=\"color: #008000; text-decoration-color: #008000\">│</span>\n",
              "<span style=\"color: #008000; text-decoration-color: #008000\">│</span>                                                                                                                 <span style=\"color: #008000; text-decoration-color: #008000\">│</span>\n",
              "<span style=\"color: #008000; text-decoration-color: #008000\">│</span>  <span style=\"color: #00ff00; text-decoration-color: #00ff00\">&lt;h2&gt;🛠️ Maintenance Tasks&lt;/h2&gt;</span>                                                                                   <span style=\"color: #008000; text-decoration-color: #008000\">│</span>\n",
              "<span style=\"color: #008000; text-decoration-color: #008000\">│</span>  <span style=\"color: #00ff00; text-decoration-color: #00ff00\">&lt;ul&gt;</span>                                                                                                           <span style=\"color: #008000; text-decoration-color: #008000\">│</span>\n",
              "<span style=\"color: #008000; text-decoration-color: #008000\">│</span>  <span style=\"color: #00ff00; text-decoration-color: #00ff00\">  &lt;li&gt;&lt;strong&gt;Refactored single file download logic into a custom hook.&lt;/strong&gt;&lt;/li&gt;</span>                          <span style=\"color: #008000; text-decoration-color: #008000\">│</span>\n",
              "<span style=\"color: #008000; text-decoration-color: #008000\">│</span>  <span style=\"color: #00ff00; text-decoration-color: #00ff00\">  &lt;li&gt;&lt;strong&gt;Simplified flow retrieval by removing the `settings_service` dependency.&lt;/strong&gt;&lt;/li&gt;</span>           <span style=\"color: #008000; text-decoration-color: #008000\">│</span>\n",
              "<span style=\"color: #008000; text-decoration-color: #008000\">│</span>  <span style=\"color: #00ff00; text-decoration-color: #00ff00\">  &lt;li&gt;&lt;strong&gt;Updated type hints for cache services in `MCPToolsComponent`.&lt;/strong&gt;&lt;/li&gt;</span>                      <span style=\"color: #008000; text-decoration-color: #008000\">│</span>\n",
              "<span style=\"color: #008000; text-decoration-color: #008000\">│</span>  <span style=\"color: #00ff00; text-decoration-color: #00ff00\">  &lt;li&gt;&lt;strong&gt;Refactored imports and moved functions out of `MCPToolsComponent`.&lt;/strong&gt;&lt;/li&gt;</span>                 <span style=\"color: #008000; text-decoration-color: #008000\">│</span>\n",
              "<span style=\"color: #008000; text-decoration-color: #008000\">│</span>  <span style=\"color: #00ff00; text-decoration-color: #00ff00\">&lt;/ul&gt;</span>                                                                                                          <span style=\"color: #008000; text-decoration-color: #008000\">│</span>\n",
              "<span style=\"color: #008000; text-decoration-color: #008000\">│</span>                                                                                                                 <span style=\"color: #008000; text-decoration-color: #008000\">│</span>\n",
              "<span style=\"color: #008000; text-decoration-color: #008000\">│</span>  <span style=\"color: #00ff00; text-decoration-color: #00ff00\">&lt;h2&gt;📦 Other Updates&lt;/h2&gt;</span>                                                                                      <span style=\"color: #008000; text-decoration-color: #008000\">│</span>\n",
              "<span style=\"color: #008000; text-decoration-color: #008000\">│</span>  <span style=\"color: #00ff00; text-decoration-color: #00ff00\">&lt;ul&gt;</span>                                                                                                           <span style=\"color: #008000; text-decoration-color: #008000\">│</span>\n",
              "<span style=\"color: #008000; text-decoration-color: #008000\">│</span>  <span style=\"color: #00ff00; text-decoration-color: #00ff00\">  &lt;li&gt;&lt;strong&gt;Released version 1.5.0.&lt;/strong&gt;&lt;/li&gt;</span>                                                            <span style=\"color: #008000; text-decoration-color: #008000\">│</span>\n",
              "<span style=\"color: #008000; text-decoration-color: #008000\">│</span>  <span style=\"color: #00ff00; text-decoration-color: #00ff00\">  &lt;li&gt;&lt;strong&gt;Updated package versions to include post-release tags.&lt;/strong&gt;&lt;/li&gt;</span>                             <span style=\"color: #008000; text-decoration-color: #008000\">│</span>\n",
              "<span style=\"color: #008000; text-decoration-color: #008000\">│</span>  <span style=\"color: #00ff00; text-decoration-color: #00ff00\">  &lt;li&gt;&lt;strong&gt;Enabled code guidelines in the Coderabbit configuration.&lt;/strong&gt;&lt;/li&gt;</span>                           <span style=\"color: #008000; text-decoration-color: #008000\">│</span>\n",
              "<span style=\"color: #008000; text-decoration-color: #008000\">│</span>  <span style=\"color: #00ff00; text-decoration-color: #00ff00\">  &lt;li&gt;&lt;strong&gt;Updated regex patterns for the `langflow-base` dependency to support PEP 440 version </span>            <span style=\"color: #008000; text-decoration-color: #008000\">│</span>\n",
              "<span style=\"color: #008000; text-decoration-color: #008000\">│</span>  <span style=\"color: #00ff00; text-decoration-color: #00ff00\">suffixes.&lt;/strong&gt;&lt;/li&gt;</span>                                                                                        <span style=\"color: #008000; text-decoration-color: #008000\">│</span>\n",
              "<span style=\"color: #008000; text-decoration-color: #008000\">│</span>  <span style=\"color: #00ff00; text-decoration-color: #00ff00\">  &lt;li&gt;&lt;strong&gt;Enhanced nightly scripts to support other version operators.&lt;/strong&gt;&lt;/li&gt;</span>                       <span style=\"color: #008000; text-decoration-color: #008000\">│</span>\n",
              "<span style=\"color: #008000; text-decoration-color: #008000\">│</span>  <span style=\"color: #00ff00; text-decoration-color: #00ff00\">  &lt;li&gt;&lt;strong&gt;Updated `Vector Store RAG.json` template.&lt;/strong&gt;&lt;/li&gt;</span>                                          <span style=\"color: #008000; text-decoration-color: #008000\">│</span>\n",
              "<span style=\"color: #008000; text-decoration-color: #008000\">│</span>  <span style=\"color: #00ff00; text-decoration-color: #00ff00\">&lt;/ul&gt;</span>                                                                                                          <span style=\"color: #008000; text-decoration-color: #008000\">│</span>\n",
              "<span style=\"color: #008000; text-decoration-color: #008000\">│</span>                                                                                                                 <span style=\"color: #008000; text-decoration-color: #008000\">│</span>\n",
              "<span style=\"color: #008000; text-decoration-color: #008000\">│</span>  <span style=\"color: #00ff00; text-decoration-color: #00ff00\">&lt;h2&gt;🙌 New Contributors&lt;/h2&gt;</span>                                                                                   <span style=\"color: #008000; text-decoration-color: #008000\">│</span>\n",
              "<span style=\"color: #008000; text-decoration-color: #008000\">│</span>  <span style=\"color: #00ff00; text-decoration-color: #00ff00\">&lt;ul&gt;</span>                                                                                                           <span style=\"color: #008000; text-decoration-color: #008000\">│</span>\n",
              "<span style=\"color: #008000; text-decoration-color: #008000\">│</span>  <span style=\"color: #00ff00; text-decoration-color: #00ff00\">  &lt;li&gt;&lt;strong&gt;@Khurdhula-Harshavardhan made their first contribution.&lt;/strong&gt;&lt;/li&gt;</span>                            <span style=\"color: #008000; text-decoration-color: #008000\">│</span>\n",
              "<span style=\"color: #008000; text-decoration-color: #008000\">│</span>  <span style=\"color: #00ff00; text-decoration-color: #00ff00\">&lt;/ul&gt;</span>                                                                                                          <span style=\"color: #008000; text-decoration-color: #008000\">│</span>\n",
              "<span style=\"color: #008000; text-decoration-color: #008000\">│</span>                                                                                                                 <span style=\"color: #008000; text-decoration-color: #008000\">│</span>\n",
              "<span style=\"color: #008000; text-decoration-color: #008000\">│</span>  <span style=\"color: #00ff00; text-decoration-color: #00ff00\">&lt;h2&gt;🔗 Full Changelog&lt;/h2&gt;</span>                                                                                     <span style=\"color: #008000; text-decoration-color: #008000\">│</span>\n",
              "<span style=\"color: #008000; text-decoration-color: #008000\">│</span>  <span style=\"color: #00ff00; text-decoration-color: #00ff00\">&lt;p&gt;&lt;a href=\"https://github.com/langflow-ai/langflow/compare/1.5.0...1.5.0.post1\"&gt;Compare </span>                      <span style=\"color: #008000; text-decoration-color: #008000\">│</span>\n",
              "<span style=\"color: #008000; text-decoration-color: #008000\">│</span>  <span style=\"color: #00ff00; text-decoration-color: #00ff00\">1.5.0...1.5.0.post1&lt;/a&gt;&lt;/p&gt;</span>                                                                                    <span style=\"color: #008000; text-decoration-color: #008000\">│</span>\n",
              "<span style=\"color: #008000; text-decoration-color: #008000\">│</span>  <span style=\"color: #00ff00; text-decoration-color: #00ff00\">```</span>                                                                                                            <span style=\"color: #008000; text-decoration-color: #008000\">│</span>\n",
              "<span style=\"color: #008000; text-decoration-color: #008000\">│</span>                                                                                                                 <span style=\"color: #008000; text-decoration-color: #008000\">│</span>\n",
              "<span style=\"color: #008000; text-decoration-color: #008000\">╰─────────────────────────────────────────────────────────────────────────────────────────────────────────────────╯</span>\n",
              "</pre>\n"
            ]
          },
          "metadata": {}
        },
        {
          "output_type": "display_data",
          "data": {
            "text/plain": [
              "\n"
            ],
            "text/html": [
              "<pre style=\"white-space:pre;overflow-x:auto;line-height:normal;font-family:Menlo,'DejaVu Sans Mono',consolas,'Courier New',monospace\">\n",
              "</pre>\n"
            ]
          },
          "metadata": {}
        },
        {
          "output_type": "display_data",
          "data": {
            "text/plain": [],
            "text/html": [
              "<pre style=\"white-space:pre;overflow-x:auto;line-height:normal;font-family:Menlo,'DejaVu Sans Mono',consolas,'Courier New',monospace\"></pre>\n"
            ]
          },
          "metadata": {}
        },
        {
          "output_type": "display_data",
          "data": {
            "text/plain": [
              "\u001b[32m╭─\u001b[0m\u001b[32m───────────────────────────────────────────────\u001b[0m\u001b[32m Task Completion \u001b[0m\u001b[32m───────────────────────────────────────────────\u001b[0m\u001b[32m─╮\u001b[0m\n",
              "\u001b[32m│\u001b[0m                                                                                                                 \u001b[32m│\u001b[0m\n",
              "\u001b[32m│\u001b[0m  \u001b[1;32mTask Completed\u001b[0m                                                                                                 \u001b[32m│\u001b[0m\n",
              "\u001b[32m│\u001b[0m  \u001b[37mName: \u001b[0m\u001b[32mba5a1ab7-0e89-4619-a78b-532514487d78\u001b[0m                                                                     \u001b[32m│\u001b[0m\n",
              "\u001b[32m│\u001b[0m  \u001b[37mAgent: \u001b[0m\u001b[32mExpert Tech Newsletter Writer\u001b[0m                                                                           \u001b[32m│\u001b[0m\n",
              "\u001b[32m│\u001b[0m  \u001b[37mTool Args: \u001b[0m                                                                                                    \u001b[32m│\u001b[0m\n",
              "\u001b[32m│\u001b[0m                                                                                                                 \u001b[32m│\u001b[0m\n",
              "\u001b[32m│\u001b[0m                                                                                                                 \u001b[32m│\u001b[0m\n",
              "\u001b[32m╰─────────────────────────────────────────────────────────────────────────────────────────────────────────────────╯\u001b[0m\n"
            ],
            "text/html": [
              "<pre style=\"white-space:pre;overflow-x:auto;line-height:normal;font-family:Menlo,'DejaVu Sans Mono',consolas,'Courier New',monospace\"><span style=\"color: #008000; text-decoration-color: #008000\">╭──────────────────────────────────────────────── Task Completion ────────────────────────────────────────────────╮</span>\n",
              "<span style=\"color: #008000; text-decoration-color: #008000\">│</span>                                                                                                                 <span style=\"color: #008000; text-decoration-color: #008000\">│</span>\n",
              "<span style=\"color: #008000; text-decoration-color: #008000\">│</span>  <span style=\"color: #008000; text-decoration-color: #008000; font-weight: bold\">Task Completed</span>                                                                                                 <span style=\"color: #008000; text-decoration-color: #008000\">│</span>\n",
              "<span style=\"color: #008000; text-decoration-color: #008000\">│</span>  <span style=\"color: #c0c0c0; text-decoration-color: #c0c0c0\">Name: </span><span style=\"color: #008000; text-decoration-color: #008000\">ba5a1ab7-0e89-4619-a78b-532514487d78</span>                                                                     <span style=\"color: #008000; text-decoration-color: #008000\">│</span>\n",
              "<span style=\"color: #008000; text-decoration-color: #008000\">│</span>  <span style=\"color: #c0c0c0; text-decoration-color: #c0c0c0\">Agent: </span><span style=\"color: #008000; text-decoration-color: #008000\">Expert Tech Newsletter Writer</span>                                                                           <span style=\"color: #008000; text-decoration-color: #008000\">│</span>\n",
              "<span style=\"color: #008000; text-decoration-color: #008000\">│</span>  <span style=\"color: #c0c0c0; text-decoration-color: #c0c0c0\">Tool Args: </span>                                                                                                    <span style=\"color: #008000; text-decoration-color: #008000\">│</span>\n",
              "<span style=\"color: #008000; text-decoration-color: #008000\">│</span>                                                                                                                 <span style=\"color: #008000; text-decoration-color: #008000\">│</span>\n",
              "<span style=\"color: #008000; text-decoration-color: #008000\">│</span>                                                                                                                 <span style=\"color: #008000; text-decoration-color: #008000\">│</span>\n",
              "<span style=\"color: #008000; text-decoration-color: #008000\">╰─────────────────────────────────────────────────────────────────────────────────────────────────────────────────╯</span>\n",
              "</pre>\n"
            ]
          },
          "metadata": {}
        },
        {
          "output_type": "display_data",
          "data": {
            "text/plain": [
              "\n"
            ],
            "text/html": [
              "<pre style=\"white-space:pre;overflow-x:auto;line-height:normal;font-family:Menlo,'DejaVu Sans Mono',consolas,'Courier New',monospace\">\n",
              "</pre>\n"
            ]
          },
          "metadata": {}
        },
        {
          "output_type": "display_data",
          "data": {
            "text/plain": [],
            "text/html": [
              "<pre style=\"white-space:pre;overflow-x:auto;line-height:normal;font-family:Menlo,'DejaVu Sans Mono',consolas,'Courier New',monospace\"></pre>\n"
            ]
          },
          "metadata": {}
        },
        {
          "output_type": "display_data",
          "data": {
            "text/plain": [
              "\u001b[35m╭─\u001b[0m\u001b[35m──────────────────────────────────────────────\u001b[0m\u001b[35m 🤖 Agent Started \u001b[0m\u001b[35m───────────────────────────────────────────────\u001b[0m\u001b[35m─╮\u001b[0m\n",
              "\u001b[35m│\u001b[0m                                                                                                                 \u001b[35m│\u001b[0m\n",
              "\u001b[35m│\u001b[0m  \u001b[37mAgent: \u001b[0m\u001b[1;92mCommunications Dispatch Officer\u001b[0m                                                                         \u001b[35m│\u001b[0m\n",
              "\u001b[35m│\u001b[0m                                                                                                                 \u001b[35m│\u001b[0m\n",
              "\u001b[35m│\u001b[0m  \u001b[37mTask: \u001b[0m\u001b[92mTake the composed newsletter body and use the Personalized Email Dispatcher tool. The tool will \u001b[0m         \u001b[35m│\u001b[0m\n",
              "\u001b[35m│\u001b[0m  \u001b[92mautomatically find the recipients in the CSV file and send the emails.\u001b[0m                                         \u001b[35m│\u001b[0m\n",
              "\u001b[35m│\u001b[0m                                                                                                                 \u001b[35m│\u001b[0m\n",
              "\u001b[35m╰─────────────────────────────────────────────────────────────────────────────────────────────────────────────────╯\u001b[0m\n"
            ],
            "text/html": [
              "<pre style=\"white-space:pre;overflow-x:auto;line-height:normal;font-family:Menlo,'DejaVu Sans Mono',consolas,'Courier New',monospace\"><span style=\"color: #800080; text-decoration-color: #800080\">╭─────────────────────────────────────────────── 🤖 Agent Started ────────────────────────────────────────────────╮</span>\n",
              "<span style=\"color: #800080; text-decoration-color: #800080\">│</span>                                                                                                                 <span style=\"color: #800080; text-decoration-color: #800080\">│</span>\n",
              "<span style=\"color: #800080; text-decoration-color: #800080\">│</span>  <span style=\"color: #c0c0c0; text-decoration-color: #c0c0c0\">Agent: </span><span style=\"color: #00ff00; text-decoration-color: #00ff00; font-weight: bold\">Communications Dispatch Officer</span>                                                                         <span style=\"color: #800080; text-decoration-color: #800080\">│</span>\n",
              "<span style=\"color: #800080; text-decoration-color: #800080\">│</span>                                                                                                                 <span style=\"color: #800080; text-decoration-color: #800080\">│</span>\n",
              "<span style=\"color: #800080; text-decoration-color: #800080\">│</span>  <span style=\"color: #c0c0c0; text-decoration-color: #c0c0c0\">Task: </span><span style=\"color: #00ff00; text-decoration-color: #00ff00\">Take the composed newsletter body and use the Personalized Email Dispatcher tool. The tool will </span>         <span style=\"color: #800080; text-decoration-color: #800080\">│</span>\n",
              "<span style=\"color: #800080; text-decoration-color: #800080\">│</span>  <span style=\"color: #00ff00; text-decoration-color: #00ff00\">automatically find the recipients in the CSV file and send the emails.</span>                                         <span style=\"color: #800080; text-decoration-color: #800080\">│</span>\n",
              "<span style=\"color: #800080; text-decoration-color: #800080\">│</span>                                                                                                                 <span style=\"color: #800080; text-decoration-color: #800080\">│</span>\n",
              "<span style=\"color: #800080; text-decoration-color: #800080\">╰─────────────────────────────────────────────────────────────────────────────────────────────────────────────────╯</span>\n",
              "</pre>\n"
            ]
          },
          "metadata": {}
        },
        {
          "output_type": "display_data",
          "data": {
            "text/plain": [
              "\n"
            ],
            "text/html": [
              "<pre style=\"white-space:pre;overflow-x:auto;line-height:normal;font-family:Menlo,'DejaVu Sans Mono',consolas,'Courier New',monospace\">\n",
              "</pre>\n"
            ]
          },
          "metadata": {}
        },
        {
          "output_type": "display_data",
          "data": {
            "text/plain": [
              "Output()"
            ],
            "application/vnd.jupyter.widget-view+json": {
              "version_major": 2,
              "version_minor": 0,
              "model_id": "627f4e613d5941049d76c6839dd856be"
            }
          },
          "metadata": {}
        },
        {
          "output_type": "display_data",
          "data": {
            "text/plain": [
              "/usr/local/lib/python3.11/dist-packages/ipywidgets/widgets/widget_output.py:111: DeprecationWarning: \n",
              "Kernel._parent_header is deprecated in ipykernel 6. Use .get_parent()\n",
              "  if ip and hasattr(ip, 'kernel') and hasattr(ip.kernel, '_parent_header'):\n"
            ],
            "text/html": [
              "<pre style=\"white-space:pre;overflow-x:auto;line-height:normal;font-family:Menlo,'DejaVu Sans Mono',consolas,'Courier New',monospace\">/usr/local/lib/python3.11/dist-packages/ipywidgets/widgets/widget_output.py:111: DeprecationWarning: \n",
              "Kernel._parent_header is deprecated in ipykernel 6. Use .get_parent()\n",
              "  if ip and hasattr(ip, 'kernel') and hasattr(ip.kernel, '_parent_header'):\n",
              "</pre>\n"
            ]
          },
          "metadata": {}
        },
        {
          "output_type": "display_data",
          "data": {
            "text/plain": [
              "/usr/local/lib/python3.11/dist-packages/ipywidgets/widgets/widget_output.py:112: DeprecationWarning: \n",
              "Kernel._parent_header is deprecated in ipykernel 6. Use .get_parent()\n",
              "  self.msg_id = ip.kernel._parent_header['header']['msg_id']\n"
            ],
            "text/html": [
              "<pre style=\"white-space:pre;overflow-x:auto;line-height:normal;font-family:Menlo,'DejaVu Sans Mono',consolas,'Courier New',monospace\">/usr/local/lib/python3.11/dist-packages/ipywidgets/widgets/widget_output.py:112: DeprecationWarning: \n",
              "Kernel._parent_header is deprecated in ipykernel 6. Use .get_parent()\n",
              "  self.msg_id = ip.kernel._parent_header['header']['msg_id']\n",
              "</pre>\n"
            ]
          },
          "metadata": {}
        },
        {
          "output_type": "display_data",
          "data": {
            "text/plain": [
              "Sending email to Aditya Bayhaqie at adityabayhaqie@gmail.com...\n"
            ],
            "text/html": [
              "<pre style=\"white-space:pre;overflow-x:auto;line-height:normal;font-family:Menlo,'DejaVu Sans Mono',consolas,'Courier New',monospace\">Sending email to Aditya Bayhaqie at adityabayhaqie@gmail.com...\n",
              "</pre>\n"
            ]
          },
          "metadata": {}
        },
        {
          "output_type": "display_data",
          "data": {
            "text/plain": [
              "Sending email to Umar Bayhaqie at thisismebayhaqie@gmail.com...\n"
            ],
            "text/html": [
              "<pre style=\"white-space:pre;overflow-x:auto;line-height:normal;font-family:Menlo,'DejaVu Sans Mono',consolas,'Courier New',monospace\">Sending email to Umar Bayhaqie at thisismebayhaqie@gmail.com...\n",
              "</pre>\n"
            ]
          },
          "metadata": {}
        },
        {
          "output_type": "display_data",
          "data": {
            "text/plain": [
              "Sending email to Jack Waltz at jackwaltz001@gmail.com...\n"
            ],
            "text/html": [
              "<pre style=\"white-space:pre;overflow-x:auto;line-height:normal;font-family:Menlo,'DejaVu Sans Mono',consolas,'Courier New',monospace\">Sending email to Jack Waltz at jackwaltz001@gmail.com...\n",
              "</pre>\n"
            ]
          },
          "metadata": {}
        },
        {
          "output_type": "display_data",
          "data": {
            "text/plain": [],
            "text/html": [
              "<pre style=\"white-space:pre;overflow-x:auto;line-height:normal;font-family:Menlo,'DejaVu Sans Mono',consolas,'Courier New',monospace\"></pre>\n"
            ]
          },
          "metadata": {}
        },
        {
          "output_type": "display_data",
          "data": {
            "text/plain": [
              "\u001b[35m╭─\u001b[0m\u001b[35m───────────────────────────────────────────\u001b[0m\u001b[35m 🔧 Agent Tool Execution \u001b[0m\u001b[35m───────────────────────────────────────────\u001b[0m\u001b[35m─╮\u001b[0m\n",
              "\u001b[35m│\u001b[0m                                                                                                                 \u001b[35m│\u001b[0m\n",
              "\u001b[35m│\u001b[0m  \u001b[37mAgent: \u001b[0m\u001b[1;92mCommunications Dispatch Officer\u001b[0m                                                                         \u001b[35m│\u001b[0m\n",
              "\u001b[35m│\u001b[0m                                                                                                                 \u001b[35m│\u001b[0m\n",
              "\u001b[35m│\u001b[0m  \u001b[37mThought: \u001b[0m\u001b[92mThought: I need to use the Personalized HTML Email Dispatcher tool to send the provided newsletter \u001b[0m   \u001b[35m│\u001b[0m\n",
              "\u001b[35m│\u001b[0m  \u001b[92mbody as a fully formatted, personalized HTML email to all recipients listed in the system's data file.\u001b[0m         \u001b[35m│\u001b[0m\n",
              "\u001b[35m│\u001b[0m                                                                                                                 \u001b[35m│\u001b[0m\n",
              "\u001b[35m│\u001b[0m  \u001b[37mUsing Tool: \u001b[0m\u001b[1;92mPersonalized HTML Email Dispatcher\u001b[0m                                                                 \u001b[35m│\u001b[0m\n",
              "\u001b[35m│\u001b[0m                                                                                                                 \u001b[35m│\u001b[0m\n",
              "\u001b[35m╰─────────────────────────────────────────────────────────────────────────────────────────────────────────────────╯\u001b[0m\n"
            ],
            "text/html": [
              "<pre style=\"white-space:pre;overflow-x:auto;line-height:normal;font-family:Menlo,'DejaVu Sans Mono',consolas,'Courier New',monospace\"><span style=\"color: #800080; text-decoration-color: #800080\">╭──────────────────────────────────────────── 🔧 Agent Tool Execution ────────────────────────────────────────────╮</span>\n",
              "<span style=\"color: #800080; text-decoration-color: #800080\">│</span>                                                                                                                 <span style=\"color: #800080; text-decoration-color: #800080\">│</span>\n",
              "<span style=\"color: #800080; text-decoration-color: #800080\">│</span>  <span style=\"color: #c0c0c0; text-decoration-color: #c0c0c0\">Agent: </span><span style=\"color: #00ff00; text-decoration-color: #00ff00; font-weight: bold\">Communications Dispatch Officer</span>                                                                         <span style=\"color: #800080; text-decoration-color: #800080\">│</span>\n",
              "<span style=\"color: #800080; text-decoration-color: #800080\">│</span>                                                                                                                 <span style=\"color: #800080; text-decoration-color: #800080\">│</span>\n",
              "<span style=\"color: #800080; text-decoration-color: #800080\">│</span>  <span style=\"color: #c0c0c0; text-decoration-color: #c0c0c0\">Thought: </span><span style=\"color: #00ff00; text-decoration-color: #00ff00\">Thought: I need to use the Personalized HTML Email Dispatcher tool to send the provided newsletter </span>   <span style=\"color: #800080; text-decoration-color: #800080\">│</span>\n",
              "<span style=\"color: #800080; text-decoration-color: #800080\">│</span>  <span style=\"color: #00ff00; text-decoration-color: #00ff00\">body as a fully formatted, personalized HTML email to all recipients listed in the system's data file.</span>         <span style=\"color: #800080; text-decoration-color: #800080\">│</span>\n",
              "<span style=\"color: #800080; text-decoration-color: #800080\">│</span>                                                                                                                 <span style=\"color: #800080; text-decoration-color: #800080\">│</span>\n",
              "<span style=\"color: #800080; text-decoration-color: #800080\">│</span>  <span style=\"color: #c0c0c0; text-decoration-color: #c0c0c0\">Using Tool: </span><span style=\"color: #00ff00; text-decoration-color: #00ff00; font-weight: bold\">Personalized HTML Email Dispatcher</span>                                                                 <span style=\"color: #800080; text-decoration-color: #800080\">│</span>\n",
              "<span style=\"color: #800080; text-decoration-color: #800080\">│</span>                                                                                                                 <span style=\"color: #800080; text-decoration-color: #800080\">│</span>\n",
              "<span style=\"color: #800080; text-decoration-color: #800080\">╰─────────────────────────────────────────────────────────────────────────────────────────────────────────────────╯</span>\n",
              "</pre>\n"
            ]
          },
          "metadata": {}
        },
        {
          "output_type": "display_data",
          "data": {
            "text/plain": [
              "\u001b[34m╭─\u001b[0m\u001b[34m─────────────────────────────────────────────────\u001b[0m\u001b[34m Tool Input \u001b[0m\u001b[34m──────────────────────────────────────────────────\u001b[0m\u001b[34m─╮\u001b[0m\n",
              "\u001b[34m│\u001b[0m                                                                                                                 \u001b[34m│\u001b[0m\n",
              "\u001b[34m│\u001b[0m  \u001b[38;2;230;219;116;49m\"{\\\"newsletter_body_html\\\": \\\"<h2>\\\\ud83d\\\\ude80 New Features</h2>\\\\n<ul>\\\\n  <li><strong>Added dynamic themi\u001b[0m  \u001b[34m│\u001b[0m\n",
              "\u001b[34m│\u001b[0m                                                                                                                 \u001b[34m│\u001b[0m\n",
              "\u001b[34m╰─────────────────────────────────────────────────────────────────────────────────────────────────────────────────╯\u001b[0m\n"
            ],
            "text/html": [
              "<pre style=\"white-space:pre;overflow-x:auto;line-height:normal;font-family:Menlo,'DejaVu Sans Mono',consolas,'Courier New',monospace\"><span style=\"color: #000080; text-decoration-color: #000080\">╭────────────────────────────────────────────────── Tool Input ───────────────────────────────────────────────────╮</span>\n",
              "<span style=\"color: #000080; text-decoration-color: #000080\">│</span>                                                                                                                 <span style=\"color: #000080; text-decoration-color: #000080\">│</span>\n",
              "<span style=\"color: #000080; text-decoration-color: #000080\">│</span>  <span style=\"color: #e6db74; text-decoration-color: #e6db74; background-color: #ffffff\">\"{\\\"newsletter_body_html\\\": \\\"&lt;h2&gt;\\\\ud83d\\\\ude80 New Features&lt;/h2&gt;\\\\n&lt;ul&gt;\\\\n  &lt;li&gt;&lt;strong&gt;Added dynamic themi</span>  <span style=\"color: #000080; text-decoration-color: #000080\">│</span>\n",
              "<span style=\"color: #000080; text-decoration-color: #000080\">│</span>                                                                                                                 <span style=\"color: #000080; text-decoration-color: #000080\">│</span>\n",
              "<span style=\"color: #000080; text-decoration-color: #000080\">╰─────────────────────────────────────────────────────────────────────────────────────────────────────────────────╯</span>\n",
              "</pre>\n"
            ]
          },
          "metadata": {}
        },
        {
          "output_type": "display_data",
          "data": {
            "text/plain": [
              "\u001b[32m╭─\u001b[0m\u001b[32m─────────────────────────────────────────────────\u001b[0m\u001b[32m Tool Output \u001b[0m\u001b[32m─────────────────────────────────────────────────\u001b[0m\u001b[32m─╮\u001b[0m\n",
              "\u001b[32m│\u001b[0m                                                                                                                 \u001b[32m│\u001b[0m\n",
              "\u001b[32m│\u001b[0m  \u001b[92mSuccessfully sent personalized HTML emails to 3/3 recipients.\u001b[0m                                                  \u001b[32m│\u001b[0m\n",
              "\u001b[32m│\u001b[0m                                                                                                                 \u001b[32m│\u001b[0m\n",
              "\u001b[32m╰─────────────────────────────────────────────────────────────────────────────────────────────────────────────────╯\u001b[0m\n"
            ],
            "text/html": [
              "<pre style=\"white-space:pre;overflow-x:auto;line-height:normal;font-family:Menlo,'DejaVu Sans Mono',consolas,'Courier New',monospace\"><span style=\"color: #008000; text-decoration-color: #008000\">╭────────────────────────────────────────────────── Tool Output ──────────────────────────────────────────────────╮</span>\n",
              "<span style=\"color: #008000; text-decoration-color: #008000\">│</span>                                                                                                                 <span style=\"color: #008000; text-decoration-color: #008000\">│</span>\n",
              "<span style=\"color: #008000; text-decoration-color: #008000\">│</span>  <span style=\"color: #00ff00; text-decoration-color: #00ff00\">Successfully sent personalized HTML emails to 3/3 recipients.</span>                                                  <span style=\"color: #008000; text-decoration-color: #008000\">│</span>\n",
              "<span style=\"color: #008000; text-decoration-color: #008000\">│</span>                                                                                                                 <span style=\"color: #008000; text-decoration-color: #008000\">│</span>\n",
              "<span style=\"color: #008000; text-decoration-color: #008000\">╰─────────────────────────────────────────────────────────────────────────────────────────────────────────────────╯</span>\n",
              "</pre>\n"
            ]
          },
          "metadata": {}
        },
        {
          "output_type": "display_data",
          "data": {
            "text/plain": [
              "\n"
            ],
            "text/html": [
              "<pre style=\"white-space:pre;overflow-x:auto;line-height:normal;font-family:Menlo,'DejaVu Sans Mono',consolas,'Courier New',monospace\">\n",
              "</pre>\n"
            ]
          },
          "metadata": {}
        },
        {
          "output_type": "display_data",
          "data": {
            "text/plain": [
              "Output()"
            ],
            "application/vnd.jupyter.widget-view+json": {
              "version_major": 2,
              "version_minor": 0,
              "model_id": "6409a30efc884b51a85d8162a917bbf0"
            }
          },
          "metadata": {}
        },
        {
          "output_type": "display_data",
          "data": {
            "text/plain": [],
            "text/html": [
              "<pre style=\"white-space:pre;overflow-x:auto;line-height:normal;font-family:Menlo,'DejaVu Sans Mono',consolas,'Courier New',monospace\"></pre>\n"
            ]
          },
          "metadata": {}
        },
        {
          "output_type": "display_data",
          "data": {
            "text/plain": [
              "\u001b[32m╭─\u001b[0m\u001b[32m────────────────────────────────────────────\u001b[0m\u001b[32m ✅ Agent Final Answer \u001b[0m\u001b[32m────────────────────────────────────────────\u001b[0m\u001b[32m─╮\u001b[0m\n",
              "\u001b[32m│\u001b[0m                                                                                                                 \u001b[32m│\u001b[0m\n",
              "\u001b[32m│\u001b[0m  \u001b[37mAgent: \u001b[0m\u001b[1;92mCommunications Dispatch Officer\u001b[0m                                                                         \u001b[32m│\u001b[0m\n",
              "\u001b[32m│\u001b[0m                                                                                                                 \u001b[32m│\u001b[0m\n",
              "\u001b[32m│\u001b[0m  \u001b[37mFinal Answer:\u001b[0m                                                                                                  \u001b[32m│\u001b[0m\n",
              "\u001b[32m│\u001b[0m  \u001b[92mSuccessfully sent personalized HTML emails to 3/3 recipients.\u001b[0m                                                  \u001b[32m│\u001b[0m\n",
              "\u001b[32m│\u001b[0m                                                                                                                 \u001b[32m│\u001b[0m\n",
              "\u001b[32m╰─────────────────────────────────────────────────────────────────────────────────────────────────────────────────╯\u001b[0m\n"
            ],
            "text/html": [
              "<pre style=\"white-space:pre;overflow-x:auto;line-height:normal;font-family:Menlo,'DejaVu Sans Mono',consolas,'Courier New',monospace\"><span style=\"color: #008000; text-decoration-color: #008000\">╭───────────────────────────────────────────── ✅ Agent Final Answer ─────────────────────────────────────────────╮</span>\n",
              "<span style=\"color: #008000; text-decoration-color: #008000\">│</span>                                                                                                                 <span style=\"color: #008000; text-decoration-color: #008000\">│</span>\n",
              "<span style=\"color: #008000; text-decoration-color: #008000\">│</span>  <span style=\"color: #c0c0c0; text-decoration-color: #c0c0c0\">Agent: </span><span style=\"color: #00ff00; text-decoration-color: #00ff00; font-weight: bold\">Communications Dispatch Officer</span>                                                                         <span style=\"color: #008000; text-decoration-color: #008000\">│</span>\n",
              "<span style=\"color: #008000; text-decoration-color: #008000\">│</span>                                                                                                                 <span style=\"color: #008000; text-decoration-color: #008000\">│</span>\n",
              "<span style=\"color: #008000; text-decoration-color: #008000\">│</span>  <span style=\"color: #c0c0c0; text-decoration-color: #c0c0c0\">Final Answer:</span>                                                                                                  <span style=\"color: #008000; text-decoration-color: #008000\">│</span>\n",
              "<span style=\"color: #008000; text-decoration-color: #008000\">│</span>  <span style=\"color: #00ff00; text-decoration-color: #00ff00\">Successfully sent personalized HTML emails to 3/3 recipients.</span>                                                  <span style=\"color: #008000; text-decoration-color: #008000\">│</span>\n",
              "<span style=\"color: #008000; text-decoration-color: #008000\">│</span>                                                                                                                 <span style=\"color: #008000; text-decoration-color: #008000\">│</span>\n",
              "<span style=\"color: #008000; text-decoration-color: #008000\">╰─────────────────────────────────────────────────────────────────────────────────────────────────────────────────╯</span>\n",
              "</pre>\n"
            ]
          },
          "metadata": {}
        },
        {
          "output_type": "display_data",
          "data": {
            "text/plain": [
              "\n"
            ],
            "text/html": [
              "<pre style=\"white-space:pre;overflow-x:auto;line-height:normal;font-family:Menlo,'DejaVu Sans Mono',consolas,'Courier New',monospace\">\n",
              "</pre>\n"
            ]
          },
          "metadata": {}
        },
        {
          "output_type": "display_data",
          "data": {
            "text/plain": [],
            "text/html": [
              "<pre style=\"white-space:pre;overflow-x:auto;line-height:normal;font-family:Menlo,'DejaVu Sans Mono',consolas,'Courier New',monospace\"></pre>\n"
            ]
          },
          "metadata": {}
        },
        {
          "output_type": "display_data",
          "data": {
            "text/plain": [
              "\u001b[32m╭─\u001b[0m\u001b[32m───────────────────────────────────────────────\u001b[0m\u001b[32m Task Completion \u001b[0m\u001b[32m───────────────────────────────────────────────\u001b[0m\u001b[32m─╮\u001b[0m\n",
              "\u001b[32m│\u001b[0m                                                                                                                 \u001b[32m│\u001b[0m\n",
              "\u001b[32m│\u001b[0m  \u001b[1;32mTask Completed\u001b[0m                                                                                                 \u001b[32m│\u001b[0m\n",
              "\u001b[32m│\u001b[0m  \u001b[37mName: \u001b[0m\u001b[32m1160c9f2-8830-4f33-8f51-5f566c5341f6\u001b[0m                                                                     \u001b[32m│\u001b[0m\n",
              "\u001b[32m│\u001b[0m  \u001b[37mAgent: \u001b[0m\u001b[32mCommunications Dispatch Officer\u001b[0m                                                                         \u001b[32m│\u001b[0m\n",
              "\u001b[32m│\u001b[0m  \u001b[37mTool Args: \u001b[0m                                                                                                    \u001b[32m│\u001b[0m\n",
              "\u001b[32m│\u001b[0m                                                                                                                 \u001b[32m│\u001b[0m\n",
              "\u001b[32m│\u001b[0m                                                                                                                 \u001b[32m│\u001b[0m\n",
              "\u001b[32m╰─────────────────────────────────────────────────────────────────────────────────────────────────────────────────╯\u001b[0m\n"
            ],
            "text/html": [
              "<pre style=\"white-space:pre;overflow-x:auto;line-height:normal;font-family:Menlo,'DejaVu Sans Mono',consolas,'Courier New',monospace\"><span style=\"color: #008000; text-decoration-color: #008000\">╭──────────────────────────────────────────────── Task Completion ────────────────────────────────────────────────╮</span>\n",
              "<span style=\"color: #008000; text-decoration-color: #008000\">│</span>                                                                                                                 <span style=\"color: #008000; text-decoration-color: #008000\">│</span>\n",
              "<span style=\"color: #008000; text-decoration-color: #008000\">│</span>  <span style=\"color: #008000; text-decoration-color: #008000; font-weight: bold\">Task Completed</span>                                                                                                 <span style=\"color: #008000; text-decoration-color: #008000\">│</span>\n",
              "<span style=\"color: #008000; text-decoration-color: #008000\">│</span>  <span style=\"color: #c0c0c0; text-decoration-color: #c0c0c0\">Name: </span><span style=\"color: #008000; text-decoration-color: #008000\">1160c9f2-8830-4f33-8f51-5f566c5341f6</span>                                                                     <span style=\"color: #008000; text-decoration-color: #008000\">│</span>\n",
              "<span style=\"color: #008000; text-decoration-color: #008000\">│</span>  <span style=\"color: #c0c0c0; text-decoration-color: #c0c0c0\">Agent: </span><span style=\"color: #008000; text-decoration-color: #008000\">Communications Dispatch Officer</span>                                                                         <span style=\"color: #008000; text-decoration-color: #008000\">│</span>\n",
              "<span style=\"color: #008000; text-decoration-color: #008000\">│</span>  <span style=\"color: #c0c0c0; text-decoration-color: #c0c0c0\">Tool Args: </span>                                                                                                    <span style=\"color: #008000; text-decoration-color: #008000\">│</span>\n",
              "<span style=\"color: #008000; text-decoration-color: #008000\">│</span>                                                                                                                 <span style=\"color: #008000; text-decoration-color: #008000\">│</span>\n",
              "<span style=\"color: #008000; text-decoration-color: #008000\">│</span>                                                                                                                 <span style=\"color: #008000; text-decoration-color: #008000\">│</span>\n",
              "<span style=\"color: #008000; text-decoration-color: #008000\">╰─────────────────────────────────────────────────────────────────────────────────────────────────────────────────╯</span>\n",
              "</pre>\n"
            ]
          },
          "metadata": {}
        },
        {
          "output_type": "display_data",
          "data": {
            "text/plain": [
              "\n"
            ],
            "text/html": [
              "<pre style=\"white-space:pre;overflow-x:auto;line-height:normal;font-family:Menlo,'DejaVu Sans Mono',consolas,'Courier New',monospace\">\n",
              "</pre>\n"
            ]
          },
          "metadata": {}
        },
        {
          "output_type": "display_data",
          "data": {
            "text/plain": [
              "\u001b[32m╭─\u001b[0m\u001b[32m───────────────────────────────────────────────\u001b[0m\u001b[32m Crew Completion \u001b[0m\u001b[32m───────────────────────────────────────────────\u001b[0m\u001b[32m─╮\u001b[0m\n",
              "\u001b[32m│\u001b[0m                                                                                                                 \u001b[32m│\u001b[0m\n",
              "\u001b[32m│\u001b[0m  \u001b[1;32mCrew Execution Completed\u001b[0m                                                                                       \u001b[32m│\u001b[0m\n",
              "\u001b[32m│\u001b[0m  \u001b[37mName: \u001b[0m\u001b[32mcrew\u001b[0m                                                                                                     \u001b[32m│\u001b[0m\n",
              "\u001b[32m│\u001b[0m  \u001b[37mID: \u001b[0m\u001b[32m9ec3b12f-8d8f-4376-a356-6e22bbaa2d57\u001b[0m                                                                       \u001b[32m│\u001b[0m\n",
              "\u001b[32m│\u001b[0m  \u001b[37mTool Args: \u001b[0m                                                                                                    \u001b[32m│\u001b[0m\n",
              "\u001b[32m│\u001b[0m  \u001b[37mFinal Output: Successfully sent personalized HTML emails to 3/3 recipients.\u001b[0m                                    \u001b[32m│\u001b[0m\n",
              "\u001b[32m│\u001b[0m                                                                                                                 \u001b[32m│\u001b[0m\n",
              "\u001b[32m│\u001b[0m                                                                                                                 \u001b[32m│\u001b[0m\n",
              "\u001b[32m╰─────────────────────────────────────────────────────────────────────────────────────────────────────────────────╯\u001b[0m\n"
            ],
            "text/html": [
              "<pre style=\"white-space:pre;overflow-x:auto;line-height:normal;font-family:Menlo,'DejaVu Sans Mono',consolas,'Courier New',monospace\"><span style=\"color: #008000; text-decoration-color: #008000\">╭──────────────────────────────────────────────── Crew Completion ────────────────────────────────────────────────╮</span>\n",
              "<span style=\"color: #008000; text-decoration-color: #008000\">│</span>                                                                                                                 <span style=\"color: #008000; text-decoration-color: #008000\">│</span>\n",
              "<span style=\"color: #008000; text-decoration-color: #008000\">│</span>  <span style=\"color: #008000; text-decoration-color: #008000; font-weight: bold\">Crew Execution Completed</span>                                                                                       <span style=\"color: #008000; text-decoration-color: #008000\">│</span>\n",
              "<span style=\"color: #008000; text-decoration-color: #008000\">│</span>  <span style=\"color: #c0c0c0; text-decoration-color: #c0c0c0\">Name: </span><span style=\"color: #008000; text-decoration-color: #008000\">crew</span>                                                                                                     <span style=\"color: #008000; text-decoration-color: #008000\">│</span>\n",
              "<span style=\"color: #008000; text-decoration-color: #008000\">│</span>  <span style=\"color: #c0c0c0; text-decoration-color: #c0c0c0\">ID: </span><span style=\"color: #008000; text-decoration-color: #008000\">9ec3b12f-8d8f-4376-a356-6e22bbaa2d57</span>                                                                       <span style=\"color: #008000; text-decoration-color: #008000\">│</span>\n",
              "<span style=\"color: #008000; text-decoration-color: #008000\">│</span>  <span style=\"color: #c0c0c0; text-decoration-color: #c0c0c0\">Tool Args: </span>                                                                                                    <span style=\"color: #008000; text-decoration-color: #008000\">│</span>\n",
              "<span style=\"color: #008000; text-decoration-color: #008000\">│</span>  <span style=\"color: #c0c0c0; text-decoration-color: #c0c0c0\">Final Output: Successfully sent personalized HTML emails to 3/3 recipients.</span>                                    <span style=\"color: #008000; text-decoration-color: #008000\">│</span>\n",
              "<span style=\"color: #008000; text-decoration-color: #008000\">│</span>                                                                                                                 <span style=\"color: #008000; text-decoration-color: #008000\">│</span>\n",
              "<span style=\"color: #008000; text-decoration-color: #008000\">│</span>                                                                                                                 <span style=\"color: #008000; text-decoration-color: #008000\">│</span>\n",
              "<span style=\"color: #008000; text-decoration-color: #008000\">╰─────────────────────────────────────────────────────────────────────────────────────────────────────────────────╯</span>\n",
              "</pre>\n"
            ]
          },
          "metadata": {}
        },
        {
          "output_type": "display_data",
          "data": {
            "text/plain": [
              "\n"
            ],
            "text/html": [
              "<pre style=\"white-space:pre;overflow-x:auto;line-height:normal;font-family:Menlo,'DejaVu Sans Mono',consolas,'Courier New',monospace\">\n",
              "</pre>\n"
            ]
          },
          "metadata": {}
        },
        {
          "output_type": "stream",
          "name": "stdout",
          "text": [
            "\\n\\nCrew execution finished successfully!\n",
            "\\nFinal Result:\n",
            "Successfully sent personalized HTML emails to 3/3 recipients.\n"
          ]
        }
      ]
    },
    {
      "cell_type": "code",
      "source": [],
      "metadata": {
        "id": "veUx6rtmInng"
      },
      "execution_count": null,
      "outputs": []
    }
  ]
}