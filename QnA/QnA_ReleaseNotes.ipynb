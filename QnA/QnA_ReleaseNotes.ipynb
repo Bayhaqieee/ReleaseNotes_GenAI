{
  "nbformat": 4,
  "nbformat_minor": 0,
  "metadata": {
    "colab": {
      "provenance": [],
      "authorship_tag": "ABX9TyOssK9aFwPyF5DLdXc2t2XR"
    },
    "kernelspec": {
      "name": "python3",
      "display_name": "Python 3"
    },
    "language_info": {
      "name": "python"
    }
  },
  "cells": [
    {
      "cell_type": "markdown",
      "source": [
        "## Install Packages"
      ],
      "metadata": {
        "id": "QnzWZP1uaLvq"
      }
    },
    {
      "cell_type": "code",
      "execution_count": 16,
      "metadata": {
        "id": "M6lw15RXaESJ"
      },
      "outputs": [],
      "source": [
        "!pip install -qU langchain langchain-openai langchain-community beautifulsoup4 faiss-cpu selenium selenium-wire undetected-chromedriver blinker==1.4"
      ]
    },
    {
      "cell_type": "markdown",
      "source": [
        "## Library"
      ],
      "metadata": {
        "id": "nvtASy-BsMCO"
      }
    },
    {
      "cell_type": "code",
      "source": [
        "import os\n",
        "import re\n",
        "import math\n",
        "import time\n",
        "import requests\n",
        "from bs4 import BeautifulSoup\n",
        "from dateutil.parser import parse as parse_date\n",
        "from langchain.docstore.document import Document\n",
        "from google.colab import userdata\n",
        "from seleniumwire import webdriver\n",
        "from selenium.webdriver.common.by import By\n",
        "from selenium.webdriver.support.ui import WebDriverWait\n",
        "from selenium.webdriver.support import expected_conditions as EC\n",
        "from selenium.common.exceptions import StaleElementReferenceException, TimeoutException"
      ],
      "metadata": {
        "id": "uyuDr00tsNa_"
      },
      "execution_count": 17,
      "outputs": []
    },
    {
      "cell_type": "markdown",
      "source": [
        "## Config. Environment"
      ],
      "metadata": {
        "id": "MMX6KjS8aQ0K"
      }
    },
    {
      "cell_type": "code",
      "source": [
        "import os\n",
        "import requests\n",
        "from bs4 import BeautifulSoup\n",
        "from langchain.docstore.document import Document\n",
        "from google.colab import userdata\n",
        "\n",
        "try:\n",
        "    os.environ[\"AZURE_OPENAI_API_KEY\"] = userdata.get('AZURE_OPENAI_API_KEY')\n",
        "    os.environ[\"AZURE_OPENAI_ENDPOINT\"] = userdata.get('AZURE_OPENAI_ENDPOINT')\n",
        "    os.environ[\"AZURE_OPENAI_API_VERSION\"] = userdata.get('OPENAI_API_VERSION')\n",
        "    os.environ[\"AZURE_OPENAI_EMBEDDING_DEPLOYMENT_NAME\"] = userdata.get('AZURE_OPENAI_EMBEDDING_DEPLOYMENT_NAME')\n",
        "    os.environ[\"AZURE_OPENAI_CHAT_DEPLOYMENT_NAME\"] = userdata.get('AZURE_OPENAI_CHAT_DEPLOYMENT_NAME')\n",
        "    print(\"Azure credentials loaded successfully from Colab Secrets.\")\n",
        "except Exception as e:\n",
        "    print(f\"Could not load secrets. Please ensure you have added all required keys to the Colab Secrets manager. Error: {e}\")"
      ],
      "metadata": {
        "colab": {
          "base_uri": "https://localhost:8080/"
        },
        "id": "FnV25zLzaSz0",
        "outputId": "99a99c61-49b9-4c21-bf85-44fcc0b05aa9"
      },
      "execution_count": 18,
      "outputs": [
        {
          "output_type": "stream",
          "name": "stdout",
          "text": [
            "Azure credentials loaded successfully from Colab Secrets.\n"
          ]
        }
      ]
    },
    {
      "cell_type": "markdown",
      "source": [
        "## Data Scraping"
      ],
      "metadata": {
        "id": "wLJyu2DZbESm"
      }
    },
    {
      "cell_type": "code",
      "source": [
        "# URLs for the release notes\n",
        "URLS = {\n",
        "    \"simplidots\": \"https://fitur-sap.simplidots.id/\",\n",
        "    \"langflow\": \"https://api.github.com/repos/langflow-ai/langflow/releases\",\n",
        "    \"anthropic\": \"https://docs.anthropic.com/en/release-notes/api\"\n",
        "}"
      ],
      "metadata": {
        "id": "IPM5O2f4bt5E"
      },
      "execution_count": 19,
      "outputs": []
    },
    {
      "cell_type": "code",
      "source": [
        "!pip install -q selenium undetected-chromedriver\n",
        "!sudo apt-get update -y\n",
        "!sudo apt-get install -y chromium-chromedriver\n",
        "!sudo cp /usr/lib/chromium-browser/chromedriver /usr/bin\n",
        "!pip install selenium"
      ],
      "metadata": {
        "colab": {
          "base_uri": "https://localhost:8080/"
        },
        "id": "bJoZnREjgzeQ",
        "outputId": "46573684-d255-4d50-bc00-0d8bd747fc20"
      },
      "execution_count": 20,
      "outputs": [
        {
          "output_type": "stream",
          "name": "stdout",
          "text": [
            "\r0% [Working]\r            \rHit:1 http://security.ubuntu.com/ubuntu jammy-security InRelease\n",
            "\r0% [Waiting for headers] [Connected to cloud.r-project.org (3.171.85.15)] [Conn\r                                                                               \rHit:2 http://archive.ubuntu.com/ubuntu jammy InRelease\n",
            "\r                                                                               \rHit:3 http://archive.ubuntu.com/ubuntu jammy-updates InRelease\n",
            "\r                                                                               \rHit:4 http://archive.ubuntu.com/ubuntu jammy-backports InRelease\n",
            "\r0% [Connected to cloud.r-project.org (3.171.85.15)] [Connected to r2u.stat.illi\r                                                                               \rHit:5 https://cloud.r-project.org/bin/linux/ubuntu jammy-cran40/ InRelease\n",
            "Hit:6 https://developer.download.nvidia.com/compute/cuda/repos/ubuntu2204/x86_64  InRelease\n",
            "Hit:7 https://r2u.stat.illinois.edu/ubuntu jammy InRelease\n",
            "Hit:8 https://ppa.launchpadcontent.net/deadsnakes/ppa/ubuntu jammy InRelease\n",
            "Hit:9 https://ppa.launchpadcontent.net/graphics-drivers/ppa/ubuntu jammy InRelease\n",
            "Hit:10 https://ppa.launchpadcontent.net/ubuntugis/ppa/ubuntu jammy InRelease\n",
            "Reading package lists... Done\n",
            "W: Skipping acquire of configured file 'main/source/Sources' as repository 'https://r2u.stat.illinois.edu/ubuntu jammy InRelease' does not seem to provide it (sources.list entry misspelt?)\n",
            "Reading package lists... Done\n",
            "Building dependency tree... Done\n",
            "Reading state information... Done\n",
            "chromium-chromedriver is already the newest version (1:85.0.4183.83-0ubuntu2.22.04.1).\n",
            "0 upgraded, 0 newly installed, 0 to remove and 43 not upgraded.\n",
            "cp: '/usr/lib/chromium-browser/chromedriver' and '/usr/bin/chromedriver' are the same file\n",
            "Requirement already satisfied: selenium in /usr/local/lib/python3.11/dist-packages (4.34.2)\n",
            "Requirement already satisfied: urllib3~=2.5.0 in /usr/local/lib/python3.11/dist-packages (from urllib3[socks]~=2.5.0->selenium) (2.5.0)\n",
            "Requirement already satisfied: trio~=0.30.0 in /usr/local/lib/python3.11/dist-packages (from selenium) (0.30.0)\n",
            "Requirement already satisfied: trio-websocket~=0.12.2 in /usr/local/lib/python3.11/dist-packages (from selenium) (0.12.2)\n",
            "Requirement already satisfied: certifi>=2025.6.15 in /usr/local/lib/python3.11/dist-packages (from selenium) (2025.7.14)\n",
            "Requirement already satisfied: typing_extensions~=4.14.0 in /usr/local/lib/python3.11/dist-packages (from selenium) (4.14.1)\n",
            "Requirement already satisfied: websocket-client~=1.8.0 in /usr/local/lib/python3.11/dist-packages (from selenium) (1.8.0)\n",
            "Requirement already satisfied: attrs>=23.2.0 in /usr/local/lib/python3.11/dist-packages (from trio~=0.30.0->selenium) (25.3.0)\n",
            "Requirement already satisfied: sortedcontainers in /usr/local/lib/python3.11/dist-packages (from trio~=0.30.0->selenium) (2.4.0)\n",
            "Requirement already satisfied: idna in /usr/local/lib/python3.11/dist-packages (from trio~=0.30.0->selenium) (3.10)\n",
            "Requirement already satisfied: outcome in /usr/local/lib/python3.11/dist-packages (from trio~=0.30.0->selenium) (1.3.0.post0)\n",
            "Requirement already satisfied: sniffio>=1.3.0 in /usr/local/lib/python3.11/dist-packages (from trio~=0.30.0->selenium) (1.3.1)\n",
            "Requirement already satisfied: wsproto>=0.14 in /usr/local/lib/python3.11/dist-packages (from trio-websocket~=0.12.2->selenium) (1.2.0)\n",
            "Requirement already satisfied: pysocks!=1.5.7,<2.0,>=1.5.6 in /usr/local/lib/python3.11/dist-packages (from urllib3[socks]~=2.5.0->selenium) (1.7.1)\n",
            "Requirement already satisfied: h11<1,>=0.9.0 in /usr/local/lib/python3.11/dist-packages (from wsproto>=0.14->trio-websocket~=0.12.2->selenium) (0.16.0)\n"
          ]
        }
      ]
    },
    {
      "cell_type": "markdown",
      "source": [
        "### Headless Chrome Setup"
      ],
      "metadata": {
        "id": "7OUP8igdg8PC"
      }
    },
    {
      "cell_type": "code",
      "source": [
        "from selenium import webdriver\n",
        "from selenium.webdriver.chrome.options import Options\n",
        "from selenium.webdriver.common.by import By\n",
        "import requests\n",
        "from bs4 import BeautifulSoup\n",
        "from typing import List\n",
        "\n",
        "# Langchain-like Document stub\n",
        "class Document:\n",
        "    def __init__(self, page_content, metadata):\n",
        "        self.page_content = page_content\n",
        "        self.metadata = metadata"
      ],
      "metadata": {
        "id": "2myERNeHg-xq"
      },
      "execution_count": 21,
      "outputs": []
    },
    {
      "cell_type": "markdown",
      "source": [
        "### Web Scraper"
      ],
      "metadata": {
        "id": "bFqOCN13bn6I"
      }
    },
    {
      "cell_type": "markdown",
      "source": [
        "### GitHub Scraper"
      ],
      "metadata": {
        "id": "FLrs-C7ybp_L"
      }
    },
    {
      "cell_type": "code",
      "source": [
        "def scrape_github_releases(api_url):\n",
        "    \"\"\"\n",
        "    Scrapes GitHub releases and returns a list of Document objects,\n",
        "    each with its content and release date in the metadata.\n",
        "    \"\"\"\n",
        "    documents = []\n",
        "    try:\n",
        "        response = requests.get(f\"{api_url}?per_page=15\", timeout=15)\n",
        "        response.raise_for_status()\n",
        "        releases = response.json()\n",
        "        for release in releases:\n",
        "            content = f\"## {release.get('name', 'Untitled Release')}\\n\\n{release.get('body', 'No description.')}\"\n",
        "\n",
        "            # Get the release date directly from the API response\n",
        "            release_date = release.get('published_at', '')\n",
        "\n",
        "            # Create a Document for each release\n",
        "            doc = Document(\n",
        "                page_content=content,\n",
        "                metadata={\n",
        "                    \"source\": \"https://github.com/langflow-ai/langflow/releases\",\n",
        "                    \"release_date\": release_date.split('T')[0] if release_date else 'unknown' # Format as YYYY-MM-DD\n",
        "                }\n",
        "            )\n",
        "            documents.append(doc)\n",
        "        return documents\n",
        "    except requests.RequestException as e:\n",
        "        print(f\"Error fetching GitHub releases from {api_url}: {e}\")\n",
        "        return []"
      ],
      "metadata": {
        "id": "BAJG_vazbFUL"
      },
      "execution_count": 22,
      "outputs": []
    },
    {
      "cell_type": "markdown",
      "source": [
        "### SimpliDots Selenium + Link Crawler Scraper"
      ],
      "metadata": {
        "id": "mJV9aw_7jz0i"
      }
    },
    {
      "cell_type": "code",
      "source": [
        "from urllib.parse import urljoin, urldefrag\n",
        "from selenium.webdriver.common.by import By\n",
        "from selenium.webdriver.support.ui import WebDriverWait\n",
        "from selenium.webdriver.support import expected_conditions as EC\n",
        "from selenium.common.exceptions import StaleElementReferenceException, TimeoutException, NoSuchElementException\n",
        "from dateutil.parser import parse as parse_date\n",
        "import re\n",
        "\n",
        "def scrape_simplidots_with_selenium(base_url, max_depth=2):\n",
        "    options = webdriver.ChromeOptions()\n",
        "    options.add_argument('--headless')\n",
        "    options.add_argument('--no-sandbox')\n",
        "    options.add_argument('--disable-dev-shm-usage')\n",
        "    driver = webdriver.Chrome(options=options)\n",
        "\n",
        "    # Gather all unique links robustly ---\n",
        "    links_to_crawl = {base_url}\n",
        "    crawled_links = set()\n",
        "\n",
        "    for depth in range(max_depth):\n",
        "        current_links = list(links_to_crawl - crawled_links)\n",
        "        if not current_links:\n",
        "            break\n",
        "        for link in current_links:\n",
        "            print(f\"Finding links on (depth {depth+1}): {link}\")\n",
        "            crawled_links.add(link)\n",
        "            try:\n",
        "                driver.get(link)\n",
        "                WebDriverWait(driver, 10).until(EC.presence_of_element_located((By.XPATH, \"//a[@href]\")))\n",
        "                # Re-find elements within a loop to handle stale references\n",
        "                for _ in range(3): # Retry mechanism\n",
        "                    try:\n",
        "                        hrefs = [a.get_attribute(\"href\") for a in driver.find_elements(By.XPATH, \"//a[@href]\")]\n",
        "                        for href in hrefs:\n",
        "                            if href:\n",
        "                                full_url = urldefrag(urljoin(link, href))[0]\n",
        "                                if full_url.startswith(base_url):\n",
        "                                    links_to_crawl.add(full_url)\n",
        "                        break # Success, exit retry loop\n",
        "                    except StaleElementReferenceException:\n",
        "                        time.sleep(0.5)\n",
        "            except Exception as e:\n",
        "                print(f\"Could not process links on {link}: {e}\")\n",
        "\n",
        "    print(f\"\\nFound {len(links_to_crawl)} unique links. Starting content extraction...\")\n",
        "\n",
        "    # Extract content from each link ---\n",
        "    all_documents = []\n",
        "    month_map = { 'januari': 'january', 'februari': 'february', 'maret': 'march', 'april': 'april', 'mei': 'may', 'juni': 'june', 'juli': 'july', 'agustus': 'august', 'september': 'september', 'oktober': 'october', 'november': 'november', 'desember': 'december' }\n",
        "\n",
        "    for url in links_to_crawl:\n",
        "        try:\n",
        "            driver.get(url)\n",
        "            WebDriverWait(driver, 10).until(EC.presence_of_element_located((By.TAG_NAME, \"main\")))\n",
        "\n",
        "            full_title = driver.title\n",
        "            release_date = 'unknown'\n",
        "\n",
        "            # More flexible date regex, handles optional brackets\n",
        "            date_pattern = r\"\\[?\\s*(\\d{1,2}\\s+[A-Za-z]+\\s+\\d{4})\\s*\\]?\"\n",
        "            match = re.search(date_pattern, full_title, re.IGNORECASE)\n",
        "\n",
        "            if match:\n",
        "                date_str = match.group(1).lower()\n",
        "                for indo, eng in month_map.items(): date_str = date_str.replace(indo, eng)\n",
        "                release_date = parse_date(date_str).strftime('%Y-%m-%d')\n",
        "\n",
        "            title = re.sub(date_pattern, '', full_title, flags=re.IGNORECASE).split('|')[0].replace(' -', '').strip()\n",
        "\n",
        "            index_titles = [\"Fitur pada SMH (Sales Management Hub)\", \"Fitur pada Canvass\", \"Fitur pada RO (Route Optimization)\", \"Feature Updates Sales Automation Platform\"]\n",
        "            if title in index_titles or len(title) < 10: continue\n",
        "\n",
        "            content = driver.find_element(By.TAG_NAME, \"main\").text.strip()\n",
        "\n",
        "            doc = Document(page_content=content, metadata={\"source\": url, \"title\": title, \"release_date\": release_date})\n",
        "            all_documents.append(doc)\n",
        "            print(f\"  -> Processed: {title} (Date: {release_date})\")\n",
        "        except Exception:\n",
        "            continue\n",
        "\n",
        "    driver.quit()\n",
        "    return all_documents"
      ],
      "metadata": {
        "id": "XuCCa6Qlj6-W"
      },
      "execution_count": 23,
      "outputs": []
    },
    {
      "cell_type": "markdown",
      "source": [
        "### Anthropic Selenium Scraper"
      ],
      "metadata": {
        "id": "FhaTDi0xiBYq"
      }
    },
    {
      "cell_type": "code",
      "source": [
        "\n",
        "def scrape_anthropic_with_selenium(url):\n",
        "    options = webdriver.ChromeOptions()\n",
        "    options.add_argument('--headless')\n",
        "    options.add_argument('--no-sandbox')\n",
        "    options.add_argument('--disable-dev-shm-usage')\n",
        "    driver = webdriver.Chrome(options=options)\n",
        "\n",
        "    try:\n",
        "        driver.get(url)\n",
        "        WebDriverWait(driver, 20).until(EC.presence_of_element_located((By.TAG_NAME, \"h4\")))\n",
        "        body = driver.find_element(By.TAG_NAME, \"body\")\n",
        "        return body.text\n",
        "    except Exception as e:\n",
        "        print(f\"Error using Selenium for Anthropic release notes: {e}\")\n",
        "        return None\n",
        "    finally:\n",
        "        driver.quit()"
      ],
      "metadata": {
        "id": "K_wXEkhJiEce"
      },
      "execution_count": 24,
      "outputs": []
    },
    {
      "cell_type": "markdown",
      "source": [
        "### Execute Scraping"
      ],
      "metadata": {
        "id": "Bx2iILZhbx7L"
      }
    },
    {
      "cell_type": "code",
      "source": [
        "print(\"Memulai data scraping...\")\n",
        "all_documents = []\n",
        "\n",
        "simplidots_docs = scrape_simplidots_with_selenium(URLS[\"simplidots\"])\n",
        "if simplidots_docs:\n",
        "    all_documents.extend(simplidots_docs)\n",
        "    print(f\"Berhasil scrape SimpliDOTS: {len(simplidots_docs)} dokumen\")\n",
        "else:\n",
        "    print(\"Gagal scrape SimpliDOTS.\")"
      ],
      "metadata": {
        "colab": {
          "base_uri": "https://localhost:8080/"
        },
        "id": "YGuztWUnE3dx",
        "outputId": "e7708513-2ca4-4d6b-ba0a-29f95a4549ca"
      },
      "execution_count": 25,
      "outputs": [
        {
          "output_type": "stream",
          "name": "stdout",
          "text": [
            "Memulai data scraping...\n",
            "Finding links on (depth 1): https://fitur-sap.simplidots.id/\n",
            "Finding links on (depth 2): https://fitur-sap.simplidots.id/sfa/fitur-pada-sfa-sales-force-automation\n",
            "Finding links on (depth 2): https://fitur-sap.simplidots.id/sfa/fitur-pada-sfa-sales-force-automation/pembaharuan-sfa-versi-3.1.1-31-oct-2024\n",
            "Finding links on (depth 2): https://fitur-sap.simplidots.id/smh/fitur-pada-smh-sales-management-hub/2024/penambahan-fitur-brand-pada-produk-19-feb-2024\n",
            "Finding links on (depth 2): https://fitur-sap.simplidots.id/smh/fitur-pada-smh-sales-management-hub/2025/perbaikan-pemilihan-gudang-pada-buat-sales-invoice-11-juli-2025\n",
            "Finding links on (depth 2): https://fitur-sap.simplidots.id/smh/fitur-pada-smh-sales-management-hub/2025/update-mengenai-coretax-format-xml-ppn-11-phase-1\n",
            "Finding links on (depth 2): https://fitur-sap.simplidots.id/smh/fitur-pada-smh-sales-management-hub/2023/adjustment-pada-daily-visit-map-geografis-kunjungan-22-sept-2023\n",
            "Finding links on (depth 2): https://fitur-sap.simplidots.id/smh/fitur-pada-smh-sales-management-hub/2024/penambahan-fitur-e-faktur-11-sept-2024\n",
            "Finding links on (depth 2): https://fitur-sap.simplidots.id/route-optimization/fitur-pada-ro-route-optimization\n",
            "Finding links on (depth 2): https://fitur-sap.simplidots.id/smh/fitur-pada-smh-sales-management-hub/2025/update-mengenai-coretax-format-xml-ppn-12-phase-2\n",
            "Finding links on (depth 2): https://fitur-sap.simplidots.id/smh/fitur-pada-smh-sales-management-hub/2023/penambahan-pop-up-pengumuman-simplidots-di-aplikasi-sfa-dan-canvass-23-aug-2023\n",
            "Finding links on (depth 2): https://fitur-sap.simplidots.id/smh/fitur-pada-smh-sales-management-hub/2024/pembaharuan-menu-daily-visit-and-dashboard-pada-aplikasi-supervision-22-april-2024\n",
            "Finding links on (depth 2): https://fitur-sap.simplidots.id/smh/fitur-pada-smh-sales-management-hub/2024/penambahan-report-sales-invoice-laporan-faktur-12-januari-2024\n",
            "Finding links on (depth 2): https://fitur-sap.simplidots.id/route-optimization/fitur-pada-ro-route-optimization/fitur-laporan-delivery-order-delivery-summary-pada-smart-portal-07-aug-2023\n",
            "Finding links on (depth 2): https://fitur-sap.simplidots.id/smh/fitur-pada-smh-sales-management-hub/2024/pembaharuan-notifikasi-pada-smh-nov-2024\n",
            "Finding links on (depth 2): https://fitur-sap.simplidots.id/smh/fitur-pada-smh-sales-management-hub/2024/penambahan-fitur-promo-diskon-kuantitas-and-nominal-bertingkat-06-maret-2024\n",
            "Finding links on (depth 2): https://fitur-sap.simplidots.id/smh/fitur-pada-smh-sales-management-hub/2023/adjustment-pada-minimum-akses-role-supervisor-06-sept-2023\n",
            "Finding links on (depth 2): https://fitur-sap.simplidots.id/smh/fitur-pada-smh-sales-management-hub/2025/penambahan-fitur-impor-dan-ekspor-stok-20-march-2025\n",
            "Finding links on (depth 2): https://fitur-sap.simplidots.id/smh/fitur-pada-smh-sales-management-hub/2024/penambahan-fitur-bi-smart-portal-x-sap-28-oct-2024\n",
            "Finding links on (depth 2): https://fitur-sap.simplidots.id/sfa/fitur-pada-sfa-sales-force-automation/penambahan-tampilan-peta-sebelum-check-in-26-jan-2025\n",
            "Finding links on (depth 2): https://fitur-sap.simplidots.id/smh/fitur-pada-smh-sales-management-hub/2024/updates-mengenai-ppn-12\n",
            "Finding links on (depth 2): https://fitur-sap.simplidots.id/smh/fitur-pada-smh-sales-management-hub/2023/penambahan-fitur-price-list-default-pada-sales-order-di-smh-11-aug-2023\n",
            "Finding links on (depth 2): https://fitur-sap.simplidots.id/smh/fitur-pada-smh-sales-management-hub/2023/proteksi-jika-terdapat-perubahan-unit-produk-yang-telah-memiliki-transaksi-pada-smh-01-aug-2023\n",
            "Finding links on (depth 2): https://fitur-sap.simplidots.id/sfa/fitur-pada-sfa-sales-force-automation/pembaharuan-sfa-versi-3.0.10-23-aug-2024\n",
            "Finding links on (depth 2): https://fitur-sap.simplidots.id/smh/fitur-pada-smh-sales-management-hub/2024/adjustment-pada-daily-visit-table-and-daily-visit-map-smh-07-feb-2024\n",
            "Finding links on (depth 2): https://fitur-sap.simplidots.id/smh/fitur-pada-smh-sales-management-hub/2023/penambahan-marketing-banner-info-pada-halaman-login-22-desember-2023\n",
            "Finding links on (depth 2): https://fitur-sap.simplidots.id/smh/fitur-pada-smh-sales-management-hub/2025/open-api-stock-dan-unit-03-march-2025\n",
            "Finding links on (depth 2): https://fitur-sap.simplidots.id/smh/fitur-pada-smh-sales-management-hub/2024/pembaharuan-menu-customer-pada-sales-management-hub-smh-17-mar-2024\n",
            "Finding links on (depth 2): https://fitur-sap.simplidots.id/sfa/fitur-pada-sfa-sales-force-automation/pembaharuan-fitur-promo-pada-sfa-versi-2.17.0-17-july-2023\n",
            "Finding links on (depth 2): https://fitur-sap.simplidots.id/smh/fitur-pada-smh-sales-management-hub/2023/adjustment-pada-tampilan-sales-order-smh-25-sept-2023\n",
            "Finding links on (depth 2): https://fitur-sap.simplidots.id/route-optimization/fitur-pada-ro-route-optimization/penambahan-fitur-cancel-batal-do-ds-dan-status-ds-pada-ro-21-aug-2023\n",
            "Finding links on (depth 2): https://fitur-sap.simplidots.id/smh\n",
            "Finding links on (depth 2): https://fitur-sap.simplidots.id/sfa/fitur-pada-sfa-sales-force-automation/pembaharuan-tampilan-and-fitur-baru-pada-aplikasi-sfa-sales-force-automation-10-june-2024\n",
            "Finding links on (depth 2): https://fitur-sap.simplidots.id/smh/fitur-pada-smh-sales-management-hub/2023/penambahan-fitur-integrasi-stok-dari-antzman-ke-sap\n",
            "Finding links on (depth 2): https://fitur-sap.simplidots.id/smh/fitur-pada-smh-sales-management-hub/2025/penambahan-fitur-return-pada-smh-15-january-2025\n",
            "Finding links on (depth 2): https://fitur-sap.simplidots.id/smh/fitur-pada-smh-sales-management-hub/2024/penambahan-fitur-generate-invoice-pada-sales-order-dan-fitur-cancel-si-24-july-2024\n",
            "Finding links on (depth 2): https://fitur-sap.simplidots.id/smh/fitur-pada-smh-sales-management-hub/2024/penambahan-marketing-banner-info-pada-halaman-registrasi-03-july-2024\n",
            "Finding links on (depth 2): https://fitur-sap.simplidots.id/route-optimization/fitur-pada-ro-route-optimization/penambahan-fitur-pada-route-optimization-ro-17-july-2023\n",
            "Finding links on (depth 2): https://fitur-sap.simplidots.id/smh/fitur-pada-smh-sales-management-hub/2024/pembaharuan-pada-manajemen-rute-kunjungan-08-may-2024\n",
            "Finding links on (depth 2): https://fitur-sap.simplidots.id/smart-portal/smart-portal-distributor\n",
            "Finding links on (depth 2): https://fitur-sap.simplidots.id/smh/fitur-pada-smh-sales-management-hub/2025/penambahan-fitur-customer-limit-19-may-2025\n",
            "Finding links on (depth 2): https://fitur-sap.simplidots.id/smh/fitur-pada-smh-sales-management-hub/2025/new-feature-tanya-ai\n",
            "Finding links on (depth 2): https://fitur-sap.simplidots.id/smh/fitur-pada-smh-sales-management-hub/2023/adjustment-manual-delivery-summary-and-infinite-fleet-27-desember-2023\n",
            "Finding links on (depth 2): https://fitur-sap.simplidots.id/smh/fitur-pada-smh-sales-management-hub/2023/penambahan-fitur-ekspor-sales-order-ke-.txt-file-extension-pada-smh-03-aug-2023\n",
            "Finding links on (depth 2): https://fitur-sap.simplidots.id/smh/fitur-pada-smh-sales-management-hub/2024/penambahan-fitur-default-setting-pada-smh-27-june-2024\n",
            "Finding links on (depth 2): https://fitur-sap.simplidots.id/smh/fitur-pada-smh-sales-management-hub/2023/adjustment-pada-top-bar-responsive-on-tablet-and-mobile-15-desember-2023\n",
            "Finding links on (depth 2): https://fitur-sap.simplidots.id/smh/fitur-pada-smh-sales-management-hub/2024/penambahan-fitur-edit-delivery-summary-10-sept-2024\n",
            "Finding links on (depth 2): https://fitur-sap.simplidots.id/canvass/fitur-pada-canvass/penambahan-fitur-dan-perbaikan-pada-canvass-12-june-2023\n",
            "Finding links on (depth 2): https://fitur-sap.simplidots.id/sfa/fitur-pada-sfa-sales-force-automation/pembaharuan-sfa-versi-3.1.4-26-dec-2024\n",
            "Finding links on (depth 2): https://fitur-sap.simplidots.id/route-optimization/fitur-pada-ro-route-optimization/pembaharuan-fitur-import-do-surat-jalan-pada-ro-14-aug-2023\n",
            "Finding links on (depth 2): https://fitur-sap.simplidots.id/smart-portal/smart-portal-distributor/fitur-laporan-delivery-order-delivery-summary-pada-smart-portal-07-aug-2023\n",
            "Finding links on (depth 2): https://fitur-sap.simplidots.id/smh/fitur-pada-smh-sales-management-hub/2024/penambahan-dan-pembaharuan-pada-menu-sales-invoice-2-sept-2024\n",
            "Finding links on (depth 2): https://fitur-sap.simplidots.id/smh/fitur-pada-smh-sales-management-hub/2024/pembaharuan-pada-menu-sales-invoice-smh-05-sept-2024\n",
            "Finding links on (depth 2): https://fitur-sap.simplidots.id/smh/fitur-pada-smh-sales-management-hub/2024/penambahan-fitur-switch-tenant-untuk-multi-tenants-di-smh-28-may-2024\n",
            "Finding links on (depth 2): https://fitur-sap.simplidots.id/smh/fitur-pada-smh-sales-management-hub/2025/beta-integrasi-sales-invoice-simplidots-x-accurate-online-17-juli-2025\n",
            "Finding links on (depth 2): https://fitur-sap.simplidots.id/sfa/fitur-pada-sfa-sales-force-automation/sfa-new-sales-force-automation\n",
            "Finding links on (depth 2): https://fitur-sap.simplidots.id/sfa/fitur-pada-sfa-sales-force-automation/pembaharuan-sfa-versi-3.0.12-02-sept-2024\n",
            "Finding links on (depth 2): https://fitur-sap.simplidots.id/canvass/fitur-pada-canvass/penambahan-dan-perbaikan-fitur-pada-canvass-versi-1.2.1-03-july-2023\n",
            "Finding links on (depth 2): https://fitur-sap.simplidots.id/smh/fitur-pada-smh-sales-management-hub/2024\n",
            "Finding links on (depth 2): https://fitur-sap.simplidots.id/smh/fitur-pada-smh-sales-management-hub/2024/penambahan-fitur-customer-stock-berdasarkan-product-focus-09-oct-2024\n",
            "Finding links on (depth 2): https://fitur-sap.simplidots.id/smh/fitur-pada-smh-sales-management-hub/2024/penambahan-open-api-sap-simplidots-31-july-2024\n",
            "Finding links on (depth 2): https://fitur-sap.simplidots.id/smh/fitur-pada-smh-sales-management-hub/2025/custom-mapping-delivery-summary-ds-03-march-2025\n",
            "Finding links on (depth 2): https://fitur-sap.simplidots.id/sfa/fitur-pada-sfa-sales-force-automation/pembaharuan-sfa-versi-3.1.2-06-nov-2024\n",
            "Finding links on (depth 2): https://fitur-sap.simplidots.id/sfa/fitur-pada-sfa-sales-force-automation/pembaharuan-sfa-versi-3.2.7-26-march-2025\n",
            "Finding links on (depth 2): https://fitur-sap.simplidots.id/canvass/fitur-pada-canvass\n",
            "Finding links on (depth 2): https://fitur-sap.simplidots.id/smh/fitur-pada-smh-sales-management-hub/2025/penambahan-fitur-collection-03-july-2025\n",
            "Finding links on (depth 2): https://fitur-sap.simplidots.id/smh/fitur-pada-smh-sales-management-hub/2023/penambahan-fitur-purchase-pembelian-pada-smh-15-november-2023\n",
            "Finding links on (depth 2): https://fitur-sap.simplidots.id/sfa/fitur-pada-sfa-sales-force-automation/pembaharuan-sfa-versi-3.2.6-february-2025\n",
            "Finding links on (depth 2): https://fitur-sap.simplidots.id/route-optimization/fitur-pada-ro-route-optimization/adjustment-tampilan-peta-dan-fitur-filter-pada-rekap-surat-jalan-delivery-summary-8-nov-2023\n",
            "Finding links on (depth 2): https://fitur-sap.simplidots.id/smh/fitur-pada-smh-sales-management-hub/2024/adjustment-pada-role-group-default-10-januari-2024\n",
            "Finding links on (depth 2): https://fitur-sap.simplidots.id/route-optimization/fitur-pada-ro-route-optimization/penambahan-fitur-filter-customer-fleet-pada-delivery-summary\n",
            "Finding links on (depth 2): https://fitur-sap.simplidots.id/smh/fitur-pada-smh-sales-management-hub/2024/penambahan-fitur-print-dokumen-27-aug-2024\n",
            "Finding links on (depth 2): https://fitur-sap.simplidots.id/smh/fitur-pada-smh-sales-management-hub/2024/penambahan-reset-route-pada-sales-management-hub-smh-23-januari-2024\n",
            "Finding links on (depth 2): https://fitur-sap.simplidots.id/smh/fitur-pada-smh-sales-management-hub/2025/live-mode-kini-dilengkapi-opsi-reset-atau-tidak-reset-data-31-juli-2025\n",
            "Finding links on (depth 2): https://fitur-sap.simplidots.id/smh/fitur-pada-smh-sales-management-hub/2023/adjustment-pada-tampilan-top-bar-smh-19-oct-2023\n",
            "Finding links on (depth 2): https://fitur-sap.simplidots.id/smh/fitur-pada-smh-sales-management-hub/2025/penambahan-fitur-edit-warehouse-and-bulk-transfer-stock-25-march-2025\n",
            "Finding links on (depth 2): https://fitur-sap.simplidots.id/smh/fitur-pada-smh-sales-management-hub/2023\n",
            "Finding links on (depth 2): https://fitur-sap.simplidots.id/smh/fitur-pada-smh-sales-management-hub/2023/penambahan-fitur-filter-updated-at-pada-sales-order-27-june-2023\n",
            "Finding links on (depth 2): https://fitur-sap.simplidots.id/smh/fitur-pada-smh-sales-management-hub/2024/penambahan-kolom-pada-hasil-export-si-sales-invoice-29-aug-2024\n",
            "Finding links on (depth 2): https://fitur-sap.simplidots.id/smh/fitur-pada-smh-sales-management-hub/2025\n",
            "Finding links on (depth 2): https://fitur-sap.simplidots.id/smh/fitur-pada-smh-sales-management-hub/2025/penambahan-fitur-log-activity-pengaturan-quantity-jam-mulai-dan-akhir-promo-30-april-2025\n",
            "Finding links on (depth 2): https://fitur-sap.simplidots.id/smh/fitur-pada-smh-sales-management-hub/2024/pembaharuan-menu-produk-pada-smh-02-may-2024\n",
            "Finding links on (depth 2): https://fitur-sap.simplidots.id/smh/fitur-pada-smh-sales-management-hub/2024/pembaharuan-tampilan-pada-smart-portal-x-sap-28-oct-2024\n",
            "\n",
            "Found 88 unique links. Starting content extraction...\n",
            "  -> Processed: Update Mengenai Coretax Format XML PPN 11% [Phase 1] (Date: unknown)\n",
            "  -> Processed: Penambahan Fitur Brand pada Produk (Date: 2024-02-19)\n",
            "  -> Processed: Update Mengenai Coretax Format XML PPN 12%- [Phase 2] (Date: unknown)\n",
            "  -> Processed: Penambahan Pop-up Pengumuman SimpliDOTS di Aplikasi SFA dan Canvass (Date: 2023-08-23)\n",
            "  -> Processed: Pembaharuan Menu Daily Visit & Dashboard pada Aplikasi Supervision (Date: 2024-04-22)\n",
            "  -> Processed: Pembaharuan Notifikasi pada SMH [Nov 2024] (Date: unknown)\n",
            "  -> Processed: Penambahan Fitur Promo Diskon Kuantitas & Nominal Bertingkat (Date: 2024-03-06)\n",
            "  -> Processed: Smart Portal Distributor (Date: unknown)\n",
            "  -> Processed: Adjustment pada Minimum Akses Role Supervisor (Date: 2023-09-06)\n",
            "  -> Processed: Penambahan Tampilan Peta Sebelum Check-in (Date: 2025-01-26)\n",
            "  -> Processed: Proteksi Jika Terdapat Perubahan Unit Produk yang Telah Memiliki Transaksi pada SMH (Date: 2023-08-01)\n",
            "  -> Processed: Fitur pada SFA (Sales Force Automation) (Date: unknown)\n",
            "  -> Processed: Adjustment pada Daily Visit Table & Daily Visit Map (SMH) (Date: 2024-02-07)\n",
            "  -> Processed: Penambahan Marketing Banner Info Pada Halaman Login (Date: 2023-12-22)\n",
            "  -> Processed: Open API Stock dan Unit (Date: 2025-03-03)\n",
            "  -> Processed: Pembaharuan Menu Customer pada Sales Management Hub (SMH) (Date: 2024-03-17)\n",
            "  -> Processed: Adjustment pada Tampilan Sales Order SMH (Date: 2023-09-25)\n",
            "  -> Processed: Penambahan Fitur Cancel/Batal DO, DS dan Status DS pada RO (Date: 2023-08-21)\n",
            "  -> Processed: Penambahan Fitur Return pada SMH (Date: 2025-01-15)\n",
            "  -> Processed: Penambahan Fitur Generate Invoice pada Sales Order dan Fitur Cancel SI (Date: 2024-07-24)\n",
            "  -> Processed: Penambahan Marketing Banner Info pada Halaman Registrasi (Date: 2024-07-03)\n",
            "  -> Processed: Smart Portal Distributor (Date: unknown)\n",
            "  -> Processed: New Feature: Tanya AI (Date: unknown)\n",
            "  -> Processed: Adjustment Manual Delivery Summary & Infinite Fleet (Date: 2023-12-27)\n",
            "  -> Processed: Penambahan Fitur Edit Delivery Summary (Date: 2024-09-10)\n",
            "  -> Processed: Penambahan Fitur dan Perbaikan pada Canvass (Date: 2023-06-12)\n",
            "  -> Processed: Fitur Laporan Delivery Order/Delivery Summary pada Smart Portal (Date: 2023-08-07)\n",
            "  -> Processed: Penambahan dan Pembaharuan pada Menu Sales Invoice (Date: 2024-09-02)\n",
            "  -> Processed: Pembaharuan pada Menu Sales Invoice SMH (Date: 2024-09-05)\n",
            "  -> Processed: Penambahan Fitur Switch Tenant untuk Multi Tenants di SMH (Date: 2024-05-28)\n",
            "  -> Processed: [Beta] Integrasi Sales Invoice SimpliDOTS x Accurate Online (Date: 2025-07-17)\n",
            "  -> Processed: Pembaharuan SFA versi 3.0.12 (Date: 2024-09-02)\n",
            "  -> Processed: Penambahan Fitur Customer Stock Berdasarkan Product Focus (Date: 2024-10-09)\n",
            "  -> Processed: Custom Mapping Delivery Summary (DS) (Date: 2025-03-03)\n",
            "  -> Processed: Pembaharuan SFA versi 3.1.2 (Date: 2024-11-06)\n",
            "  -> Processed: Penambahan Fitur Collection (Date: 2025-07-03)\n",
            "  -> Processed: Penambahan Fitur Purchase (Pembelian) pada SMH (Date: 2023-11-15)\n",
            "  -> Processed: Penambahan Kolom pada Hasil Export SI (Sales Invoice) (Date: 2024-08-29)\n",
            "  -> Processed: Pembaharuan Tampilan pada Smart Portal x SAP (Date: 2024-10-28)\n",
            "  -> Processed: Fitur pada SFA (Sales Force Automation) (Date: unknown)\n",
            "  -> Processed: Pembaharuan SFA versi 3.1.1 (Date: 2024-10-31)\n",
            "  -> Processed: Perbaikan Pemilihan Gudang pada Buat Sales Invoice (Date: 2025-07-11)\n",
            "  -> Processed: Update Mengenai Coretax Format XML PPN 11% [Phase 1] (Date: unknown)\n",
            "  -> Processed: Adjustment pada Daily Visit Map (Geografis Kunjungan) (Date: 2023-09-22)\n",
            "  -> Processed: Penambahan Fitur E-Faktur (Date: 2024-09-11)\n",
            "  -> Processed: Penambahan Report Sales Invoice (Laporan Faktur) (Date: 2024-01-12)\n",
            "  -> Processed: Fitur Laporan Delivery Order/Delivery Summary pada Smart Portal (Date: 2023-08-07)\n",
            "  -> Processed: Penambahan Fitur Impor dan Ekspor Stok (Date: 2025-03-20)\n",
            "  -> Processed: Penambahan Fitur BI Smart Portal x SAP (Date: 2024-10-28)\n",
            "  -> Processed: Updates Mengenai PPN 12% (Date: unknown)\n",
            "  -> Processed: Penambahan Fitur Price List Default pada Sales Order di SMH (Date: 2023-08-11)\n",
            "  -> Processed: Pembaharuan SFA versi 3.0.10 (Date: 2024-08-23)\n",
            "  -> Processed: Pembaharuan Fitur Promo pada SFA versi 2.17.0 (Date: 2023-07-17)\n",
            "  -> Processed: Pembaharuan Tampilan & Fitur Baru pada Aplikasi SFA (Sales Force Automation) (Date: 2024-06-10)\n",
            "  -> Processed: Penambahan Fitur Integrasi Stok dari Antzman ke SAP (Date: unknown)\n",
            "  -> Processed: Penambahan Fitur pada Route Optimization (RO) (Date: 2023-07-17)\n",
            "  -> Processed: Pembaharuan pada Manajemen Rute Kunjungan (Date: 2024-05-08)\n",
            "  -> Processed: Penambahan Fitur Customer Limit (Date: 2025-05-19)\n",
            "  -> Processed: Penambahan Fitur Ekspor Sales Order ke .TXT File Extension pada SMH (Date: 2023-08-03)\n",
            "  -> Processed: Penambahan Fitur Default Setting pada SMH (Date: 2024-06-27)\n",
            "  -> Processed: Adjustment pada Top Bar Responsive on Tablet and Mobile (Date: 2023-12-15)\n",
            "  -> Processed: Pembaharuan SFA versi 3.1.4 (Date: 2024-12-26)\n",
            "  -> Processed: Pembaharuan fitur Import DO/Surat Jalan pada RO (Date: 2023-08-14)\n",
            "  -> Processed: SFA New (Sales Force Automation) (Date: unknown)\n",
            "  -> Processed: Penambahan dan Perbaikan Fitur pada Canvass versi 1.2.1 (Date: 2023-07-03)\n",
            "  -> Processed: Penambahan Open API SAP SimpliDOTS (Date: 2024-07-31)\n",
            "  -> Processed: Pembaharuan SFA versi 3.2.7 (Date: 2025-03-26)\n",
            "  -> Processed: Pembaharuan SFA versi 3.2.6 [February 2025] (Date: unknown)\n",
            "  -> Processed: Adjustment Tampilan Peta dan Fitur Filter pada Rekap Surat Jalan (Delivery Summary) (Date: 2023-11-08)\n",
            "  -> Processed: Adjustment Pada Role Group Default (Date: 2024-01-10)\n",
            "  -> Processed: Penambahan Fitur Filter Customer Fleet pada Delivery Summary (Date: unknown)\n",
            "  -> Processed: Penambahan Fitur Print Dokumen (Date: 2024-08-27)\n",
            "  -> Processed: Penambahan Reset Route pada Sales Management Hub (SMH) (Date: 2024-01-23)\n",
            "  -> Processed: Live Mode Kini Dilengkapi Opsi Reset atau Tidak Reset Data (Date: 2025-07-31)\n",
            "  -> Processed: Adjustment pada Tampilan Top Bar SMH (Date: 2023-10-19)\n",
            "  -> Processed: Penambahan Fitur Edit Warehouse & Bulk Transfer Stock (Date: 2025-03-25)\n",
            "  -> Processed: Penambahan Fitur Filter Updated At pada Sales Order (Date: 2023-06-27)\n",
            "  -> Processed: Penambahan Fitur Log Activity, Pengaturan Quantity, Jam Mulai dan Akhir Promo (Date: 2025-04-30)\n",
            "  -> Processed: Pembaharuan Menu Produk pada SMH (Date: 2024-05-02)\n",
            "Berhasil scrape SimpliDOTS: 79 dokumen\n"
          ]
        }
      ]
    },
    {
      "cell_type": "code",
      "source": [
        "langflow_docs = scrape_github_releases(URLS[\"langflow\"])\n",
        "if langflow_docs:\n",
        "    all_documents.extend(langflow_docs)\n",
        "    print(f\"Berhasil scrape Langflow: {len(langflow_docs)} dokumen rilis\")\n",
        "else:\n",
        "    print(\"Gagal scrape Langflow.\")"
      ],
      "metadata": {
        "colab": {
          "base_uri": "https://localhost:8080/"
        },
        "id": "iGC0ZSIxbzZj",
        "outputId": "d95429af-0ca6-466c-dfa3-3fc6001ef144"
      },
      "execution_count": 26,
      "outputs": [
        {
          "output_type": "stream",
          "name": "stdout",
          "text": [
            "Berhasil scrape Langflow: 15 dokumen rilis\n"
          ]
        }
      ]
    },
    {
      "cell_type": "code",
      "source": [
        "anthropic_html = scrape_anthropic_with_selenium(URLS[\"anthropic\"])\n",
        "if anthropic_html:\n",
        "    all_documents.append(Document(page_content=anthropic_html, metadata={\"source\": URLS[\"anthropic\"]}))\n",
        "    print(f\"Scraped Anthropic: {len(anthropic_html)} characters of HTML\")\n",
        "else:\n",
        "    print(\"Failed to scrape Anthropic.\")\n",
        "\n",
        "print(f\"\\nTotal dokumen yang berhasil di-scrape: {len(all_documents)}\")"
      ],
      "metadata": {
        "colab": {
          "base_uri": "https://localhost:8080/"
        },
        "id": "5Dz6RHEUEznN",
        "outputId": "b3e93556-b09c-4c02-f119-69b729faf34a"
      },
      "execution_count": 27,
      "outputs": [
        {
          "output_type": "stream",
          "name": "stdout",
          "text": [
            "Scraped Anthropic: 12752 characters of HTML\n",
            "\n",
            "Total dokumen yang berhasil di-scrape: 95\n"
          ]
        }
      ]
    },
    {
      "cell_type": "code",
      "source": [
        "simplidots_docs_found = [doc for doc in all_documents if \"simplidots\" in doc.metadata.get(\"source\", \"\")]\n",
        "\n",
        "if simplidots_docs_found:\n",
        "    print(f\"Found {len(simplidots_docs_found)} SimpliDOTS documents.\")\n",
        "    # Display the content of the first few SimpliDOTS documents as an example\n",
        "    for i, doc in enumerate(simplidots_docs_found[:3]): # Display content of first 3 docs\n",
        "        print(f\"\\n--- SimpliDOTS Document {i+1} ---\")\n",
        "        print(f\"Title: {doc.metadata.get('title', 'N/A')}\")\n",
        "        print(f\"Date: {doc.metadata.get('release_date', 'N/A')}\")\n",
        "        words = doc.page_content.split()\n",
        "        display(\" \".join(words[:100])) # Display first 100 words of each doc\n",
        "else:\n",
        "    display(\"No SimpliDOTS documents were scraped successfully.\")"
      ],
      "metadata": {
        "colab": {
          "base_uri": "https://localhost:8080/",
          "height": 506
        },
        "id": "mXqNy7pCkVun",
        "outputId": "1a30ebf2-8a9a-4871-ffb9-6b4b7c75d0cd"
      },
      "execution_count": 28,
      "outputs": [
        {
          "output_type": "stream",
          "name": "stdout",
          "text": [
            "Found 79 SimpliDOTS documents.\n",
            "\n",
            "--- SimpliDOTS Document 1 ---\n",
            "Title: Update Mengenai Coretax Format XML PPN 11% [Phase 1]\n",
            "Date: unknown\n"
          ]
        },
        {
          "output_type": "display_data",
          "data": {
            "text/plain": [
              "\"Copy SMH FITUR PADA SMH (SALES MANAGEMENT HUB) 2025 🚀 Update Mengenai Coretax Format XML PPN 11% - [Phase 1] What's new?! Dalam rangka mengikuti kebijakan pemerintah yang telah mewajibkan penggunaan Coretax, SimpliDOTS kini mendukung format file XML dan Excel untuk mempermudah pengguna dalam melakukan penyesuaian data pajak. Berikut detailnya: Dukungan XML dan Excel dengan Format PPN 11% Saat ini, sesuai dengan PER-1/PJ/2025, Pengusaha Kena Pajak (PKP) masih diperbolehkan menerbitkan faktur dengan PPN 11% hingga Maret 2025. Oleh karena itu, SimpliDOTS menyediakan file XML dan Excel dengan format 11% untuk membantu proses upload faktur, sembari kami mempersiapkan sistem untuk mendukung\""
            ],
            "application/vnd.google.colaboratory.intrinsic+json": {
              "type": "string"
            }
          },
          "metadata": {}
        },
        {
          "output_type": "stream",
          "name": "stdout",
          "text": [
            "\n",
            "--- SimpliDOTS Document 2 ---\n",
            "Title: Penambahan Fitur Brand pada Produk\n",
            "Date: 2024-02-19\n"
          ]
        },
        {
          "output_type": "display_data",
          "data": {
            "text/plain": [
              "\"Copy SMH FITUR PADA SMH (SALES MANAGEMENT HUB) 2024 🚀 Penambahan Fitur Brand pada Produk - [19 Feb 2024] Halo, Kawan Simpli! Ada kabar yang perlu kamu tahu, nih! Kini, terdapat penambahan fitur baru yaitu Brand agar dapat memudahkan proses manajamen dan kategorisasi master data produk yang lebih baik pada Sales Management Hub (SMH). What's New? Terdapat penambahan fitur Brand agar dapat mengisi data produk yang lebih lengkap dan terdefinisi dengan baik sehingga memudahkan proses manajemen dan kategorisasi produk. Menu Brand terdapat pada submenu Master Data> Produk> Brand. Fitur ini diharapkan dapat membuat user lebih mudah dalam mengelompokkan data produk\""
            ],
            "application/vnd.google.colaboratory.intrinsic+json": {
              "type": "string"
            }
          },
          "metadata": {}
        },
        {
          "output_type": "stream",
          "name": "stdout",
          "text": [
            "\n",
            "--- SimpliDOTS Document 3 ---\n",
            "Title: Update Mengenai Coretax Format XML PPN 12%- [Phase 2]\n",
            "Date: unknown\n"
          ]
        },
        {
          "output_type": "display_data",
          "data": {
            "text/plain": [
              "\"Copy SMH FITUR PADA SMH (SALES MANAGEMENT HUB) 2025 🚀 Update Mengenai Coretax Format XML PPN 12%- [Phase 2] Halo, Kawan Simpli! Ada kabar bahagia yang perlu kamu tahu, nih! Kini, terdapat penambahan dan pembaharuan fitur berkaitan dengan coretax agar dapat mempermudah user dalam menggunakan sistem SimpliDOTS. What's new? Pada release sebelumnya, SimpliDOTS telah mendukung export XML dan Excel dengan Format PPN 11% (baca lebih lanjut Phase 1 di sini). Pada release kali ini, SimpliDOTS sudah mendukung kebutuhan PPN 12% serta pembuatan file XML dan Excel dengan format 12% untuk membantu proses upload faktur pengeluaran. Yuk, baca lebih lanjut updatenya!\""
            ],
            "application/vnd.google.colaboratory.intrinsic+json": {
              "type": "string"
            }
          },
          "metadata": {}
        }
      ]
    },
    {
      "cell_type": "code",
      "source": [
        "langflow_docs_found = [doc for doc in all_documents if \"github.com/langflow-ai/langflow\" in doc.metadata.get(\"source\", \"\")]\n",
        "\n",
        "if langflow_docs_found:\n",
        "    print(f\"Found {len(langflow_docs_found)} Langflow documents.\")\n",
        "    # Display the content of the first few Langflow documents as an example\n",
        "    for i, doc in enumerate(langflow_docs_found[:3]):\n",
        "        print(f\"\\n--- Langflow Document {i+1} ---\")\n",
        "        words = doc.page_content.split()\n",
        "        display(\" \".join(words[:500]))\n",
        "else:\n",
        "    display(\"No Langflow documents were scraped successfully.\")"
      ],
      "metadata": {
        "colab": {
          "base_uri": "https://localhost:8080/",
          "height": 419
        },
        "id": "QwHUxPi0jNiB",
        "outputId": "5eb4657e-aa81-4694-b783-2e56a000485d"
      },
      "execution_count": 29,
      "outputs": [
        {
          "output_type": "stream",
          "name": "stdout",
          "text": [
            "Found 15 Langflow documents.\n",
            "\n",
            "--- Langflow Document 1 ---\n"
          ]
        },
        {
          "output_type": "display_data",
          "data": {
            "text/plain": [
              "\"## 1.5.0.post1 <!-- Release notes generated using configuration in .github/release.yml at 1.5.0.post1 --> ## What's Changed ### ✨ New Features * feat: Add dynamic theming support to WatsonxAI icon by @Cristhianzl in https://github.com/langflow-ai/langflow/pull/8935 * feat: jigsawstack bundle integration by @Khurdhula-Harshavardhan in https://github.com/langflow-ai/langflow/pull/8832 * feat: enhance DataFrame Operations component with contains filter and modern UI by @rodrigosnader in https://github.com/langflow-ai/langflow/pull/8838 * feat: add DataFrame output to Structured Output component by @rodrigosnader in https://github.com/langflow-ai/langflow/pull/8842 ### 🐛 Bug Fixes * fix: Improve modal layout responsiveness and overflow handling by @Cristhianzl in https://github.com/langflow-ai/langflow/pull/8936 * fix: Improve flow export error handling and validation by @Cristhianzl in https://github.com/langflow-ai/langflow/pull/8943 * fix: make deletion of single file commit to DB, create tests for file deletion by @lucaseduoli in https://github.com/langflow-ai/langflow/pull/8953 * fix: update API Access codes to include only authenticated code by @lucaseduoli in https://github.com/langflow-ai/langflow/pull/8957 * fix: Ensure flow_id is not None before logging vertex build details by @ogabrielluiz in https://github.com/langflow-ai/langflow/pull/8954 * fix: fix max height of template getting started cards by @mfortman11 in https://github.com/langflow-ai/langflow/pull/8964 * fix: clean edges of same type but different name when switching outputs, update color when deleting edges by @lucaseduoli in https://github.com/langflow-ai/langflow/pull/8959 * fix: Update file component description for accuracy by @erichare in https://github.com/langflow-ai/langflow/pull/8960 * fix: make mcp server component handle cache miss gracefully by @lucaseduoli in https://github.com/langflow-ai/langflow/pull/8966 * fix: make files be saved in unique path by @lucaseduoli in https://github.com/langflow-ai/langflow/pull/8965 * fix: add scroll to update components review dialog by @lucaseduoli in https://github.com/langflow-ai/langflow/pull/8983 * fix: improved better health check and stream URL check on MCP, improved JSON recognition by @lucaseduoli in https://github.com/langflow-ai/langflow/pull/8982 ### 📝 Documentation Updates * docs: update nv-ingest component by @mendonk in https://github.com/langflow-ai/langflow/pull/8950 * docs: 1.5 release by @mendonk in https://github.com/langflow-ai/langflow/pull/8387 * docs: add required API key headers for 1.5 by @mendonk in https://github.com/langflow-ai/langflow/pull/8721 * docs: add windows desktop back for 1.5 release by @mendonk in https://github.com/langflow-ai/langflow/pull/8866 * docs: add windows related content by @mendonk in https://github.com/langflow-ai/langflow/pull/8903 * docs: how to add a missing dependency to langflow desktop by @mendonk in https://github.com/langflow-ai/langflow/pull/8942 * docs: add unix note to api pane by @mendonk in https://github.com/langflow-ai/langflow/pull/8951 * docs: docling integration by @mendonk in https://github.com/langflow-ai/langflow/pull/8939 * docs: remove duplicate intro text by @mendonk in https://github.com/langflow-ai/langflow/pull/8987 * docs: chatbot with files tutorial by @mendonk in https://github.com/langflow-ai/langflow/pull/8813 ### 🛠 Maintenance Tasks * refactor: Extract single file download logic to custom hook by @Cristhianzl in https://github.com/langflow-ai/langflow/pull/8944 * refactor(auth): simplify flow retrieval by removing settings_service dependency by @ogabrielluiz in https://github.com/langflow-ai/langflow/pull/8956 * refactor: update cache service type hints in MCPToolsComponent by @ogabrielluiz in https://github.com/langflow-ai/langflow/pull/8975 * refactor: update imports and move functions out of MCPToolsComponent by @ogabrielluiz in https://github.com/langflow-ai/langflow/pull/8976 ### Others * chore: release 1.5.0 by @ogabrielluiz in https://github.com/langflow-ai/langflow/pull/8930 * chore: update package versions to include post-release tags by @ogabrielluiz in https://github.com/langflow-ai/langflow/pull/8955 * chore: enable code guidelines in coderabbit configuration by @ogabrielluiz in https://github.com/langflow-ai/langflow/pull/8958 * ci: update regex pattern for langflow-base dependency to support PEP 440 version suffixes by @ogabrielluiz in https://github.com/langflow-ai/langflow/pull/8979 * ci: update nightly script to support other version operators by @ogabrielluiz in https://github.com/langflow-ai/langflow/pull/8980 * templates: Update Vector Store\""
            ],
            "application/vnd.google.colaboratory.intrinsic+json": {
              "type": "string"
            }
          },
          "metadata": {}
        },
        {
          "output_type": "stream",
          "name": "stdout",
          "text": [
            "\n",
            "--- Langflow Document 2 ---\n"
          ]
        },
        {
          "output_type": "display_data",
          "data": {
            "text/plain": [
              "\"## 1.5.0 <!-- Release notes generated using configuration in .github/release.yml at refs/heads/release-1.5.0 --> ## What's Changed ### ✨ New Features * feat: deprecate processing components by @edwinjosechittilappilly in https://github.com/langflow-ai/langflow/pull/7254 * feat: add rss component by @edwinjosechittilappilly in https://github.com/langflow-ai/langflow/pull/8134 * feat: New Web search component by @edwinjosechittilappilly in https://github.com/langflow-ai/langflow/pull/8135 * feat: Adds our first Cursor rules by @mfortman11 in https://github.com/langflow-ai/langflow/pull/7973 * feat: adds new Edit Details popover, removes flow menu, fixes nav alignment, adds new Flow Status overlay by @lucaseduoli in https://github.com/langflow-ai/langflow/pull/8087 * feat: Enhance API request component by @edwinjosechittilappilly in https://github.com/langflow-ai/langflow/pull/8070 * feat: add datastax components bundle by @erichare in https://github.com/langflow-ai/langflow/pull/8184 * feat: updated components header styling by @lucaseduoli in https://github.com/langflow-ai/langflow/pull/8085 * ref: SQL component by @edwinjosechittilappilly in https://github.com/langflow-ai/langflow/pull/8185 * feat: Loop uplift dataframe input and output by @edwinjosechittilappilly in https://github.com/langflow-ai/langflow/pull/8177 * feat: News Search Component by @edwinjosechittilappilly in https://github.com/langflow-ai/langflow/pull/8190 * feat: add llm keywords to language model base by @edwinjosechittilappilly in https://github.com/langflow-ai/langflow/pull/8115 * feat: New Search Bundle by @Yukiyukiyeah in https://github.com/langflow-ai/langflow/pull/8146 * feat: implement web app manifest for progressive web app functionality by @Cristhianzl in https://github.com/langflow-ai/langflow/pull/8216 * feat: Add Composio GitHub component by @abhishekpatil4 in https://github.com/langflow-ai/langflow/pull/7640 * Feat: move other tools to different folders by @Yukiyukiyeah in https://github.com/langflow-ai/langflow/pull/8164 * feat: Outputs UX improvements by @deon-sanchez in https://github.com/langflow-ai/langflow/pull/8131 * feat: changed tweaks into input schema and enabled persistence by @lucaseduoli in https://github.com/langflow-ai/langflow/pull/8235 * feat: add export option to deploy dropdown by @lucaseduoli in https://github.com/langflow-ai/langflow/pull/8221 * feat: add models category by @edwinjosechittilappilly in https://github.com/langflow-ai/langflow/pull/8231 * feat: Add customizable chat input and file upload components by @Cristhianzl in https://github.com/langflow-ai/langflow/pull/8237 * feat: Add async output resolution with caching and ordered processing by @ogabrielluiz in https://github.com/langflow-ai/langflow/pull/7487 * feat: create an IO Category by @edwinjosechittilappilly in https://github.com/langflow-ai/langflow/pull/8229 * ref: URL and File components with Dataframe output by @edwinjosechittilappilly in https://github.com/langflow-ai/langflow/pull/8117 * Ref: LLMRouterComponent with Advanced OpenRouter Integration by @raphaelchristi in https://github.com/langflow-ai/langflow/pull/8220 * feat: add one click install to mcp servers on specific clients by @lucaseduoli in https://github.com/langflow-ai/langflow/pull/8271 * feat: add convert component with dynamic output support by @edwinjosechittilappilly in https://github.com/langflow-ai/langflow/pull/7773 * ci(docker): update Buildx setup to use BuildKit container backend by @ogabrielluiz in https://github.com/langflow-ai/langflow/pull/8320 * feat: Add Composio Outlook component by @abhishekpatil4 in https://github.com/langflow-ai/langflow/pull/7987 * feat: Update components input/output display name and descriptions by @Yukiyukiyeah in https://github.com/langflow-ai/langflow/pull/8284 * feat: Add Google as an option for genai by @erichare in https://github.com/langflow-ai/langflow/pull/8358 * feat: Add Cleanlab's AI Reliability Bundle to Langflow by @cmauck10 in https://github.com/langflow-ai/langflow/pull/8049 * feat: combine chat history and chat store into a CRUD component by @Yukiyukiyeah in https://github.com/langflow-ai/langflow/pull/8323 * feat: NV-ingest high resolution extraction and infographics content extraction by @maheshrajamani in https://github.com/langflow-ai/langflow/pull/8315 * feat: change smart function title, icon and desc by @Yukiyukiyeah in https://github.com/langflow-ai/langflow/pull/8405 * feat: enhance OutputComponent dropdown functionality and styling by @deon-sanchez in https://github.com/langflow-ai/langflow/pull/8458 * Fix: chat memory store issue and fix output types by @Yukiyukiyeah in https://github.com/langflow-ai/langflow/pull/8463 * feat: add servers persistence to MCP connection component, add MCP connections settings page by @lucaseduoli in https://github.com/langflow-ai/langflow/pull/8388 * feat: Add raw content output for File component by @erichare in https://github.com/langflow-ai/langflow/pull/8515 * feat:\""
            ],
            "application/vnd.google.colaboratory.intrinsic+json": {
              "type": "string"
            }
          },
          "metadata": {}
        },
        {
          "output_type": "stream",
          "name": "stdout",
          "text": [
            "\n",
            "--- Langflow Document 3 ---\n"
          ]
        },
        {
          "output_type": "display_data",
          "data": {
            "text/plain": [
              "'## 1.4.3 <!-- Release notes generated using configuration in .github/release.yml at refs/heads/1.4.3-release --> **Full Changelog**: https://github.com/langflow-ai/langflow/compare/1.4.2...1.4.3'"
            ],
            "application/vnd.google.colaboratory.intrinsic+json": {
              "type": "string"
            }
          },
          "metadata": {}
        }
      ]
    },
    {
      "cell_type": "code",
      "source": [
        "# Find the Anthropic document in the all_documents list\n",
        "anthropic_doc = next((doc for doc in all_documents if doc.metadata.get(\"source\") == URLS[\"anthropic\"]), None)\n",
        "\n",
        "if anthropic_doc:\n",
        "    words = anthropic_doc.page_content.split()\n",
        "    display(\" \".join(words[:100]))\n",
        "else:\n",
        "    display(\"Anthropic document was not found in all_documents.\")"
      ],
      "metadata": {
        "colab": {
          "base_uri": "https://localhost:8080/",
          "height": 87
        },
        "id": "OUdJCHETjBlL",
        "outputId": "af923975-f07c-4c7e-8bcd-28b1da1a1a6d"
      },
      "execution_count": 31,
      "outputs": [
        {
          "output_type": "display_data",
          "data": {
            "text/plain": [
              "'Anthropic home page English Search... Navigation Release Notes API RELEASE NOTES API Copy page Follow along with updates across Anthropic’s API and Developer Console. July 28, 2025 We’ve released text_editor_20250728, an updated text editor tool that fixes some issues from the previous versions and adds an optional max_characters parameter that allows you to control the truncation length when viewing large files. July 24, 2025 We’ve increased rate limits for Claude Opus 4 on the Anthropic API to give you more capacity to build and scale with Claude. For customers with usage tier 1-4 rate limits, these changes apply immediately to'"
            ],
            "application/vnd.google.colaboratory.intrinsic+json": {
              "type": "string"
            }
          },
          "metadata": {}
        }
      ]
    },
    {
      "cell_type": "markdown",
      "source": [
        "## Data Preprocessing"
      ],
      "metadata": {
        "id": "ssHjUszP2-e0"
      }
    },
    {
      "cell_type": "code",
      "source": [
        "from langchain.text_splitter import RecursiveCharacterTextSplitter\n",
        "from dateutil.parser import parse as parse_date # Ensure parse_date is imported\n",
        "import re # Ensure re is imported\n",
        "\n",
        "def clean_text(text):\n",
        "    \"\"\"A simple function to clean text artifacts.\"\"\"\n",
        "    text = re.sub(r'\\n\\s*\\n', '\\n\\n', text)\n",
        "    artifacts = [\"Was this helpful?\", \"Powered by GitBook\", \"Copy\", \"Next\", \"Previous\", \"Last updated\"]\n",
        "    for artifact in artifacts:\n",
        "        text = text.replace(artifact, \"\")\n",
        "    return text.strip()\n",
        "\n",
        "def extract_and_format_date(text):\n",
        "    \"\"\"\n",
        "    Finds a date, translates Indonesian months, and returns a datetime object.\n",
        "    Returns None if no date is found or parsing fails.\n",
        "    \"\"\"\n",
        "    # Mapping for Indonesian to English months\n",
        "    month_map = {\n",
        "        'januari': 'january', 'februari': 'february', 'maret': 'march', 'april': 'april',\n",
        "        'mei': 'may', 'juni': 'june', 'juli': 'july', 'agustus': 'august',\n",
        "        'september': 'september', 'oktober': 'october', 'november': 'november', 'desember': 'december'\n",
        "    }\n",
        "\n",
        "    # Regex to find dates with either English or Indonesian month names\n",
        "    # This pattern is designed to find dates in various formats within the text\n",
        "    date_pattern = r\"(?i)(\\d{1,2}\\s+(?:Jan(?:uari)?|Feb(?:ruari)?|Mar(?:et)?|Apr(?:il)?|Mei|Jun(?:i)?|Jul(?:i)?|Agu(?:stus)?|Sep(?:tember)?|Okt(?:ober)?|Nov(?:ember)?|Des(?:ember)?)\\s+\\d{4}|(?:Jan(?:uary)?|Feb(?:ruary)?|Mar(?:ch)?|Apr(?:il)?|May|Jun(?:e)?|Jul(?:y)?|Aug(?:ust)?|Sep(?:tember)?|Oct(?:ober)?|Nov(?:ember)?|Dec(?:ember)?)\\s+\\d{1,2}(?:st|nd|rd|th)?(?:,)?\\s+\\d{4})\"\n",
        "\n",
        "    match = re.search(date_pattern, text)\n",
        "    if match:\n",
        "        try:\n",
        "            date_str = match.group(0).lower()\n",
        "            # Translate month if it's Indonesian\n",
        "            for indo, eng in month_map.items():\n",
        "                date_str = date_str.replace(indo, eng)\n",
        "\n",
        "            # Parse the cleaned date string\n",
        "            parsed_date = parse_date(date_str)\n",
        "            return parsed_date\n",
        "        except (ValueError, TypeError):\n",
        "            return None\n",
        "    return None\n",
        "\n",
        "\n",
        "print(\"Starting simplified chunking and cleaning...\")\n",
        "\n",
        "# Langsung lakukan chunking pada semua dokumen yang berhasil di-scrape\n",
        "# Use chunked_docs which already contains documents from all sources\n",
        "text_splitter = RecursiveCharacterTextSplitter(chunk_size=1500, chunk_overlap=150)\n",
        "final_chunks = text_splitter.split_documents(all_documents)\n",
        "\n",
        "\n",
        "# Lakukan pembersihan sederhana pada setiap chunk\n",
        "for chunk in final_chunks:\n",
        "    chunk.page_content = clean_text(chunk.page_content)\n",
        "    # Coba ekstrak date from content and add to metadata if not already present\n",
        "    if 'release_date' not in chunk.metadata or chunk.metadata['release_date'] == 'unknown':\n",
        "        extracted_date = extract_and_format_date(chunk.page_content)\n",
        "        if extracted_date:\n",
        "             chunk.metadata['release_date'] = extracted_date.strftime('%Y-%m-%d')\n",
        "        else:\n",
        "             chunk.metadata['release_date'] = 'unknown' # Ensure date is always present\n",
        "\n",
        "\n",
        "# Filter chunk yang sangat pendek\n",
        "processed_docs = [chunk for chunk in final_chunks if len(chunk.page_content) > 50]\n",
        "\n",
        "print(f\"Preprocessing complete. Total chunks ready for embedding: {len(processed_docs)}\")"
      ],
      "metadata": {
        "colab": {
          "base_uri": "https://localhost:8080/"
        },
        "id": "LPvd5J1z3A44",
        "outputId": "fa850327-1d39-44e5-d343-6c1df4bcb241"
      },
      "execution_count": 33,
      "outputs": [
        {
          "output_type": "stream",
          "name": "stdout",
          "text": [
            "Starting simplified chunking and cleaning...\n",
            "Preprocessing complete. Total chunks ready for embedding: 621\n"
          ]
        }
      ]
    },
    {
      "cell_type": "code",
      "source": [
        "print(\"\\nExample of a PROCESSED SimpliDots chunk metadata:\")\n",
        "for doc in processed_docs:\n",
        "    if \"simplidots\" in doc.metadata[\"source\"]:\n",
        "        print(doc.metadata)\n",
        "        break\n",
        "\n",
        "print(\"\\nExample of a PROCESSED Anthropic chunk metadata:\")\n",
        "for doc in processed_docs:\n",
        "    if \"anthropic\" in doc.metadata[\"source\"]:\n",
        "        print(doc.metadata)\n",
        "        break"
      ],
      "metadata": {
        "colab": {
          "base_uri": "https://localhost:8080/"
        },
        "id": "pcSKfSbA3JU0",
        "outputId": "ac5c0d5c-f4fc-48be-d209-0dcb55392716"
      },
      "execution_count": 35,
      "outputs": [
        {
          "output_type": "stream",
          "name": "stdout",
          "text": [
            "\n",
            "Example of a PROCESSED SimpliDots chunk metadata:\n",
            "{'source': 'https://fitur-sap.simplidots.id/smh/fitur-pada-smh-sales-management-hub/2025/update-mengenai-coretax-format-xml', 'title': 'Update Mengenai Coretax Format XML PPN 11% [Phase 1]', 'release_date': 'unknown'}\n",
            "\n",
            "Example of a PROCESSED Anthropic chunk metadata:\n",
            "{'source': 'https://docs.anthropic.com/en/release-notes/api', 'release_date': '2025-07-28'}\n"
          ]
        }
      ]
    },
    {
      "cell_type": "markdown",
      "source": [
        "## Data Ingestion"
      ],
      "metadata": {
        "id": "uye-7TK4b6x0"
      }
    },
    {
      "cell_type": "markdown",
      "source": [
        "### Chunking Process"
      ],
      "metadata": {
        "id": "yCy1krb6b_iP"
      }
    },
    {
      "cell_type": "code",
      "source": [
        "from langchain.text_splitter import RecursiveCharacterTextSplitter\n",
        "\n",
        "text_splitter = RecursiveCharacterTextSplitter(\n",
        "    chunk_size=1500,\n",
        "    chunk_overlap=200,\n",
        "    length_function=len,\n",
        ")\n",
        "\n",
        "print(\"Chunking documents...\")\n",
        "chunked_docs = text_splitter.split_documents(all_documents)\n",
        "print(f\"Documents chunked successfully. Total chunks: {len(chunked_docs)}\")"
      ],
      "metadata": {
        "colab": {
          "base_uri": "https://localhost:8080/"
        },
        "id": "SXCmxeZDb8_X",
        "outputId": "c8afb822-ec13-4bdc-ba66-92888963d330"
      },
      "execution_count": 36,
      "outputs": [
        {
          "output_type": "stream",
          "name": "stdout",
          "text": [
            "Chunking documents...\n",
            "Documents chunked successfully. Total chunks: 635\n"
          ]
        }
      ]
    },
    {
      "cell_type": "markdown",
      "source": [
        "## Data Preprocessing"
      ],
      "metadata": {
        "id": "RXyNSkb0sABw"
      }
    },
    {
      "cell_type": "markdown",
      "source": [
        "### Format Release Date"
      ],
      "metadata": {
        "id": "EyNUOTePtobW"
      }
    },
    {
      "cell_type": "code",
      "source": [
        "def extract_and_format_date(text):\n",
        "    \"\"\"\n",
        "    Finds a date, translates Indonesian months, and returns a formatted string.\n",
        "    \"\"\"\n",
        "    # Mapping for Indonesian to English months\n",
        "    month_map = {\n",
        "        'januari': 'january', 'februari': 'february', 'maret': 'march', 'april': 'april',\n",
        "        'mei': 'may', 'juni': 'june', 'juli': 'july', 'agustus': 'august',\n",
        "        'september': 'september', 'oktober': 'october', 'november': 'november', 'desember': 'december'\n",
        "    }\n",
        "\n",
        "    # Regex to find dates with either English or Indonesian month names\n",
        "    date_pattern = r\"(?i)(\\d{1,2}\\s+(?:Jan(?:uari)?|Feb(?:ruari)?|Mar(?:et)?|Apr(?:il)?|Mei|Jun(?:i)?|Jul(?:i)?|Agu(?:stus)?|Sep(?:tember)?|Okt(?:ober)?|Nov(?:ember)?|Des(?:ember)?)\\s+\\d{4}|(?:Jan(?:uary)?|Feb(?:ruary)?|Mar(?:ch)?|Apr(?:il)?|May|Jun(?:e)?|Jul(?:y)?|Aug(?:ust)?|Sep(?:tember)?|Oct(?:ober)?|Nov(?:ember)?|Dec(?:ember)?)\\s+\\d{1,2}(?:st|nd|rd|th)?(?:,)?\\s+\\d{4})\"\n",
        "\n",
        "    match = re.search(date_pattern, text)\n",
        "    if match:\n",
        "        try:\n",
        "            date_str = match.group(0).lower()\n",
        "            # Translate month if it's Indonesian\n",
        "            for indo, eng in month_map.items():\n",
        "                date_str = date_str.replace(indo, eng)\n",
        "\n",
        "            # Parse the cleaned date string and format it\n",
        "            parsed_date = parse_date(date_str)\n",
        "            return parsed_date\n",
        "        except (ValueError, TypeError):\n",
        "            return None\n",
        "    return None"
      ],
      "metadata": {
        "id": "niXT_9zBsCLk"
      },
      "execution_count": 38,
      "outputs": []
    },
    {
      "cell_type": "markdown",
      "source": [
        "### Data Embedding"
      ],
      "metadata": {
        "id": "sfddN1-9cfAF"
      }
    },
    {
      "cell_type": "code",
      "source": [
        "from langchain_openai import AzureOpenAIEmbeddings\n",
        "from langchain_community.vectorstores import FAISS\n",
        "import math\n",
        "import time\n",
        "\n",
        "print(\"Initializing Azure OpenAI Embeddings model...\")\n",
        "azure_embeddings = AzureOpenAIEmbeddings(\n",
        "    azure_deployment=os.getenv(\"AZURE_OPENAI_EMBEDDING_DEPLOYMENT_NAME\"),\n",
        "    api_version=os.getenv(\"AZURE_OPENAI_API_VERSION\"),\n",
        ")\n",
        "print(\"Embedding model initialized.\")\n",
        "\n",
        "batch_size = 1000\n",
        "total_chunks = len(processed_docs)\n",
        "vector_store = None\n",
        "\n",
        "if total_chunks > 0:\n",
        "    num_batches = math.ceil(total_chunks / batch_size)\n",
        "    print(f\"\\nStarting embedding process for {total_chunks} PROCESSED chunks in {num_batches} batches...\")\n",
        "\n",
        "    for i in range(0, total_chunks, batch_size):\n",
        "        batch_number = (i // batch_size) + 1\n",
        "        start_time = time.time()\n",
        "\n",
        "        # Get the current batch from the PROCESSED documents list\n",
        "        batch_docs = processed_docs[i:i + batch_size]\n",
        "        print(f\"  - Processing Batch {batch_number}/{num_batches} ({len(batch_docs)} chunks)...\")\n",
        "\n",
        "        if vector_store is None:\n",
        "            vector_store = FAISS.from_documents(batch_docs, azure_embeddings)\n",
        "            print(\"    - Initial FAISS index created.\")\n",
        "        else:\n",
        "            vector_store.add_documents(batch_docs)\n",
        "            print(\"    - Batch added to existing FAISS index.\")\n",
        "\n",
        "        end_time = time.time()\n",
        "        print(f\"  - Batch {batch_number} finished in {end_time - start_time:.2f} seconds.\")\n",
        "\n",
        "    print(\"\\nAll batches have been processed and embedded.\")\n",
        "    vector_store.save_local(\"faiss_index_release_notes\")\n",
        "    print(\"Vector store saved to Colab's local directory: 'faiss_index_release_notes'\")\n",
        "else:\n",
        "    print(\"No documents were processed. Skipping embedding process.\")"
      ],
      "metadata": {
        "colab": {
          "base_uri": "https://localhost:8080/"
        },
        "id": "e4hP5n4rcf-0",
        "outputId": "eb5af000-32a2-4f90-8b4d-8446e2de218c"
      },
      "execution_count": 39,
      "outputs": [
        {
          "output_type": "stream",
          "name": "stdout",
          "text": [
            "Initializing Azure OpenAI Embeddings model...\n",
            "Embedding model initialized.\n",
            "\n",
            "Starting embedding process for 621 PROCESSED chunks in 1 batches...\n",
            "  - Processing Batch 1/1 (621 chunks)...\n",
            "    - Initial FAISS index created.\n",
            "  - Batch 1 finished in 4.52 seconds.\n",
            "\n",
            "All batches have been processed and embedded.\n",
            "Vector store saved to Colab's local directory: 'faiss_index_release_notes'\n"
          ]
        }
      ]
    },
    {
      "cell_type": "markdown",
      "source": [
        "## Initialize RAG System"
      ],
      "metadata": {
        "id": "8LEmLq62crvs"
      }
    },
    {
      "cell_type": "markdown",
      "source": [
        "### Initialize LLM"
      ],
      "metadata": {
        "id": "tlquOq0Jcyli"
      }
    },
    {
      "cell_type": "code",
      "source": [
        "from langchain_openai import AzureChatOpenAI\n",
        "\n",
        "# Ensure the vector_store was created before proceeding\n",
        "if 'vector_store' in locals() and vector_store is not None:\n",
        "    print(\"Initializing Azure Chat LLM...\")\n",
        "    llm = AzureChatOpenAI(\n",
        "        azure_deployment=os.getenv(\"AZURE_OPENAI_CHAT_DEPLOYMENT_NAME\"),\n",
        "        api_version=os.getenv(\"AZURE_OPENAI_API_VERSION\"),\n",
        "        temperature=0.0, # Set to 0 for more factual, deterministic answers\n",
        "        max_tokens=500\n",
        "    )\n",
        "    print(\"LLM initialized.\")\n",
        "\n",
        "    # Increase k from 4 to 8 to retrieve a wider range of documents.\n",
        "    retriever = vector_store.as_retriever(search_kwargs={'k': 8})\n",
        "    print(\"Retriever created (k=8).\")\n",
        "else:\n",
        "    print(\"Vector store not available. Cannot initialize retriever and LLM.\")"
      ],
      "metadata": {
        "colab": {
          "base_uri": "https://localhost:8080/"
        },
        "id": "u8OuXpE_cuaY",
        "outputId": "6139dbe5-c0c7-4b52-8567-dcaed0dad306"
      },
      "execution_count": 40,
      "outputs": [
        {
          "output_type": "stream",
          "name": "stdout",
          "text": [
            "Initializing Azure Chat LLM...\n",
            "LLM initialized.\n",
            "Retriever created (k=8).\n"
          ]
        }
      ]
    },
    {
      "cell_type": "markdown",
      "source": [
        "### RAG Chain"
      ],
      "metadata": {
        "id": "q5iHuT-odDxf"
      }
    },
    {
      "cell_type": "code",
      "source": [
        "from langchain.prompts import PromptTemplate\n",
        "from langchain_core.runnables import RunnablePassthrough\n",
        "from langchain_core.output_parsers import StrOutputParser\n",
        "\n",
        "# This prompt remains the same.\n",
        "prompt_template = \"\"\"\n",
        "You are an intelligent assistant for querying software release notes.\n",
        "Use only the following retrieved context to answer the user's question. If the question is in Indonesian, please answer in Indonesian.\n",
        "If you don't have enough information from the context for a specific topic, state that clearly for that topic and answer the rest.\n",
        "Do not make up information. Be concise and helpful.\n",
        "\n",
        "Context:\n",
        "{context}\n",
        "\n",
        "Question:\n",
        "{question}\n",
        "\n",
        "Answer:\n",
        "\"\"\"\n",
        "\n",
        "prompt = PromptTemplate(\n",
        "    template=prompt_template,\n",
        "    input_variables=[\"context\", \"question\"]\n",
        ")\n",
        "\n",
        "# Helper function to format the retrieved documents\n",
        "def format_docs(docs):\n",
        "    return \"\\n\\n\".join(f\"Source: {doc.metadata.get('source', 'N/A')}\\nDate: {doc.metadata.get('release_date', 'N/A')}\\nContent: {doc.page_content}\" for doc in docs)\n",
        "\n",
        "rag_chain = (\n",
        "    {\n",
        "        \"context\": query_rewriter | retriever | format_docs,\n",
        "        \"question\": RunnablePassthrough()\n",
        "    }\n",
        "    | prompt\n",
        "    | llm\n",
        "    | StrOutputParser()\n",
        ")\n",
        "\n",
        "print(\"Final RAG chain with constrained rewriting created. Ready to answer questions.\")"
      ],
      "metadata": {
        "colab": {
          "base_uri": "https://localhost:8080/"
        },
        "id": "YyzdUiZNdEy4",
        "outputId": "8c1cefee-3c8e-4e99-9be0-dbc201a1ae69"
      },
      "execution_count": 45,
      "outputs": [
        {
          "output_type": "stream",
          "name": "stdout",
          "text": [
            "Final RAG chain with constrained rewriting created. Ready to answer questions.\n"
          ]
        }
      ]
    },
    {
      "cell_type": "markdown",
      "source": [
        "## LLM Testing"
      ],
      "metadata": {
        "id": "2A5NwDmsdPb8"
      }
    },
    {
      "cell_type": "code",
      "source": [
        "if 'rag_chain' in locals() and 'prompt_template' in locals() and 'query_rewriter' in locals():\n",
        "    print(\"RAG System initialized. You can now ask questions about the release notes.\")\n",
        "    print(\"Type 'quit' to exit.\")\n",
        "\n",
        "    while True:\n",
        "        # --- Get user input for the query ---\n",
        "        query = input(\"Enter your query: \")\n",
        "\n",
        "        if query.lower() == 'quit':\n",
        "            print(\"Exiting the query loop.\")\n",
        "            break\n",
        "\n",
        "        print(f\"Question: {query}\")\n",
        "\n",
        "        try:\n",
        "            # Invoke the full chain\n",
        "            answer = rag_chain.invoke(query)\n",
        "\n",
        "            print(\"\\nAnswer:\")\n",
        "            print(answer)\n",
        "            print(\"-\" * 50) # Separator for next query\n",
        "        except Exception as e:\n",
        "            print(f\"An error occurred during processing: {e}\")\n",
        "            print(\"-\" * 50) # Separator even on error\n",
        "\n",
        "else:\n",
        "    print(\"Cannot run tests because the RAG chain or required components were not created.\")"
      ],
      "metadata": {
        "colab": {
          "base_uri": "https://localhost:8080/"
        },
        "id": "5BaYUi7xdQ8L",
        "outputId": "d62193d3-2318-41ec-ef80-ae4dad8c8942"
      },
      "execution_count": 46,
      "outputs": [
        {
          "output_type": "stream",
          "name": "stdout",
          "text": [
            "RAG System initialized. You can now ask questions about the release notes.\n",
            "Type 'quit' to exit.\n",
            "Enter your query: Hi, what is the latest releases from SimpliDots and LangFlow?\n",
            "Question: Hi, what is the latest releases from SimpliDots and LangFlow?\n",
            "\n",
            "Answer:\n",
            "The latest releases are:\n",
            "\n",
            "**SimpliDOTS:**\n",
            "- Pembaharuan SFA versi 3.2.7 - [26 March 2025]\n",
            "\n",
            "**LangFlow:**\n",
            "- Release on 2025-07-08, including multiple fixes such as bug fixes for simple flows with Loop, error width limitation, and updates to the Youtube Analysis template error message.\n",
            "--------------------------------------------------\n",
            "Enter your query: Can you explain what is the releases for?\n",
            "Question: Can you explain what is the releases for?\n",
            "\n",
            "Answer:\n",
            "The releases mentioned in the context are updates or new versions of software tools and applications. Here is a summary of the releases:\n",
            "\n",
            "1. **Langflow Releases**:\n",
            "   - Versions such as 1.1.2, 1.1.3, 1.1.4, and 1.3.4 are updates to the Langflow software. However, the specific details of these releases are not provided in the context.\n",
            "\n",
            "2. **SFA (Sales Force Automation) Version 3.1.1**:\n",
            "   - This release includes performance improvements for creating sales orders, better data sorting for customer pages, a default setting for invoice history, and optimized image processing.\n",
            "\n",
            "3. **Anthropic API Releases**:\n",
            "   - Updates include new tools like text editors, increased rate limits for models, model retirements, new features like search result content blocks, fine-grained tool streaming, and the launch of advanced models such as Claude Opus 4 and Claude Sonnet 4.\n",
            "\n",
            "If you need details about a specific release, please specify, and I will provide the information available in the context.\n",
            "--------------------------------------------------\n",
            "Enter your query: Provide me with all releases from SimpliDots in 2025!\n",
            "Question: Provide me with all releases from SimpliDots in 2025!\n",
            "\n",
            "Answer:\n",
            "Berikut adalah semua rilis fitur dari SimpliDOTS pada tahun 2025:\n",
            "\n",
            "1. **[Beta] Integrasi Sales Invoice SimpliDOTS x Accurate Online** - 17 Juli 2025  \n",
            "2. **Live Mode Kini Dilengkapi Opsi Reset atau Tidak Reset Data** - 31 Juli 2025  \n",
            "3. **Penambahan Fitur Log Activity, Pengaturan Quantity, Jam Mulai dan Akhir Promo** - 30 April 2025  \n",
            "4. **Penambahan Fitur Customer Limit** - 19 Mei 2025  \n",
            "5. **Penambahan Fitur Edit Warehouse & Bulk Transfer Stock** - 25 Maret 2025  \n",
            "6. **Penambahan Fitur Impor dan Ekspor Stok** - 20 Maret 2025  \n",
            "7. **Custom Mapping Delivery Summary (DS)** - 3 Maret 2025  \n",
            "8. **Penambahan Tampilan Peta Sebelum Check-in** - 26 Januari 2025  \n",
            "\n",
            "Semoga informasi ini membantu!\n",
            "--------------------------------------------------\n",
            "Enter your query: Apa ya pembaruan di release Custom Mapping Delivery Summary (DS) \n",
            "Question: Apa ya pembaruan di release Custom Mapping Delivery Summary (DS) \n",
            "\n",
            "Answer:\n",
            "Pembaruan pada release **Custom Mapping Delivery Summary (DS)** tanggal 3 Maret 2025 adalah sebagai berikut:\n",
            "\n",
            "**Fitur Baru:**\n",
            "- **Custom Mapping DS** memungkinkan penyesuaian layout ekspor Delivery Summary (DS) sesuai kebutuhan pengguna.\n",
            "- Pengguna dapat:\n",
            "  - Menyesuaikan kolom/properti ekspor.\n",
            "  - Mengganti nama kolom dan nama sheet.\n",
            "  - Menyesuaikan urutan kolom dan jumlah sheet dalam file ekspor.\n",
            "\n",
            "**Contoh Perubahan:**\n",
            "1. **Pemisahan Data per Baris:**\n",
            "   - Sebelumnya, nomor DO dipisah dengan koma.\n",
            "   - Sekarang, nomor DO dipisahkan per baris.\n",
            "2. **Rename Nama Kolom:**\n",
            "   - Kolom \"Date\" dapat diubah menjadi \"Tgl\".\n",
            "3. **Rename Nama Sheet:**\n",
            "   - Dari 4 sheet menjadi hanya 1 sheet.\n",
            "4. **Penambahan Kolom:**\n",
            "   - Kolom baru seperti \"DeliverySummaryNo\" dapat ditambahkan.\n",
            "\n",
            "**Limitasi:**\n",
            "- Data yang dapat diekspor atau dikustomisasi harus sesuai dengan yang tersedia di sistem SimpliDOTS.\n",
            "\n",
            "Jika membutuhkan bantuan lebih lanjut, pengguna dapat menghubungi tim support SimpliDOTS.\n",
            "--------------------------------------------------\n",
            "Enter your query: quit\n",
            "Exiting the query loop.\n"
          ]
        }
      ]
    },
    {
      "cell_type": "code",
      "source": [
        "if 'rag_chain' in locals() and 'prompt_template' in locals() and 'query_rewriter' in locals():\n",
        "    print(\"RAG System initialized. You can now ask questions about the release notes.\")\n",
        "    print(\"Type 'quit' to exit.\")\n",
        "\n",
        "    while True:\n",
        "        # --- Get user input for the query ---\n",
        "        query = input(\"Enter your query: \")\n",
        "\n",
        "        if query.lower() == 'quit':\n",
        "            print(\"Exiting the query loop.\")\n",
        "            break\n",
        "\n",
        "        print(f\"Question: {query}\")\n",
        "\n",
        "        try:\n",
        "            # Invoke the full chain\n",
        "            answer = rag_chain.invoke(query)\n",
        "\n",
        "            print(\"\\nAnswer:\")\n",
        "            print(answer)\n",
        "            print(\"-\" * 50) # Separator for next query\n",
        "        except Exception as e:\n",
        "            print(f\"An error occurred during processing: {e}\")\n",
        "            print(\"-\" * 50) # Separator even on error\n",
        "\n",
        "else:\n",
        "    print(\"Cannot run tests because the RAG chain or required components were not created.\")\n",
        ""
      ],
      "metadata": {
        "colab": {
          "base_uri": "https://localhost:8080/"
        },
        "id": "V_UQxuxg0pKQ",
        "outputId": "bcd36b47-c0c4-41d2-dd8f-b3b21440da02"
      },
      "execution_count": 47,
      "outputs": [
        {
          "output_type": "stream",
          "name": "stdout",
          "text": [
            "RAG System initialized. You can now ask questions about the release notes.\n",
            "Type 'quit' to exit.\n",
            "Enter your query: Apa release terbaru dari Anthropic?\n",
            "Question: Apa release terbaru dari Anthropic?\n",
            "\n",
            "Answer:\n",
            "Release terbaru dari Anthropic adalah pada tanggal 28 Juli 2025, di mana mereka merilis **text_editor_20250728**, sebuah alat editor teks yang diperbarui. Alat ini memperbaiki beberapa masalah dari versi sebelumnya dan menambahkan parameter opsional **max_characters** yang memungkinkan pengguna mengontrol panjang pemotongan saat melihat file besar.\n",
            "--------------------------------------------------\n",
            "Enter your query: Lalu apa aja release note mereka pada tahun 2025 ini?\n",
            "Question: Lalu apa aja release note mereka pada tahun 2025 ini?\n",
            "\n",
            "Answer:\n",
            "Berikut adalah ringkasan release note dari tahun 2025:\n",
            "\n",
            "**Anthropic API:**\n",
            "1. **Juli 2025:**\n",
            "   - **28 Juli:** Rilis *text_editor_20250728* dengan parameter opsional *max_characters* untuk mengontrol panjang pemotongan file besar.\n",
            "   - **24 Juli:** Peningkatan *rate limits* untuk Claude Opus 4.\n",
            "   - **21 Juli:** Claude 2.0, Claude 2.1, dan Claude Sonnet 3 dihentikan.\n",
            "   - **17 Juli:** Peningkatan *rate limits* untuk Claude Sonnet 4.\n",
            "   - **3 Juli:** Fitur *search result content blocks* diluncurkan dalam versi beta.\n",
            "   \n",
            "2. **Juni 2025:**\n",
            "   - **30 Juni:** Claude Opus 3 diumumkan akan dihentikan.\n",
            "   - **23 Juni:** Pengguna dengan peran *Developer* di Console kini dapat mengakses halaman *Cost*.\n",
            "   - **11 Juni:** Fitur *fine-grained tool streaming* diluncurkan dalam versi beta.\n",
            "\n",
            "3. **Mei 2025:**\n",
            "   - **21 Mei:** Fitur *interleaved thinking*, *Files API*, dan *Code execution tool* diluncurkan dalam versi beta. SDK Go dan Ruby dipindahkan ke GA.\n",
            "   - **7 Mei:** Alat pencarian web diluncurkan di API.\n",
            "\n",
            "4. **April 2025:**\n",
            "   - **30 April:** Penambahan fitur log aktivitas, pengaturan kuantitas, dan jam mulai/akhir promo di SMH.\n",
            "\n",
            "5. **Maret 2025:**\n",
            "   - **25 Maret:** Penambahan fitur edit gudang dan transfer stok massal di SMH.\n",
            "   - **3 Maret:** Fitur *Custom Mapping Delivery Summary (DS)* dan *Open API Stock dan Unit* diluncurkan di SMH.\n",
            "\n",
            "6. **Februari 2025:**\n",
            "   - **24 Februari:** Claude Sonnet 3.7 diluncurkan dengan kemampuan berpikir cepat atau langkah demi langkah. Dukungan visi ditambahkan ke Claude Haiku 3.5.\n",
            "\n",
            "Jika Anda membutuhkan detail lebih lanjut tentang salah satu poin di atas, silakan beri tahu!\n",
            "--------------------------------------------------\n",
            "Enter your query: quit\n",
            "Exiting the query loop.\n"
          ]
        }
      ]
    },
    {
      "cell_type": "code",
      "source": [],
      "metadata": {
        "id": "ox5cv2zhx46C"
      },
      "execution_count": null,
      "outputs": []
    }
  ]
}